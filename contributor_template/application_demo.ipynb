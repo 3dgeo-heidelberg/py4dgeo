{
 "cells": [
  {
   "cell_type": "markdown",
   "source": [
    "<div style=\"color:red\">\n",
    "# Application Demo Template - please delete this cell in the final version\n",
    "\n",
    "This template is for showcasing the use of a method or new analysis/approach/use case based on py4dgeo functionality. Featuring an analysis related to your latest publication is very welcome.\n",
    "\n",
    "Please fill in all available metadata and follow the template as closely as possible when preparing your contents. Modifications and extensions to enhance presentation of your application demo are possible, if suitable. Once ready, the notebook will be checked in the review process of the pull request.\n",
    "\n",
    "Best of success and thank you for contributing to the open-source research software `py4dgeo`!\n",
    "<\\div>\n"
   ],
   "metadata": {
    "collapsed": false
   },
   "id": "40a75d930f7cdc62"
  },
  {
   "cell_type": "markdown",
   "id": "2",
   "metadata": {},
   "source": [
    "# Title: Method/Application Name\n",
    "\n",
    "Replace this with a short decription of the method.\n",
    "\n",
    "Implemented in: `py4dgeo.my_method`  \n",
    "\n",
    "**Author(s)** \n",
    "\n",
    "[Author 1 Name](optional link to personal or group website) (Author 1 Institution), [Author 2 Name](optional link to personal or group website) (Author 2 Institution), ...\n",
    "\n",
    "**Related publication**\n",
    "\n",
    "If applicable, provide the full reference to the related scientific article. Otherwise remove this entry.\n",
    "\n",
    "**Related project**\n",
    "\n",
    "If applicable, add information about a related project; can also be used to mention funding sources. Otherwise remove this entry.\n",
    "\n",
    "\n"
   ]
  },
  {
   "cell_type": "markdown",
   "source": [
    "## Overview\n",
    "\n",
    "#### Method description\n",
    "This section should provide a practical explanation of the application:\n",
    "\n",
    "- **Purpose**: What problem does this method solve?\n",
    "- **Use cases**: What are typical scenarios where this method is useful?\n",
    "- **Workflow**: Describe the specific application demonstrated in this notebook.\n",
    "\n",
    "### Used datasets\n",
    "If you are introducing a **new method**, the test data must be made **publicly accessible** via:\n",
    "- EITHER a long-term repository with a stable DOI or repository link (e.g. https://zenodo.org/records/123456)  \n",
    "- OR it may be added to the [py4dgeo Zenodo dataset repository](https://zenodo.org/py4dgeo), please contact the development board to inquire about this possibility"
   ],
   "metadata": {
    "collapsed": false
   },
   "id": "8bf23a9bdaa7ea41"
  },
  {
   "cell_type": "markdown",
   "id": "3",
   "metadata": {},
   "source": [
    "## Workflow\n",
    "This section implements your method/application in a self-contained workflow from start (typically importing packages and loading data) to end (typically a nice visualization of results).\n",
    "You are free to add subsections to the different steps, as fits the presented workflow.\n",
    "Please add suitable explanations to all steps, so that the workflow can be followed without specific knowledge (e.g. meanings of parameters) from related literature."
   ]
  },
  {
   "cell_type": "code",
   "execution_count": null,
   "id": "4",
   "metadata": {},
   "outputs": [],
   "source": [
    "# Load Required Packages\n",
    "# [MANDATORY] Include your method and any py4dgeo dependencies\n",
    "from py4dgeo import your_module\n",
    "\n",
    "# Load Dataset\n",
    "# [TODO] Provide download / load logic"
   ]
  },
  {
   "cell_type": "markdown",
   "id": "5",
   "metadata": {},
   "source": [
    "Insert explanations about the method workflow and parameters."
   ]
  },
  {
   "cell_type": "code",
   "execution_count": null,
   "id": "6",
   "metadata": {},
   "outputs": [],
   "source": [
    "# Run the Method\n",
    "# [TODO] Call your method and describe parameters"
   ]
  },
  {
   "cell_type": "markdown",
   "id": "8",
   "metadata": {},
   "source": [
    "## References \n",
    "# TODO: add references here if applicable\n",
    "- [Author, A., & Author, B. (Year). *Title of paper*. *Journal Name*, Volume(Issue), pages. https://doi.org/xxx]      "
   ]
  },
  {
   "cell_type": "markdown",
   "id": "9",
   "metadata": {},
   "source": [
    "# ✅ Contributor Checklist\n",
    "(Remove this section in the final version)\n",
    "\n",
    "- [ ] This notebook runs start to finish.\n",
    "- [ ] Dataset is available via link to repository or DOI. \n",
    "- [ ] The method is clearly explained and properly cited.\n",
    "- [ ] Outputs are interpretable or visualized.\n",
    "\n",
    "Questions? Please refer to the contributor guide in the main `README.md` or open an issue on the issue tracker.\n"
   ]
  }
 ],
 "metadata": {
  "language_info": {
   "name": "python"
  }
 },
 "nbformat": 4,
 "nbformat_minor": 5
}
