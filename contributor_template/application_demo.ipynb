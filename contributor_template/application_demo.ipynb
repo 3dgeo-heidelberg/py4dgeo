{
 "cells": [
  {
   "cell_type": "code",
   "execution_count": null,
   "id": "0",
   "metadata": {},
   "outputs": [],
   "source": [
    "# Application Demo\n",
    "# This template is for application usage of a method."
   ]
  },
  {
   "cell_type": "code",
   "execution_count": null,
   "id": "1",
   "metadata": {},
   "outputs": [],
   "source": [
    "# TODO: Fill out the following metadata"
   ]
  },
  {
   "cell_type": "markdown",
   "id": "2",
   "metadata": {},
   "source": [
    "# Method Name\n",
    "\n",
    "Replace this with a short decription of the method.\n",
    "\n",
    "Implemented in: `py4dgeo.my_method`  \n",
    "\n",
    "#### Author(s) \n",
    "Author 1 Name (Author 1 Institution), Author 2 Name (Author 2 Institution), ...\n",
    "\n",
    "#### Related publication\n",
    "If applicable, provide the full reference to the related scientific article. Otherwise remove this subsection.\n",
    "\n",
    "#### Dataset requirement (info section, remove in final version)\n",
    "If you are introducing a **new method**, the test data must be made **publicly accessible** via:\n",
    "- EITHER a long-term repository with a stable DOI or repository link (e.g. https://zenodo.org/records/123456)  \n",
    "- OR it may be added to the [py4dgeo Zenodo dataset repository](https://zenodo.org/py4dgeo), please contact the development board to inquire about this possibility\n"
   ]
  },
  {
   "cell_type": "markdown",
   "id": "3",
   "metadata": {},
   "source": [
    "#### **Method description**: \n",
    "This section should provide a practical explanation of the application:\n",
    "\n",
    "- **Purpose**: What problem does this method solve?\n",
    "- **Use cases**: What are typical scenarios where this method is useful?\n",
    "- **Workflow**: Describe the specific application demonstrated in this notebook."
   ]
  },
  {
   "cell_type": "code",
   "execution_count": null,
   "id": "4",
   "metadata": {},
   "outputs": [],
   "source": [
    "# Load Required Packages\n",
    "# [MANDATORY] Include your method and any py4dgeo dependencies\n",
    "from py4dgeo import your_module\n",
    "\n",
    "# Load Dataset\n",
    "# [TODO] Provide download / load logic"
   ]
  },
  {
   "cell_type": "markdown",
   "id": "5",
   "metadata": {},
   "source": [
    "Insert explanations about the method workflow and parameters."
   ]
  },
  {
   "cell_type": "code",
   "execution_count": null,
   "id": "6",
   "metadata": {},
   "outputs": [],
   "source": [
    "# Run the Method\n",
    "# [TODO] Call your method and describe parameters"
   ]
  },
  {
   "cell_type": "code",
   "execution_count": null,
   "id": "7",
   "metadata": {},
   "outputs": [],
   "source": [
    "# TODO: add references here if applicable"
   ]
  },
  {
   "cell_type": "markdown",
   "id": "8",
   "metadata": {},
   "source": [
    "# References \n",
    "- [Author, A., & Author, B. (Year). *Title of paper*. *Journal Name*, Volume(Issue), pages. https://doi.org/xxx]      "
   ]
  },
  {
   "cell_type": "markdown",
   "id": "9",
   "metadata": {},
   "source": [
    "# ✅ Contributor Checklist\n",
    "\n",
    "- [ ] This notebook runs start to finish.\n",
    "- [ ] Dataset is available via link to repository or DOI. \n",
    "- [ ] The method is clearly explained and properly cited.\n",
    "- [ ] Outputs are interpretable or visualized.\n",
    "\n",
    "> Questions? Please refer to the contributor guide in the main `README.md`.\n"
   ]
  }
 ],
 "metadata": {
  "language_info": {
   "name": "python"
  }
 },
 "nbformat": 4,
 "nbformat_minor": 5
}
