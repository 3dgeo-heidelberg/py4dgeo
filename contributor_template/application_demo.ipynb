{
 "cells": [
  {
   "cell_type": "code",
   "execution_count": null,
   "id": "0",
   "metadata": {},
   "outputs": [],
   "source": [
    "# Application Demo\n",
    "# This template is for application usage of a method."
   ]
  },
  {
   "cell_type": "code",
   "execution_count": null,
   "id": "1",
   "metadata": {},
   "outputs": [],
   "source": [
    "# TODO: Fill out the following metadata"
   ]
  },
  {
   "cell_type": "markdown",
   "id": "2",
   "metadata": {},
   "source": [
    "# Method Name: `MyMethod`  \n",
    "## Subtitle (if needed)\n",
    "#### **Implemented in**: `py4dgeo.changes.my_method`  \n",
    "#### **Author(s)**: Your Name (Your Institution)  \n",
    "#### **Dataset Used**:  \n",
    "If you are introducing a **new method**, the input data **must be** made **publicly accessible** via:\n",
    "- A long-term repository with a stable DOI or repository link (e.g. https://zenodo.org/records/123456)  \n",
    "- OR: If your dataset is not yet publicly accessible, it may be added to the [py4dgeo Zenodo dataset repository](https://zenodo.org/py4dgeo)\n",
    "\n",
    "#### **Method description**: \n",
    "This section should provide a practical explanation of the application:\n",
    "\n",
    "- **Purpose**: What problem does this method solve?\n",
    "- **Use cases**: What are typical scenarios where this method is useful?\n",
    "- **Workflow**: Describe the specific application demonstrated in this notebook."
   ]
  },
  {
   "cell_type": "code",
   "execution_count": null,
   "id": "3",
   "metadata": {},
   "outputs": [],
   "source": [
    "# Load Required Packages\n",
    "# [MANDATORY] Include your method and any py4dgeo dependencies\n",
    "from py4dgeo import your_module\n",
    "\n",
    "# Load Dataset\n",
    "# [TODO] Provide download / load logic"
   ]
  },
  {
   "cell_type": "code",
   "execution_count": null,
   "id": "4",
   "metadata": {},
   "outputs": [],
   "source": [
    "# Run the Method\n",
    "# [TODO] Call your method and describe parameters"
   ]
  },
  {
   "cell_type": "code",
   "execution_count": null,
   "id": "5",
   "metadata": {},
   "outputs": [],
   "source": [
    "# TODO: add references here if applicable"
   ]
  },
  {
   "cell_type": "markdown",
   "id": "6",
   "metadata": {},
   "source": [
    "# References \n",
    "- [Author, A., & Author, B. (Year). *Title of paper*. *Journal Name*, Volume(Issue), pages. https://doi.org/xxx]      "
   ]
  },
  {
   "cell_type": "markdown",
   "id": "7",
   "metadata": {},
   "source": [
    "# ✅ Contributor Checklist\n",
    "\n",
    "- [ ] This notebook runs start to finish.\n",
    "- [ ] Dataset is available via link to repository or DOI. \n",
    "- [ ] The method is clearly explained and properly cited.\n",
    "- [ ] Outputs are interpretable or visualized.\n",
    "\n",
    "> Questions? Please refer to the contributor guide in the main `README.md`.\n"
   ]
  }
 ],
 "metadata": {
  "language_info": {
   "name": "python"
  }
 },
 "nbformat": 4,
 "nbformat_minor": 5
}
