{
 "cells": [
  {
   "cell_type": "code",
   "execution_count": null,
   "id": "0",
   "metadata": {},
   "outputs": [],
   "source": [
    "# Basic Usage Demo\n",
    "# This template is for detailed documentation of a method,\n",
    "# including its purpose, parameters, and usage examples."
   ]
  },
  {
   "cell_type": "code",
   "execution_count": null,
   "id": "1",
   "metadata": {},
   "outputs": [],
   "source": [
    "# TODO: Fill out the following metadata"
   ]
  },
  {
   "cell_type": "markdown",
   "id": "2",
   "metadata": {},
   "source": [
    " # Method Name\n",
    " \n",
    "Replace this with a short decription of the method.\n",
    "\n",
    "Implemented in: `py4dgeo.my_method`  \n",
    "\n",
    "#### Author(s) \n",
    "Author 1 Name (Author 1 Institution), Author 2 Name (Author 2 Institution), ...\n",
    "\n",
    "#### Related publication\n",
    "If applicable, provide the full reference to the related scientific article. Otherwise remove this subsection.\n",
    "\n",
    "#### Dataset requirement (info section, remove in final version)\n",
    "If you are introducing a **new method**, the test data must be made **publicly accessible** via:\n",
    "- EITHER a long-term repository with a stable DOI or repository link (e.g. https://zenodo.org/records/123456)  \n",
    "- OR it may be added to the [py4dgeo Zenodo dataset repository](https://zenodo.org/py4dgeo), please contact the development board to inquire about this possibility"
   ]
  },
  {
   "cell_type": "markdown",
   "source": [
    "#### **Method description**\n",
    "This section should provide a detailed technical explanation of the method:\n",
    "\n",
    "- **Theoretical foundation**: Include the theoretical background behind the method.\n",
    "- **Algorithm**: Provide a detailed explanation of what the method does and its purpose. Outline the step-by-step process the algorithm follows.\n",
    "\n",
    "- **Key parameters**: Explain the key parameters of your method and their impact on results.\n",
    "- Explain how to interpret the results and what the visualizations show (if applicable)."
   ],
   "metadata": {
    "collapsed": false
   },
   "id": "d23e5075fd6fad9c"
  },
  {
   "cell_type": "code",
   "execution_count": null,
   "id": "3",
   "metadata": {},
   "outputs": [],
   "source": [
    "# Load Required Packages\n",
    "# [MANDATORY] Include your method and any py4dgeo dependencies\n",
    "from py4dgeo import your_module\n",
    "\n",
    "# Load Dataset\n",
    "# [TODO] Provide download / load logic"
   ]
  },
  {
   "cell_type": "markdown",
   "source": [
    "Insert explanations about the method workflow and parameters."
   ],
   "metadata": {
    "collapsed": false
   },
   "id": "a20e52af5ce11453"
  },
  {
   "cell_type": "code",
   "execution_count": null,
   "id": "4",
   "metadata": {},
   "outputs": [],
   "source": [
    "# Run the Method\n",
    "# [TODO] Call your method and describe parameters"
   ]
  },
  {
   "cell_type": "code",
   "execution_count": null,
   "id": "5",
   "metadata": {},
   "outputs": [],
   "source": [
    "# TODO: add references here if applicable"
   ]
  },
  {
   "cell_type": "markdown",
   "id": "6",
   "metadata": {},
   "source": [
    "# References\n",
    "- [Author, A., & Author, B. (Year). *Title of paper*. *Journal Name*, Volume(Issue), pages. https://doi.org/xxx]    "
   ]
  },
  {
   "cell_type": "markdown",
   "id": "7",
   "metadata": {},
   "source": [
    "## ✅ Contributor Checklist\n",
    "\n",
    "- [ ] This notebook runs start to finish without errors\n",
    "- [ ] Dataset is available via link to repository or DOI\n",
    "- [ ] All method parameters are clearly explained\n",
    "- [ ] The algorithm is thoroughly explained with appropriate theoretical background\n",
    "- [ ] Results are visualized and properly interpreted (if applicable)\n",
    "- [ ] All references are properly cited\n",
    "\n",
    "> Questions? Please refer to the contributor guide in the main `README.md` or open an issue on GitHub.\n"
   ]
  }
 ],
 "metadata": {
  "language_info": {
   "name": "python"
  }
 },
 "nbformat": 4,
 "nbformat_minor": 5
}
