{
 "cells": [
  {
   "cell_type": "markdown",
   "id": "0",
   "metadata": {},
   "source": [
    "# Basic Usage: MyMethod\n"
   ]
  },
  {
   "cell_type": "code",
   "execution_count": null,
   "id": "1",
   "metadata": {
    "vscode": {
     "languageId": "plaintext"
    }
   },
   "outputs": [],
   "source": [
    "# TODO: Fill out the following metadata"
   ]
  },
  {
   "cell_type": "markdown",
   "id": "2",
   "metadata": {},
   "source": [
    "**Method Name**: `MyMethod`  \n",
    "**Implemented in**: `py4dgeo.changes.my_method`  \n",
    "**Author(s)**: Your Name (Your Institution)  \n",
    "**Reference**: \n",
    "Smith, J., & Doe, A. (2023). *MyMethod: A new way to detect change*.  *Remote Sensing Journal*, 12(3), 123–145. [https://doi.org/xxx](https://doi.org/xxx)    \n",
    "\n",
    "**Dataset Used**:  \n",
    "If you are introducing a **new method**, the input data **must be** made **publicly accessible** via:\n",
    "- A long-term repository with a stable DOI or repository link (e.g. https://zenodo.org/records/123456)  \n",
    "- OR: If your dataset is not yet publicly accessible, it may be added to the [py4dgeo Zenodo dataset repository](https://zenodo.org/py4dgeo)\n",
    "\n",
    "**Method description**: (e.g. This method detects changes in point clouds using a novel algorithm.)"
   ]
  },
  {
   "cell_type": "code",
   "execution_count": null,
   "id": "3",
   "metadata": {
    "vscode": {
     "languageId": "plaintext"
    }
   },
   "outputs": [],
   "source": [
    "# Load Required Packages\n",
    "# [MANDATORY] Include your method and any py4dgeo dependencies\n",
    "from py4dgeo import your_module\n",
    "\n",
    "# Load Dataset\n",
    "# [TODO] Provide download / load logic"
   ]
  },
  {
   "cell_type": "code",
   "execution_count": null,
   "id": "4",
   "metadata": {
    "vscode": {
     "languageId": "plaintext"
    }
   },
   "outputs": [],
   "source": [
    "# Run the Method\n",
    "# [TODO] Call your method and describe parameters"
   ]
  },
  {
   "cell_type": "markdown",
   "id": "5",
   "metadata": {},
   "source": [
    "## References"
   ]
  },
  {
   "cell_type": "code",
   "execution_count": null,
   "id": "6",
   "metadata": {
    "vscode": {
     "languageId": "plaintext"
    }
   },
   "outputs": [],
   "source": [
    "# TODO: add references here if applicable"
   ]
  },
  {
   "cell_type": "markdown",
   "id": "7",
   "metadata": {},
   "source": [
    "Smith, J., & Doe, A. (2023). *MyMethod: A new way to detect change*.  *Remote Sensing Journal*, 12(3), 123–145. [https://doi.org/xxx](https://doi.org/xxx)    \n"
   ]
  },
  {
   "cell_type": "markdown",
   "id": "8",
   "metadata": {},
   "source": [
    "## ✅ Contributor Checklist\n",
    "\n",
    "- [ ] This notebook runs start to finish.\n",
    "- [ ] Dataset is available via link to repository or doi. \n",
    "- [ ] The method is clearly explained and properly cited.\n",
    "- [ ] Outputs are interpretable or visualized.\n",
    "\n",
    "> Questions? Please refer to the contributor guide in the main `README.md`.\n"
   ]
  }
 ],
 "metadata": {
  "language_info": {
   "name": "python"
  }
 },
 "nbformat": 4,
 "nbformat_minor": 5
}
