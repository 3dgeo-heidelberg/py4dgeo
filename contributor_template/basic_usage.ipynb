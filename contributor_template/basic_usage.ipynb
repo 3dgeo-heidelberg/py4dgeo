{
 "cells": [
  {
   "cell_type": "code",
   "execution_count": null,
   "id": "0",
   "metadata": {},
   "outputs": [],
   "source": [
    "# Basic Usage Demo\n",
    "# This template is for detailed documentation of a method,\n",
    "# including its purpose, parameters, and usage examples."
   ]
  },
  {
   "cell_type": "code",
   "execution_count": null,
   "id": "1",
   "metadata": {},
   "outputs": [],
   "source": [
    "# TODO: Fill out the following metadata"
   ]
  },
  {
   "cell_type": "markdown",
   "id": "2",
   "metadata": {},
   "source": [
    " # Method Name: `MyMethod`\n",
    "## Subtitle (if needed)\n",
    "\n",
    "#### **Implemented in**: `py4dgeo.changes.my_method`  \n",
    "#### **Author(s)**: Your Name (Your Institution)  \n",
    "#### **Dataset Used**:  \n",
    "If you are introducing a **new method**, the input data **must be** made **publicly accessible** via:\n",
    "- A long-term repository with a stable DOI or repository link (e.g. https://zenodo.org/records/123456)  \n",
    "- OR: If your dataset is not yet publicly accessible, it may be added to the [py4dgeo Zenodo dataset repository](https://zenodo.org/py4dgeo)\n",
    "\n",
    "#### **Method description**: \n",
    "This section should provide a detailed technical explanation of the method:\n",
    "\n",
    "- **Theoretical foundation**: Include the theoretical background behind the method.\n",
    "- **Algorithm**: Provide a detailed explanation of what the method does and its purpose. Outline the step-by-step process the algorithm follows.\n",
    "\n",
    "- **Key parameters**: Explain the key parameters of your method and their impact on results.\n",
    "- Explain how to interpret the results and what the visualizations show (if applicable)."
   ]
  },
  {
   "cell_type": "code",
   "execution_count": null,
   "id": "3",
   "metadata": {},
   "outputs": [],
   "source": [
    "# Load Required Packages\n",
    "# [MANDATORY] Include your method and any py4dgeo dependencies\n",
    "from py4dgeo import your_module\n",
    "\n",
    "# Load Dataset\n",
    "# [TODO] Provide download / load logic"
   ]
  },
  {
   "cell_type": "code",
   "execution_count": null,
   "id": "4",
   "metadata": {},
   "outputs": [],
   "source": [
    "# Run the Method\n",
    "# [TODO] Call your method and describe parameters"
   ]
  },
  {
   "cell_type": "code",
   "execution_count": null,
   "id": "5",
   "metadata": {},
   "outputs": [],
   "source": [
    "# TODO: add references here if applicable"
   ]
  },
  {
   "cell_type": "markdown",
   "id": "6",
   "metadata": {},
   "source": [
    "# References\n",
    "- [Author, A., & Author, B. (Year). *Title of paper*. *Journal Name*, Volume(Issue), pages. https://doi.org/xxx]    "
   ]
  },
  {
   "cell_type": "markdown",
   "id": "7",
   "metadata": {},
   "source": [
    "## ✅ Contributor Checklist\n",
    "\n",
    "- [ ] This notebook runs start to finish without errors\n",
    "- [ ] Dataset is available via link to repository or DOI\n",
    "- [ ] All method parameters are clearly explained\n",
    "- [ ] The algorithm is thoroughly explained with appropriate theoretical background\n",
    "- [ ] Results are visualized and properly interpreted (if applicable)\n",
    "- [ ] All references are properly cited\n",
    "\n",
    "> Questions? Please refer to the contributor guide in the main `README.md` or open an issue on GitHub.\n"
   ]
  }
 ],
 "metadata": {
  "language_info": {
   "name": "python"
  }
 },
 "nbformat": 4,
 "nbformat_minor": 5
}
