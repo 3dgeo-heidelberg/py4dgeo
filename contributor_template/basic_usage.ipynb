{
 "cells": [
  {
   "cell_type": "markdown",
   "id": "0",
   "metadata": {},
   "source": [
    "<div style=\"color:red\">\n",
    "\n",
    "# Basic Usage Demo Template - please delete this cell in the final version\n",
    "\n",
    "This template is for detailed documentation of an implemented method, including its purpose, parameters, and usage examples. \n",
    "\n",
    "Please fill in all available metadata and follow the template as closely as possible when preparing your contents. Modifications and extensions to enhance presentation of your application demo are possible, if suitable. Once ready, the implemented method and notebook will be checked in the review process of the pull request.\n",
    "\n",
    "Best of success and thank you for contributing to the open-source research software `py4dgeo`!\n",
    "\n",
    "</div>\n"
   ]
  },
  {
   "cell_type": "markdown",
   "id": "1",
   "metadata": {},
   "source": [
    " # Title: Method Name\n",
    " \n",
    "Replace this with a short decription of the method.\n",
    "\n",
    "Implemented in: `py4dgeo.my_method`  \n",
    "\n",
    "**Author(s)** \n",
    "\n",
    "[Author 1 Name](optional link to personal or group website) (Author 1 Institution), [Author 2 Name](optional link to personal or group website) (Author 2 Institution), ...\n",
    "\n",
    "**Related publication**\n",
    "\n",
    "If applicable, provide the full reference to the related scientific article. Otherwise remove this entry.\n",
    "\n",
    "**Related project**\n",
    "\n",
    "If applicable, add information about a related project; can also be used to mention funding sources. Otherwise remove this entry."
   ]
  },
  {
   "cell_type": "markdown",
   "id": "2",
   "metadata": {},
   "source": [
    "## Dataset requirement (info section, please delete this cell in the final version)\n",
    "If you are introducing a **new method**, the test data must be made **publicly accessible** via:\n",
    "- EITHER a long-term repository with a stable DOI or repository link (e.g. https://zenodo.org/records/123456)  \n",
    "- OR it may be added to the [py4dgeo Zenodo dataset repository](https://zenodo.org/py4dgeo), please contact the development board to inquire about this possibility"
   ]
  },
  {
   "cell_type": "markdown",
   "id": "3",
   "metadata": {},
   "source": [
    "## **Method description**\n",
    "This section should provide a detailed technical explanation of the method:\n",
    "\n",
    "- **Theoretical foundation**: Include the theoretical background behind the method.\n",
    "- **Algorithm**: Provide a detailed explanation of what the method does and its purpose. Outline the step-by-step process the algorithm follows.\n",
    "\n",
    "- **Key parameters**: Explain the key parameters of your method and their impact on results.\n",
    "- Explain how to interpret the results and what the visualizations show (if applicable).\n",
    "\n"
   ]
  },
  {
   "cell_type": "code",
   "execution_count": null,
   "id": "4",
   "metadata": {},
   "outputs": [],
   "source": [
    "# Load Required Packages\n",
    "# [MANDATORY] Include your method and any py4dgeo dependencies\n",
    "from py4dgeo import your_module\n",
    "\n",
    "# Load Dataset\n",
    "# [TODO] Provide download / load logic"
   ]
  },
  {
   "cell_type": "markdown",
   "id": "5",
   "metadata": {},
   "source": [
    "Insert explanations about the method workflow and parameters."
   ]
  },
  {
   "cell_type": "code",
   "execution_count": null,
   "id": "6",
   "metadata": {},
   "outputs": [],
   "source": [
    "# Run the Method\n",
    "# [TODO] Call your method and describe parameters"
   ]
  },
  {
   "cell_type": "code",
   "execution_count": null,
   "id": "7",
   "metadata": {},
   "outputs": [],
   "source": [
    "# TODO: add references here if applicable"
   ]
  },
  {
   "cell_type": "markdown",
   "id": "8",
   "metadata": {},
   "source": [
    "## References\n",
    "- [Author, A., & Author, B. (Year). *Title of paper*. *Journal Name*, Volume(Issue), pages. https://doi.org/xxx]    "
   ]
  },
  {
   "cell_type": "markdown",
   "id": "9",
   "metadata": {},
   "source": [
    "## ✅ Contributor Checklist\n",
    "\n",
    "- [ ] This notebook runs start to finish without errors\n",
    "- [ ] Dataset is available via link to repository or DOI\n",
    "- [ ] All method parameters are clearly explained\n",
    "- [ ] The algorithm is thoroughly explained with appropriate theoretical background\n",
    "- [ ] Results are visualized and properly interpreted (if applicable)\n",
    "- [ ] All references are properly cited\n",
    "\n",
    "Questions? Please refer to the contributor guide in the main `README.md` or open an issue on the GitHub issue tracker.\n"
   ]
  }
 ],
 "metadata": {
  "kernelspec": {
   "display_name": "Python 3 (ipykernel)",
   "language": "python",
   "name": "python3"
  },
  "language_info": {
   "name": "python"
  }
 },
 "nbformat": 4,
 "nbformat_minor": 5
}
