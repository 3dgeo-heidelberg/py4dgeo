{
 "cells": [
  {
   "cell_type": "markdown",
   "id": "ef81055f-aeeb-410d-ad8b-4d7efeb23eb3",
   "metadata": {},
   "source": [
    "# Basic M3C2 algorithm"
   ]
  },
  {
   "cell_type": "markdown",
   "id": "3f9e6b1f-49c8-44f5-b5cf-3cecdb049458",
   "metadata": {},
   "source": [
    "This presents how the M3C2 base algorithm can be run using the `py4dgeo` package. As a first step, we import the `py4dgeo` package:"
   ]
  },
  {
   "cell_type": "code",
   "execution_count": null,
   "id": "2ea89a2d-204f-40f7-b3da-9b72f6f19e32",
   "metadata": {},
   "outputs": [],
   "source": [
    "import py4dgeo"
   ]
  },
  {
   "cell_type": "code",
   "execution_count": null,
   "id": "b1e82913-328b-499f-9735-25d390814d58",
   "metadata": {},
   "outputs": [],
   "source": []
  }
 ],
 "metadata": {
  "kernelspec": {
   "display_name": "Python 3",
   "language": "python",
   "name": "python3"
  },
  "language_info": {
   "codemirror_mode": {
    "name": "ipython",
    "version": 3
   },
   "file_extension": ".py",
   "mimetype": "text/x-python",
   "name": "python",
   "nbconvert_exporter": "python",
   "pygments_lexer": "ipython3",
   "version": "3.9.5"
  }
 },
 "nbformat": 4,
 "nbformat_minor": 5
}
