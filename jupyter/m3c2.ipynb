{
 "cells": [
  {
   "cell_type": "markdown",
   "id": "518a4160",
   "metadata": {},
   "source": [
    "# Basic M3C2 algorithm"
   ]
  },
  {
   "cell_type": "markdown",
   "id": "9e740558",
   "metadata": {},
   "source": [
    "This presents how the M3C2 algorithm ([Lague et al., 2013](#references)) for point cloud distance computation can be run using the `py4dgeo` package. As a first step, we import the `py4dgeo` and `numpy` packages:"
   ]
  },
  {
   "cell_type": "code",
   "execution_count": 1,
   "id": "3160ffab",
   "metadata": {},
   "outputs": [],
   "source": [
    "import numpy as np\n",
    "import py4dgeo"
   ]
  },
  {
   "cell_type": "markdown",
   "id": "d8f7981c-db87-4c18-bda3-d04a6f6e8306",
   "metadata": {},
   "source": [
    "For this demonstrator notebook, we download test data from the [py4dgeo test data repository](https://github.com/ssciwr/py4dgeo-test-data/). This is not required if you are working with your own data:"
   ]
  },
  {
   "cell_type": "code",
   "execution_count": 2,
   "id": "583b09db-8298-4c9a-87fe-a74c2df9ee2f",
   "metadata": {},
   "outputs": [],
   "source": [
    "py4dgeo.ensure_test_data_availability()"
   ]
  },
  {
   "cell_type": "markdown",
   "id": "974196ef",
   "metadata": {},
   "source": [
    "Next, we need to load two datasets that cover the same scene at two different points in time. Point cloud datasets are represented by `numpy` arrays of shape `n x 3` using a 64 bit floating point type (`np.float64`). Here, we work with a rather small synthetical data set:"
   ]
  },
  {
   "cell_type": "code",
   "execution_count": 3,
   "id": "c4b0a8c2",
   "metadata": {},
   "outputs": [
    {
     "name": "stdout",
     "output_type": "stream",
     "text": [
      "[2022-06-16 14:50:28][INFO] Reading point cloud from file 'C:\\Users\\k53\\AppData\\Local\\Temp\\tmpji4dkcsg\\plane_horizontal_t1.xyz'\n",
      "[2022-06-16 14:50:28][INFO] Determined coordinate offset as [0.         0.         3.50018554]\n",
      "[2022-06-16 14:50:28][INFO] Reading point cloud from file 'C:\\Users\\k53\\AppData\\Local\\Temp\\tmpji4dkcsg\\plane_horizontal_t2.xyz'\n"
     ]
    }
   ],
   "source": [
    "epoch1, epoch2 = py4dgeo.read_from_xyz(\n",
    "    \"plane_horizontal_t1.xyz\", \"plane_horizontal_t2.xyz\"\n",
    ")"
   ]
  },
  {
   "cell_type": "markdown",
   "id": "ea9d6ac1",
   "metadata": {},
   "source": [
    "The analysis of point cloud distances is executed on so-called *core points* (cf. Lague et al., 2013). These could be, e.g., one of the input point clouds, a subsampled version thereof, points in an equidistant grid, etc. Here, we choose a subsampling by taking every 50th point of the reference point cloud:"
   ]
  },
  {
   "cell_type": "code",
   "execution_count": 4,
   "id": "476ed5ed",
   "metadata": {},
   "outputs": [],
   "source": [
    "corepoints = epoch1.cloud[::50]"
   ]
  },
  {
   "cell_type": "markdown",
   "id": "253c3d6f",
   "metadata": {},
   "source": [
    "Next, we instantiate the algorithm class and run the distance calculation:"
   ]
  },
  {
   "cell_type": "code",
   "execution_count": 5,
   "id": "4d8d29a6",
   "metadata": {},
   "outputs": [
    {
     "name": "stdout",
     "output_type": "stream",
     "text": [
      "[2022-06-16 14:52:45][INFO] Building KDTree structure with leaf parameter 10\n",
      "[2022-06-16 14:52:45][INFO] Building KDTree structure with leaf parameter 10\n"
     ]
    }
   ],
   "source": [
    "m3c2 = py4dgeo.M3C2(\n",
    "    epochs=(epoch1, epoch2),\n",
    "    corepoints=corepoints,\n",
    "    cyl_radii=(2.0,),\n",
    "    normal_radii=(0.5, 1.0, 2.0),\n",
    ")\n",
    "\n",
    "distances, uncertainties = m3c2.run()"
   ]
  },
  {
   "cell_type": "markdown",
   "id": "275dbefe",
   "metadata": {},
   "source": [
    "The calculated result is an array  with one distance per core point. The order of distances corresponds exactly to the order of input core points."
   ]
  },
  {
   "cell_type": "code",
   "execution_count": 7,
   "id": "2e1fc7e3",
   "metadata": {},
   "outputs": [
    {
     "data": {
      "text/plain": [
       "array([-0.10269297, -0.09957772, -0.10179986, -0.10063675, -0.10091512,\n",
       "       -0.10070981, -0.09819643, -0.09926434, -0.09911222])"
      ]
     },
     "execution_count": 7,
     "metadata": {},
     "output_type": "execute_result"
    }
   ],
   "source": [
    "distances"
   ]
  },
  {
   "cell_type": "markdown",
   "id": "26cb83e5-abce-418b-b82f-a3b83c2419d2",
   "metadata": {},
   "source": [
    "Corresponding to the derived distances, an uncertainty array is returned which contains several quantities that can be accessed individually: The level of detection `lodetection`, the spread of the distance across points in either cloud (`spread1` and `spread2`, by default measured as the standard deviation of distances) and the total number of points taken into consideration in either cloud (`num_samples1` and `num_samples2`):"
   ]
  },
  {
   "cell_type": "code",
   "execution_count": 8,
   "id": "19ea92be-db25-4fe2-b5d8-5f46336b6651",
   "metadata": {},
   "outputs": [
    {
     "data": {
      "text/plain": [
       "array([0.00565384, 0.00181819, 0.00255157, 0.00332511, 0.00281475,\n",
       "       0.00299644, 0.00295429, 0.00199006, 0.0036077 ])"
      ]
     },
     "execution_count": 8,
     "metadata": {},
     "output_type": "execute_result"
    }
   ],
   "source": [
    "uncertainties[\"lodetection\"]"
   ]
  },
  {
   "cell_type": "code",
   "execution_count": 9,
   "id": "71885203-4171-449e-8be6-88ae2c9030b8",
   "metadata": {},
   "outputs": [
    {
     "data": {
      "text/plain": [
       "array([0.00417673, 0.00193209, 0.00203436, 0.00368965, 0.00259167,\n",
       "       0.00286324, 0.0032822 , 0.00247362, 0.00356988])"
      ]
     },
     "execution_count": 9,
     "metadata": {},
     "output_type": "execute_result"
    }
   ],
   "source": [
    "uncertainties[\"spread1\"]"
   ]
  },
  {
   "cell_type": "code",
   "execution_count": 10,
   "id": "a6499c6e-6d7a-4445-bd5d-8cf9bdbf58f5",
   "metadata": {},
   "outputs": [
    {
     "data": {
      "text/plain": [
       "array([ 5, 11, 11, 11, 12, 10, 11, 12, 10], dtype=int64)"
      ]
     },
     "execution_count": 10,
     "metadata": {},
     "output_type": "execute_result"
    }
   ],
   "source": [
    "uncertainties[\"num_samples1\"]"
   ]
  },
  {
   "cell_type": "markdown",
   "id": "e0392550",
   "metadata": {},
   "source": [
    "<a id='references'></a>\n",
    "## References\n",
    "* Lague, D., Brodu, N., & Leroux, J. (2013). Accurate 3D comparison of complex topography with terrestrial laser scanner: Application to the Rangitikei canyon (N-Z). ISPRS Journal of Photogrammetry and Remote Sensing, 82, pp. 10-26. doi: [10.1016/j.isprsjprs.2013.04.009](https://doi.org/10.1016/j.isprsjprs.2013.04.009)."
   ]
  }
 ],
 "metadata": {
  "kernelspec": {
   "display_name": "Python 3 (ipykernel)",
   "language": "python",
   "name": "python3"
  },
  "language_info": {
   "codemirror_mode": {
    "name": "ipython",
    "version": 3
   },
   "file_extension": ".py",
   "mimetype": "text/x-python",
   "name": "python",
   "nbconvert_exporter": "python",
   "pygments_lexer": "ipython3",
   "version": "3.9.12"
  }
 },
 "nbformat": 4,
 "nbformat_minor": 5
}
