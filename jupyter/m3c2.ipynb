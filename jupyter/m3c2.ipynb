{
 "cells": [
  {
   "cell_type": "markdown",
   "id": "518a4160",
   "metadata": {},
   "source": [
    "# Basic M3C2 algorithm"
   ]
  },
  {
   "cell_type": "markdown",
   "id": "9e740558",
   "metadata": {},
   "source": [
    "This presents how the M3C2 base algorithm can be run using the `py4dgeo` package. As a first step, we import the `py4dgeo` and `numpy` packages:"
   ]
  },
  {
   "cell_type": "code",
   "execution_count": null,
   "id": "3160ffab",
   "metadata": {},
   "outputs": [],
   "source": [
    "import numpy as np\n",
    "import py4dgeo"
   ]
  },
  {
   "cell_type": "markdown",
   "id": "974196ef",
   "metadata": {},
   "source": [
    "Next, we need to load two datasets that cover the same scene at two different points in time. Lidar datasets are represented by `numpy` arrays of shape `n x 3` using a 64 bit floating point type (`np.float64`). Here, we work with a rather small synthetical data set:"
   ]
  },
  {
   "cell_type": "code",
   "execution_count": null,
   "id": "c4b0a8c2",
   "metadata": {},
   "outputs": [],
   "source": [
    "epoch1 = py4dgeo.Epoch(\n",
    "    np.genfromtxt(py4dgeo.find_file(\"plane_horizontal_t1.xyz\"), dtype=np.float64)\n",
    ")\n",
    "epoch2 = py4dgeo.Epoch(\n",
    "    np.genfromtxt(py4dgeo.find_file(\"plane_horizontal_t2.xyz\"), dtype=np.float64)\n",
    ")"
   ]
  },
  {
   "cell_type": "markdown",
   "id": "ea9d6ac1",
   "metadata": {},
   "source": [
    "The distance analysis is executed on a number of points of interest called *core points*. This could be e.g. the entire reference point cloud, a downsampled version of it, an equistant grid etc. Here, we choose a downsampling by taking every 50th point of the reference point cloud:"
   ]
  },
  {
   "cell_type": "code",
   "execution_count": null,
   "id": "476ed5ed",
   "metadata": {},
   "outputs": [],
   "source": [
    "corepoints = epoch1.cloud[::50]"
   ]
  },
  {
   "cell_type": "markdown",
   "id": "253c3d6f",
   "metadata": {},
   "source": [
    "Next, we instantiate the algorithm class and run the distance calculation:"
   ]
  },
  {
   "cell_type": "code",
   "execution_count": null,
   "id": "4d8d29a6",
   "metadata": {},
   "outputs": [],
   "source": [
    "m3c2 = py4dgeo.M3C2(\n",
    "    epochs=(epoch1, epoch2), corepoints=corepoints, radii=(2.0,), scales=(0.5, 1.0, 2.0)\n",
    ")\n",
    "\n",
    "distances, uncertainties = m3c2.run()"
   ]
  },
  {
   "cell_type": "markdown",
   "id": "275dbefe",
   "metadata": {},
   "source": [
    "The calculated result is a vector with one distance per corepoint:"
   ]
  },
  {
   "cell_type": "code",
   "execution_count": null,
   "id": "2e1fc7e3",
   "metadata": {},
   "outputs": [],
   "source": [
    "distances"
   ]
  },
  {
   "cell_type": "markdown",
   "id": "26cb83e5-abce-418b-b82f-a3b83c2419d2",
   "metadata": {},
   "source": [
    "The uncertainty vector containts several quanties that can be accessed individually: The level of detection `lodetection`, the standard deviation of points in either cloud (`stddev1` and `stddev2`) and the total number of points taken into consideration in either cloud (`num_samples1` and `num_samples2`):"
   ]
  },
  {
   "cell_type": "code",
   "execution_count": null,
   "id": "19ea92be-db25-4fe2-b5d8-5f46336b6651",
   "metadata": {},
   "outputs": [],
   "source": [
    "uncertainties[\"lodetection\"]"
   ]
  },
  {
   "cell_type": "code",
   "execution_count": null,
   "id": "71885203-4171-449e-8be6-88ae2c9030b8",
   "metadata": {},
   "outputs": [],
   "source": [
    "uncertainties[\"stddev1\"]"
   ]
  },
  {
   "cell_type": "code",
   "execution_count": null,
   "id": "a6499c6e-6d7a-4445-bd5d-8cf9bdbf58f5",
   "metadata": {},
   "outputs": [],
   "source": [
    "uncertainties[\"num_samples1\"]"
   ]
  }
 ],
 "metadata": {
  "kernelspec": {
   "display_name": "Python 3 (ipykernel)",
   "language": "python",
   "name": "python3"
  },
  "language_info": {
   "codemirror_mode": {
    "name": "ipython",
    "version": 3
   },
   "file_extension": ".py",
   "mimetype": "text/x-python",
   "name": "python",
   "nbconvert_exporter": "python",
   "pygments_lexer": "ipython3",
   "version": "3.9.7"
  }
 },
 "nbformat": 4,
 "nbformat_minor": 5
}
