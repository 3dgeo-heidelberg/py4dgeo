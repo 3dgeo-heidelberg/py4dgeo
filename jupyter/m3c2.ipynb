{
 "cells": [
  {
   "cell_type": "markdown",
   "id": "ef81055f-aeeb-410d-ad8b-4d7efeb23eb3",
   "metadata": {},
   "source": [
    "# Basic M3C2 algorithm"
   ]
  },
  {
   "cell_type": "markdown",
   "id": "3f9e6b1f-49c8-44f5-b5cf-3cecdb049458",
   "metadata": {},
   "source": [
    "This presents how the M3C2 base algorithm can be run using the `py4dgeo` package. As a first step, we import the `py4dgeo` and `numpy` packages:"
   ]
  },
  {
   "cell_type": "code",
   "execution_count": null,
   "id": "2ea89a2d-204f-40f7-b3da-9b72f6f19e32",
   "metadata": {},
   "outputs": [],
   "source": [
    "import numpy as np\n",
    "import py4dgeo"
   ]
  },
  {
   "cell_type": "markdown",
   "id": "5b4c8b79-94ee-4a4e-9487-fbb632563071",
   "metadata": {},
   "source": [
    "Next, we need to load two datasets that cover the same scene at two different points in time. Lidar datasets are represented by `numpy` arrays of shape `n x 3` using a 64 bit floating point type (`np.float64`). Here, we work with a rather small synthetical data set:"
   ]
  },
  {
   "cell_type": "code",
   "execution_count": null,
   "id": "361cc871-ceca-4b8a-82c3-cac0d66dc48b",
   "metadata": {},
   "outputs": [],
   "source": [
    "epoch1 = py4dgeo.Epoch(\n",
    "    np.genfromtxt(\"/opt/py4dgeo/tests/data/plane_horizontal_t1.xyz\", dtype=np.float64)\n",
    ")\n",
    "epoch2 = py4dgeo.Epoch(\n",
    "    np.genfromtxt(\"/opt/py4dgeo/tests/data/plane_horizontal_t2.xyz\", dtype=np.float64)\n",
    ")"
   ]
  },
  {
   "cell_type": "markdown",
   "id": "3ad44ed4-e5fe-4a41-a143-23d5e25bb459",
   "metadata": {},
   "source": [
    "The distance analysis is executed on a number of points of interest called *core points*. This could be e.g. the entire reference point cloud, a downsampled version of it, an equistant grid etc. Here, we choose a downsampling by taking every 50th point of the reference point cloud:"
   ]
  },
  {
   "cell_type": "code",
   "execution_count": null,
   "id": "0c9f8ec3-2f84-4a29-9cea-49859a229bd0",
   "metadata": {},
   "outputs": [],
   "source": [
    "corepoints = np.copy(epoch1.cloud[::50])"
   ]
  },
  {
   "cell_type": "markdown",
   "id": "d5fb3b19-cb32-43fe-afe2-5f1738653631",
   "metadata": {},
   "source": [
    "Next, we instantiate the algorithm class and run the distance calculation:"
   ]
  },
  {
   "cell_type": "code",
   "execution_count": null,
   "id": "8cdb2b50-e7a3-49e7-abb3-db696d1ec68a",
   "metadata": {},
   "outputs": [],
   "source": [
    "m3c2 = py4dgeo.M3C2(\n",
    "    epochs=(epoch1, epoch2), corepoints=corepoints, radii=(2.0,), scales=(0.5, 1.0, 2.0)\n",
    ")\n",
    "\n",
    "distances = m3c2.run()"
   ]
  },
  {
   "cell_type": "markdown",
   "id": "e120f2a7-730f-4757-a2ae-55f9ac1cf9dd",
   "metadata": {},
   "source": [
    "The calculated result is a vector with one distance per corepoint:"
   ]
  },
  {
   "cell_type": "code",
   "execution_count": null,
   "id": "7dadf64c-d29c-4f30-a06f-ab12cdef4a74",
   "metadata": {},
   "outputs": [],
   "source": [
    "distances"
   ]
  }
 ],
 "metadata": {
  "kernelspec": {
   "display_name": "Python 3",
   "language": "python",
   "name": "python3"
  },
  "language_info": {
   "codemirror_mode": {
    "name": "ipython",
    "version": 3
   },
   "file_extension": ".py",
   "mimetype": "text/x-python",
   "name": "python",
   "nbconvert_exporter": "python",
   "pygments_lexer": "ipython3",
   "version": "3.8.8"
  }
 },
 "nbformat": 4,
 "nbformat_minor": 5
}
