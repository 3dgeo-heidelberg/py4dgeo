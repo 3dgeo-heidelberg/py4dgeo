{
 "cells": [
  {
   "cell_type": "markdown",
   "id": "b13e5f8d",
   "metadata": {},
   "source": [
    "# Scenario 2 PB_M3C2 algorithm"
   ]
  },
  {
   "cell_type": "code",
   "execution_count": null,
   "id": "b41eba0f",
   "metadata": {},
   "outputs": [],
   "source": [
    "from py4dgeo import *"
   ]
  },
  {
   "cell_type": "markdown",
   "id": "26c3e7f4",
   "metadata": {},
   "source": [
    "Ensure the input data is available."
   ]
  },
  {
   "cell_type": "code",
   "execution_count": null,
   "id": "5427fc67",
   "metadata": {},
   "outputs": [],
   "source": [
    "ensure_test_data_availability()"
   ]
  },
  {
   "cell_type": "code",
   "execution_count": null,
   "id": "ffffc8db",
   "metadata": {},
   "outputs": [],
   "source": [
    "Epoch0, Epoch1 = read_from_xyz(\"plane_horizontal_t1.xyz\", \"plane_horizontal_t2.xyz\")"
   ]
  },
  {
   "cell_type": "markdown",
   "id": "a06f7213",
   "metadata": {},
   "source": [
    "Generate input required for \"scenario\" 2: \"Two point clouds (XYZ) representing two epochs with an attribute segment ID\""
   ]
  },
  {
   "cell_type": "code",
   "execution_count": null,
   "id": "61fb2ad5",
   "metadata": {},
   "outputs": [],
   "source": [
    "new_epoch0, new_epoch1 = build_input_scenario2_without_normals(\n",
    "    Epoch0=Epoch0, Epoch1=Epoch1\n",
    ")"
   ]
  },
  {
   "cell_type": "code",
   "execution_count": null,
   "id": "a4a71b58",
   "metadata": {},
   "outputs": [],
   "source": [
    "# you can also use data that have precomputed normals.\n",
    "new_epoch0, new_epoch1 = build_input_scenario2_with_normals(\n",
    "    Epoch0=Epoch0, Epoch1=Epoch1\n",
    ")"
   ]
  },
  {
   "cell_type": "code",
   "execution_count": null,
   "id": "49529069",
   "metadata": {},
   "outputs": [],
   "source": [
    "# -------\n",
    "# these lines are necessary only in jupyter notebook!\n",
    "# It makes a native viewer accessible.\n",
    "#\n",
    "from vedo import settings\n",
    "\n",
    "settings.default_backend = \"vtk\"  #'ipyvtk' # or k3d, 2d, ipygany, panel, itk, or vtk\n",
    "# -------"
   ]
  },
  {
   "cell_type": "code",
   "execution_count": null,
   "id": "3798b589",
   "metadata": {},
   "outputs": [],
   "source": [
    "alg_scenario2 = PB_M3C2_scenario2()"
   ]
  },
  {
   "cell_type": "markdown",
   "id": "f222ec7d",
   "metadata": {},
   "source": [
    "Build the the (X,y) learning set."
   ]
  },
  {
   "cell_type": "code",
   "execution_count": null,
   "id": "b905e858",
   "metadata": {},
   "outputs": [],
   "source": [
    "X, y = alg_scenario2.build_labels(Epoch0=new_epoch0, Epoch1=new_epoch1)"
   ]
  },
  {
   "cell_type": "code",
   "execution_count": null,
   "id": "eb87ef78",
   "metadata": {},
   "outputs": [],
   "source": [
    "alg_scenario2.training(X, y)"
   ]
  },
  {
   "cell_type": "code",
   "execution_count": null,
   "id": "bef0b558",
   "metadata": {},
   "outputs": [],
   "source": [
    "result = alg_scenario2.predict(Epoch0=new_epoch0, Epoch1=new_epoch1)"
   ]
  },
  {
   "cell_type": "code",
   "execution_count": null,
   "id": "77e711d7",
   "metadata": {},
   "outputs": [],
   "source": [
    "print(result)"
   ]
  },
  {
   "cell_type": "code",
   "execution_count": null,
   "id": "a1da453e",
   "metadata": {},
   "outputs": [],
   "source": [
    "print(alg_scenario2.distance(Epoch0=new_epoch0, Epoch1=new_epoch1))"
   ]
  },
  {
   "cell_type": "code",
   "execution_count": null,
   "id": "05026610",
   "metadata": {},
   "outputs": [],
   "source": []
  }
 ],
 "metadata": {
  "kernelspec": {
   "display_name": "Python 3 (ipykernel)",
   "language": "python",
   "name": "python3"
  },
  "language_info": {
   "codemirror_mode": {
    "name": "ipython",
    "version": 3
   },
   "file_extension": ".py",
   "mimetype": "text/x-python",
   "name": "python",
   "nbconvert_exporter": "python",
   "pygments_lexer": "ipython3",
   "version": "3.11.0"
  }
 },
 "nbformat": 4,
 "nbformat_minor": 5
}
