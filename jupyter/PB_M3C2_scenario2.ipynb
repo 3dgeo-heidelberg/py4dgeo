{
 "cells": [
  {
   "cell_type": "markdown",
   "id": "b13e5f8d",
   "metadata": {},
   "source": [
    "# Scenario 2 PB_M3C2 algorithm"
   ]
  },
  {
   "cell_type": "code",
   "execution_count": null,
   "id": "b41eba0f",
   "metadata": {},
   "outputs": [],
   "source": [
    "import py4dgeo\n",
    "import numpy as np"
   ]
  },
  {
   "cell_type": "code",
   "execution_count": null,
   "id": "3c9cf569",
   "metadata": {},
   "outputs": [],
   "source": [
    "py4dgeo.set_interactive_backend(\"vtk\")"
   ]
  },
  {
   "cell_type": "code",
   "execution_count": null,
   "id": "5427fc67",
   "metadata": {},
   "outputs": [],
   "source": [
    "py4dgeo.ensure_test_data_availability()"
   ]
  },
  {
   "cell_type": "code",
   "execution_count": null,
   "id": "ffffc8db",
   "metadata": {},
   "outputs": [],
   "source": [
    "epoch0, epoch1 = py4dgeo.read_from_xyz(\n",
    "    \"plane_horizontal_t1.xyz\", \"plane_horizontal_t2.xyz\"\n",
    ")"
   ]
  },
  {
   "cell_type": "markdown",
   "id": "a06f7213",
   "metadata": {},
   "source": [
    "Generate input required for \"scenario\" 2: \"Two point clouds (XYZ) representing two epochs with an attribute segment ID\""
   ]
  },
  {
   "cell_type": "code",
   "execution_count": null,
   "id": "61fb2ad5",
   "metadata": {},
   "outputs": [],
   "source": [
    "new_epoch0, new_epoch1 = py4dgeo.build_input_scenario2_without_normals(\n",
    "    epoch0=epoch0, epoch1=epoch1\n",
    ")"
   ]
  },
  {
   "cell_type": "code",
   "execution_count": null,
   "id": "a4a71b58",
   "metadata": {},
   "outputs": [],
   "source": [
    "# # you can also use data that have precomputed normals.\n",
    "# new_epoch0, new_epoch1 = build_input_scenario2_with_normals(\n",
    "#     epoch0=Epoch0, epoch1=Epoch1\n",
    "# )"
   ]
  },
  {
   "cell_type": "code",
   "execution_count": null,
   "id": "ab9f057d",
   "metadata": {},
   "outputs": [],
   "source": [
    "np.savetxt(\n",
    "    \"epoch0_segmented.xyz\",\n",
    "    new_epoch0,\n",
    "    delimiter=\",\",\n",
    ")"
   ]
  },
  {
   "cell_type": "code",
   "execution_count": null,
   "id": "f66572ad",
   "metadata": {},
   "outputs": [],
   "source": [
    "np.savetxt(\n",
    "    \"epoch1_segmented.xyz\",\n",
    "    new_epoch1,\n",
    "    delimiter=\",\",\n",
    ")"
   ]
  },
  {
   "cell_type": "code",
   "execution_count": null,
   "id": "b214c562",
   "metadata": {},
   "outputs": [],
   "source": [
    "epoch0_segmented = py4dgeo.read_from_xyz(\n",
    "    \"epoch0_segmented.xyz\",\n",
    "    additional_dimensions={3: \"segment_id\"},\n",
    "    **{\"delimiter\": \",\"}\n",
    ")"
   ]
  },
  {
   "cell_type": "code",
   "execution_count": null,
   "id": "8c50c9a0",
   "metadata": {},
   "outputs": [],
   "source": [
    "epoch1_segmented = py4dgeo.read_from_xyz(\n",
    "    \"epoch1_segmented.xyz\",\n",
    "    additional_dimensions={3: \"segment_id\"},\n",
    "    **{\"delimiter\": \",\"}\n",
    ")"
   ]
  },
  {
   "cell_type": "code",
   "execution_count": null,
   "id": "3798b589",
   "metadata": {},
   "outputs": [],
   "source": [
    "alg = py4dgeo.PB_M3C2_with_segments()"
   ]
  },
  {
   "cell_type": "code",
   "execution_count": null,
   "id": "9a1d82c8",
   "metadata": {},
   "outputs": [],
   "source": [
    "xyz_epoch0, xyz_epoch1, segement_id = alg.reconstruct_post_segmentation_output(\n",
    "    epoch0=epoch0_segmented,\n",
    "    epoch1=epoch1_segmented,\n",
    ")"
   ]
  },
  {
   "cell_type": "code",
   "execution_count": null,
   "id": "72fd93d1",
   "metadata": {},
   "outputs": [],
   "source": [
    "py4dgeo.generate_random_y(segement_id, extended_y_file_name=\"testdata-labelling.csv\")"
   ]
  },
  {
   "cell_type": "code",
   "execution_count": null,
   "id": "05026610",
   "metadata": {},
   "outputs": [],
   "source": [
    "features, labels = alg.build_labelled_similarity_features(\n",
    "    \"extracted_segments.seg\", \"testdata-labelling.csv\"\n",
    ")"
   ]
  },
  {
   "cell_type": "code",
   "execution_count": null,
   "id": "065f4bd7",
   "metadata": {},
   "outputs": [],
   "source": [
    "alg.training(features, labels)"
   ]
  },
  {
   "cell_type": "code",
   "execution_count": null,
   "id": "db6be9f4",
   "metadata": {},
   "outputs": [],
   "source": [
    "alg.predict(epoch0=epoch0_segmented, epoch1=epoch1_segmented)"
   ]
  },
  {
   "cell_type": "code",
   "execution_count": null,
   "id": "db468154",
   "metadata": {},
   "outputs": [],
   "source": [
    "distances, uncertainties = alg.compute_distances(\n",
    "    epoch0=epoch0_segmented, epoch1=epoch1_segmented\n",
    ")"
   ]
  },
  {
   "cell_type": "code",
   "execution_count": null,
   "id": "397c7b32",
   "metadata": {},
   "outputs": [],
   "source": []
  }
 ],
 "metadata": {
  "kernelspec": {
   "display_name": "Python 3 (ipykernel)",
   "language": "python",
   "name": "python3"
  },
  "language_info": {
   "codemirror_mode": {
    "name": "ipython",
    "version": 3
   },
   "file_extension": ".py",
   "mimetype": "text/x-python",
   "name": "python",
   "nbconvert_exporter": "python",
   "pygments_lexer": "ipython3",
   "version": "3.11.0"
  }
 },
 "nbformat": 4,
 "nbformat_minor": 5
}
