{
 "cells": [
  {
   "cell_type": "code",
   "execution_count": null,
   "id": "dfbfe4d6",
   "metadata": {},
   "outputs": [],
   "source": [
    "from py4dgeo import *"
   ]
  },
  {
   "cell_type": "code",
   "execution_count": null,
   "id": "62e7043f",
   "metadata": {},
   "outputs": [],
   "source": [
    "ensure_test_data_availability()"
   ]
  },
  {
   "cell_type": "code",
   "execution_count": null,
   "id": "9634fc5d",
   "metadata": {},
   "outputs": [],
   "source": [
    "Epoch0, Epoch1 = read_from_xyz(\"plane_horizontal_t1.xyz\", \"plane_horizontal_t2.xyz\")"
   ]
  },
  {
   "cell_type": "code",
   "execution_count": null,
   "id": "760258ae",
   "metadata": {},
   "outputs": [],
   "source": [
    "Alg = PB_M3C2()"
   ]
  },
  {
   "cell_type": "code",
   "execution_count": null,
   "id": "9985f629",
   "metadata": {},
   "outputs": [],
   "source": [
    "# -------\n",
    "# these lines are necessary only in jupyter notebook!\n",
    "# It makes a native viewer accessible.\n",
    "#\n",
    "from vedo import *\n",
    "\n",
    "settings.default_backend = \"vtk\"  #'ipyvtk' # or k3d, 2d, ipygany, panel, itk, or vtk\n",
    "# -------"
   ]
  },
  {
   "cell_type": "code",
   "execution_count": null,
   "id": "f920fbe4",
   "metadata": {},
   "outputs": [],
   "source": [
    "X, y = Alg.build_labels(Epoch0=Epoch0, Epoch1=Epoch1)"
   ]
  },
  {
   "cell_type": "code",
   "execution_count": null,
   "id": "bfeb3e4a",
   "metadata": {},
   "outputs": [],
   "source": [
    "Alg.training(X, y)"
   ]
  },
  {
   "cell_type": "code",
   "execution_count": null,
   "id": "518c49b8",
   "metadata": {},
   "outputs": [],
   "source": [
    "result = Alg.predict(Epoch0=Epoch0, Epoch1=Epoch1)"
   ]
  },
  {
   "cell_type": "code",
   "execution_count": null,
   "id": "eb73e0bc",
   "metadata": {},
   "outputs": [],
   "source": [
    "from py4dgeo import *"
   ]
  },
  {
   "cell_type": "code",
   "execution_count": null,
   "id": "214f186e",
   "metadata": {},
   "outputs": [],
   "source": [
    "a = PB_M3C2()"
   ]
  },
  {
   "cell_type": "code",
   "execution_count": null,
   "id": "acdcb7f2",
   "metadata": {},
   "outputs": [],
   "source": [
    "type(a)"
   ]
  },
  {
   "cell_type": "code",
   "execution_count": null,
   "id": "a63bd0fd",
   "metadata": {},
   "outputs": [],
   "source": [
    "a"
   ]
  }
 ],
 "metadata": {
  "kernelspec": {
   "display_name": "Python 3",
   "language": "python",
   "name": "python3"
  },
  "language_info": {
   "codemirror_mode": {
    "name": "ipython",
    "version": 3
   },
   "file_extension": ".py",
   "mimetype": "text/x-python",
   "name": "python",
   "nbconvert_exporter": "python",
   "pygments_lexer": "ipython3",
   "version": "3.8.8"
  }
 },
 "nbformat": 4,
 "nbformat_minor": 5
}
