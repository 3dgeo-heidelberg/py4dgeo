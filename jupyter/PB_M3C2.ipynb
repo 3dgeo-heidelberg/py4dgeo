{
 "cells": [
  {
   "cell_type": "markdown",
   "id": "f039e518",
   "metadata": {},
   "source": [
    "# Basic PB_M3C2 algorithm"
   ]
  },
  {
   "cell_type": "code",
   "execution_count": null,
   "id": "dfbfe4d6",
   "metadata": {},
   "outputs": [],
   "source": [
    "from py4dgeo import *"
   ]
  },
  {
   "cell_type": "markdown",
   "id": "bfb078b8",
   "metadata": {},
   "source": [
    "Ensure the input data is available."
   ]
  },
  {
   "cell_type": "code",
   "execution_count": null,
   "id": "62e7043f",
   "metadata": {},
   "outputs": [],
   "source": [
    "ensure_test_data_availability()"
   ]
  },
  {
   "cell_type": "code",
   "execution_count": null,
   "id": "9634fc5d",
   "metadata": {},
   "outputs": [],
   "source": [
    "Epoch0, Epoch1 = read_from_xyz(\"plane_horizontal_t1.xyz\", \"plane_horizontal_t2.xyz\")"
   ]
  },
  {
   "cell_type": "markdown",
   "id": "14773802",
   "metadata": {},
   "source": [
    "Instatiate the algorithm."
   ]
  },
  {
   "cell_type": "code",
   "execution_count": null,
   "id": "760258ae",
   "metadata": {},
   "outputs": [],
   "source": [
    "# Alg = PB_M3C2()\n",
    "Alg = PB_M3C2()"
   ]
  },
  {
   "cell_type": "code",
   "execution_count": null,
   "id": "9985f629",
   "metadata": {},
   "outputs": [],
   "source": [
    "# -------\n",
    "# these lines are necessary only in jupyter notebook!\n",
    "# It makes a native viewer accessible.\n",
    "#\n",
    "from vedo import settings\n",
    "\n",
    "settings.default_backend = \"vtk\"  #'ipyvtk' # or k3d, 2d, ipygany, panel, itk, or vtk\n",
    "# -------"
   ]
  },
  {
   "cell_type": "markdown",
   "id": "3c7455ae",
   "metadata": {},
   "source": [
    "Build the the (X,y) learning set."
   ]
  },
  {
   "cell_type": "code",
   "execution_count": null,
   "id": "f920fbe4",
   "metadata": {},
   "outputs": [],
   "source": [
    "X, y = Alg.build_labeld_similarity_feature_interactively(Epoch0=Epoch0, Epoch1=Epoch1)"
   ]
  },
  {
   "cell_type": "code",
   "execution_count": null,
   "id": "798e163e",
   "metadata": {},
   "outputs": [],
   "source": [
    "x_y_z_id_epoch0, x_y_z_id_epoch1, extracted_segments = Alg.export_segments_for_labeling(\n",
    "    Epoch0=Epoch0, Epoch1=Epoch1\n",
    ")"
   ]
  },
  {
   "cell_type": "code",
   "execution_count": null,
   "id": "6a39ebc7",
   "metadata": {},
   "outputs": [],
   "source": [
    "generator = BuildSimilarityFeature_and_y_RandomPairs()"
   ]
  },
  {
   "cell_type": "code",
   "execution_count": null,
   "id": "65b85619",
   "metadata": {},
   "outputs": [],
   "source": [
    "extended_y = generator.generate_extended_y(extracted_segments)"
   ]
  },
  {
   "cell_type": "code",
   "execution_count": null,
   "id": "a505bbaf",
   "metadata": {},
   "outputs": [],
   "source": [
    "extracted_segments.shape"
   ]
  },
  {
   "cell_type": "code",
   "execution_count": null,
   "id": "1f91a1eb",
   "metadata": {},
   "outputs": [],
   "source": [
    "extended_y.shape"
   ]
  },
  {
   "cell_type": "code",
   "execution_count": null,
   "id": "b29c2e5b",
   "metadata": {},
   "outputs": [],
   "source": [
    "features, labels = Alg.build_labeld_similarity_feature(extracted_segments, extended_y)"
   ]
  },
  {
   "cell_type": "code",
   "execution_count": null,
   "id": "46812e48",
   "metadata": {},
   "outputs": [],
   "source": [
    "labels.shape"
   ]
  },
  {
   "cell_type": "code",
   "execution_count": null,
   "id": "bfeb3e4a",
   "metadata": {},
   "outputs": [],
   "source": [
    "Alg.training(features, labels)"
   ]
  },
  {
   "cell_type": "code",
   "execution_count": null,
   "id": "518c49b8",
   "metadata": {},
   "outputs": [],
   "source": [
    "result = Alg.predict(Epoch0=Epoch0, Epoch1=Epoch1)"
   ]
  },
  {
   "cell_type": "markdown",
   "id": "41d6b5e4",
   "metadata": {},
   "source": [
    "\"result\" contains the prediction pairs of segments between Epoch0 and Epoch1"
   ]
  },
  {
   "cell_type": "code",
   "execution_count": null,
   "id": "a4ead58f",
   "metadata": {},
   "outputs": [],
   "source": [
    "print(result)"
   ]
  },
  {
   "cell_type": "markdown",
   "id": "710f189c",
   "metadata": {},
   "source": [
    "The \"distance\" contains the distance between 2 epochs as it is described in the article. ( for each segment pairs )"
   ]
  },
  {
   "cell_type": "code",
   "execution_count": null,
   "id": "eb73e0bc",
   "metadata": {},
   "outputs": [],
   "source": [
    "distance = Alg.distance(Epoch0=Epoch0, Epoch1=Epoch1)"
   ]
  },
  {
   "cell_type": "code",
   "execution_count": null,
   "id": "214f186e",
   "metadata": {},
   "outputs": [],
   "source": [
    "print(distance)"
   ]
  },
  {
   "cell_type": "code",
   "execution_count": null,
   "id": "acdcb7f2",
   "metadata": {},
   "outputs": [],
   "source": []
  },
  {
   "cell_type": "code",
   "execution_count": null,
   "id": "a63bd0fd",
   "metadata": {},
   "outputs": [],
   "source": []
  }
 ],
 "metadata": {
  "kernelspec": {
   "display_name": "Python 3 (ipykernel)",
   "language": "python",
   "name": "python3"
  },
  "language_info": {
   "codemirror_mode": {
    "name": "ipython",
    "version": 3
   },
   "file_extension": ".py",
   "mimetype": "text/x-python",
   "name": "python",
   "nbconvert_exporter": "python",
   "pygments_lexer": "ipython3",
   "version": "3.11.0"
  }
 },
 "nbformat": 4,
 "nbformat_minor": 5
}
