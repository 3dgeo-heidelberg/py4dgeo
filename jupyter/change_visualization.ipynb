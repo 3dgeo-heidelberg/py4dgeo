{
 "cells": [
  {
   "cell_type": "markdown",
   "metadata": {},
   "source": [
    "# Visualization module example demo notebook\n",
    "\n",
    "## Objective\n",
    "\n",
    "This notebook presents a small usage example for the visualization of ChangeEvent objects. A ChangeEvent objects represents an event of change which has been extracted from point cloud time series data using different change methods. To run this notebook it is recommended to clone [this repository}](https://github.com/3dgeo-heidelberg/py4dgeo/tree/visualization_module) to a local directory on your computer.\n",
    "\n",
    "## Data\n",
    "The module takes a GeoJSON defining visualization parameters a GeoJSON containing metadata for ChangeEvents as input. A small test dataset used in this notebook is downloaded from [this folder](https://heibox.uni-heidelberg.de/f/7eaf90f07b8b4f748c23/). The dataset represents a rockfall event recorded in three subsequent epochs of a point cloud time series.\n",
    "\n",
    "You can use your own anaconda environment or generate a new one using the `py4dgeo/visualization.yml` file."
   ]
  },
  {
   "cell_type": "markdown",
   "metadata": {},
   "source": [
    "First, we start by setting up the Python environment (make sure your Python environment has these modules installed)."
   ]
  },
  {
   "cell_type": "code",
   "execution_count": 31,
   "metadata": {},
   "outputs": [],
   "source": [
    "# import required modules\n",
    "import os\n",
    "import numpy as np\n",
    "import shutil\n",
    "import requests\n",
    "import tempfile\n",
    "import zipfile\n",
    "import sys\n",
    "from pathlib import Path"
   ]
  },
  {
   "cell_type": "markdown",
   "metadata": {},
   "source": [
    "Next, the test data used in this notebook is downloaded to a temporary local directory. You can also use your own data and directly specify the location of your input JSON files (see below)."
   ]
  },
  {
   "cell_type": "code",
   "execution_count": 37,
   "metadata": {},
   "outputs": [
    {
     "name": "stdout",
     "output_type": "stream",
     "text": [
      "Data stored at temp folder: C:\\Users\\ep413\\AppData\\Local\\Temp\\tmp6_7bxznw\\change_visualization_test_data\n"
     ]
    }
   ],
   "source": [
    "# Url for download of data\n",
    "url = \"https://heibox.uni-heidelberg.de/f/230b5dfe0af743d59b35/?dl=1\"\n",
    "\n",
    "# Path to subfolder with dataset used in this notebook\n",
    "subdir_path = \"change_visualization_test_data\"\n",
    "\n",
    "# Generate temporary directory for data\n",
    "temp_dir = tempfile.mkdtemp()\n",
    "\n",
    "try:\n",
    "    # download data\n",
    "    response = requests.get(url)\n",
    "    response.raise_for_status()\n",
    "\n",
    "    # store zip archive in temp dir\n",
    "    zip_path = os.path.join(temp_dir, \"change_visualization_test_data.zip\")\n",
    "    with open(zip_path, \"wb\") as zip_file:\n",
    "        zip_file.write(response.content)\n",
    "    \n",
    "    # unpack zip archive in subfolder\n",
    "    with zipfile.ZipFile(zip_path, \"r\") as zip_ref:\n",
    "\n",
    "        file_list = [f for f in zip_ref.namelist() if f.startswith(subdir_path)]\n",
    "        zip_ref.extractall(temp_dir, members=file_list)\n",
    "\n",
    "    # specify data path\n",
    "    data_path = os.path.join(temp_dir, subdir_path)\n",
    "    print(f'Data stored at temp folder: {data_path}')\n",
    "\n",
    "except requests.exceptions.RequestException as e:\n",
    "    print(f\"Failed to download data: {e}\")\n",
    "except zipfile.BadZipFile as e:\n",
    "    print(f\"Failed to unpack data: {e}\")\n",
    "\n",
    "# Check if the specified path exists\n",
    "if not os.path.isdir(data_path):\n",
    "    print(f'ERROR: {data_path} does not exist')\n",
    "    print('Please specify the correct path to the data directory by replacing <path-to-data> above.')\n",
    "\n",
    "# Sub-directory containing the input json files\n",
    "change_events_data_filepath = os.path.join(data_path, 'change_events.json')\n",
    "plotting_parameters_filepath = os.path.join(data_path, 'plotting_parameters_3dplot.json') # select from available json files\n",
    "visualization_filtering_parameters_filepath = os.path.join(data_path, 'visualization_filtering_parameters.json')\n",
    "\n",
    "# If you use your own data, skip the previous code of this code block and directly specify the location of your input JSON files:\n",
    "#plotting_parameters_filepath = r\"filepath\"  # replace by your filepath\n",
    "#plotting_parameters_filepath = r\"filepath\" # replace by your filepath\n",
    "#visualization_filtering_parameters_filepath = r\"filepath\" # replace by your filepath\n",
    "\n",
    "# Note: Since we are working in a temporary directory, you might need to adjust the absolute file paths of the \"pc_files\" parameter in the \"change_event.json\" every time to newly run this code block.\n",
    "# When working with your own data, make sure to have the correct path to your point cloud data specfied in the \"pc_files\" parameter in the  change_event.json"
   ]
  },
  {
   "cell_type": "markdown",
   "metadata": {},
   "source": [
    "## Loading input data\n",
    "Now we can run the workflow for visualizing the change events objects. First, we will read the visualization parameters and generate ChangeEvent objects from externally provided GeoJSON files."
   ]
  },
  {
   "cell_type": "code",
   "execution_count": 38,
   "metadata": {
    "ExecuteTime": {
     "end_time": "2023-09-16T14:21:09.543069200Z",
     "start_time": "2023-09-16T14:21:07.544414700Z"
    }
   },
   "outputs": [
    {
     "name": "stdout",
     "output_type": "stream",
     "text": [
      "2 ChangeEvent object(s) generated: [<ChangeEvent object_id=1 pc_files=['C:\\\\Users\\\\ep413\\\\AppData\\\\Local\\\\Temp\\\\tmp6_7bxznw\\\\change_visualization_tes… timestamps=['2023-11-09-11-20-23', '2023-11-09-11-21-00', '2023-11-09-11-21-50'] epoch_count=3 change_rates=[0.1, 0.2, 0.3] duration=87.0 change_magnitudes=[5.0, 8.0, 12.0] spatial_extent=[[1.97, 3.06], [1.95, -0.62], [1.29, -0.26], [1.46, -3.29]] event_type='rockfall' plots_2d_dir=[] plots_3d_dir=[] plots_4d_dir=[]>, <ChangeEvent object_id=2 pc_files=['C:\\\\Users\\\\ep413\\\\AppData\\\\Local\\\\Temp\\\\tmp6_7bxznw\\\\change_visualization_tes… timestamps=['2023-11-10-11-20-23', '2023-11-10-11-21-00', '2023-11-10-11-20-30'] epoch_count=3 change_rates=[0.2, 0.3, 0.4] duration=57.0 change_magnitudes=[4.0, 7.0, 10.0] spatial_extent=[[1.97, 3.06], [1.95, -0.62], [1.29, -0.26], [1.46, -3.29]] event_type='landslide' plots_2d_dir=[] plots_3d_dir=[] plots_4d_dir=[]>]\n"
     ]
    }
   ],
   "source": [
    "# Append system path by directory of visualization module (to be replaced)\n",
    "sys.path.append(str(Path(os.getcwd()).parent / \"src\" / \"py4dgeo\"))\n",
    "# Import change visualization module\n",
    "from change_visualization import *  \n",
    "\n",
    "# Get visualization filtering parameters\n",
    "visualization_filter_parameters = read_visualization_filter_parameters(visualization_filtering_parameters_filepath)\n",
    "\n",
    "# Read change event data, validate json file and generate ChangeEvent objects\n",
    "json_data = read_json_file(change_events_data_filepath)\n",
    "change_events = ChangeEventValidator.validate_and_create_change_events(json_data)\n",
    "\n",
    "print(f'{len(change_events)} ChangeEvent object(s) generated: {change_events}')"
   ]
  },
  {
   "cell_type": "markdown",
   "metadata": {},
   "source": [
    "## Filtering relevant ChangeEvent objects\n",
    "Next, we filter ChangeEvent objects which meet the criteria defined in the visualization filtering parameter file."
   ]
  },
  {
   "cell_type": "code",
   "execution_count": 39,
   "metadata": {},
   "outputs": [
    {
     "name": "stdout",
     "output_type": "stream",
     "text": [
      "1 ChangeEvent object(s) filtered for visualization: [<ChangeEvent object_id=1 pc_files=['C:\\\\Users\\\\ep413\\\\AppData\\\\Local\\\\Temp\\\\tmp6_7bxznw\\\\change_visualization_tes… timestamps=['2023-11-09-11-20-23', '2023-11-09-11-21-00', '2023-11-09-11-21-50'] epoch_count=3 change_rates=[0.1, 0.2, 0.3] duration=87.0 change_magnitudes=[5.0, 8.0, 12.0] spatial_extent=[[1.97, 3.06], [1.95, -0.62], [1.29, -0.26], [1.46, -3.29]] event_type='rockfall' plots_2d_dir=[] plots_3d_dir=[] plots_4d_dir=[]>]\n"
     ]
    }
   ],
   "source": [
    "# Filter relevant ChangeEvent objects for visualization\n",
    "# In this dataset, only 1 ChangeEvent object fullfills the criteria\n",
    "relevant_change_events = filter_relevant_events(change_events, visualization_filter_parameters)\n",
    "print(f'{len(relevant_change_events)} ChangeEvent object(s) filtered for visualization: {relevant_change_events}')"
   ]
  },
  {
   "cell_type": "markdown",
   "metadata": {},
   "source": [
    "## Change visualization\n",
    "Finally, we visualize the filtered ChangeEvent objects according to the plotting parameters defined in the plotting parameters input file. Additionally, all generated plots are stored in `.../output_visualization` relative to the notebook's local directory."
   ]
  },
  {
   "cell_type": "code",
   "execution_count": 40,
   "metadata": {},
   "outputs": [
    {
     "data": {
      "image/png": "[encoded data removed]",
      "text/plain": [
       "<Figure size 432x288 with 2 Axes>"
      ]
     },
     "metadata": {
      "needs_background": "light"
     },
     "output_type": "display_data"
    }
   ],
   "source": [
    "# Generate plots for all change events after validating plotting parameters\n",
    "plot_type, json_data = read_plotting_parameters(plotting_parameters_filepath)\n",
    "for change_event in relevant_change_events:\n",
    "    plot_object = Plot()\n",
    "    plot_object.generate_plot(plot_type, json_data, change_event)\n"
   ]
  }
 ],
 "metadata": {
  "kernelspec": {
   "display_name": "Python 3 (ipykernel)",
   "language": "python",
   "name": "python3"
  },
  "language_info": {
   "codemirror_mode": {
    "name": "ipython",
    "version": 3
   },
   "file_extension": ".py",
   "mimetype": "text/x-python",
   "name": "python",
   "nbconvert_exporter": "python",
   "pygments_lexer": "ipython3",
   "version": "3.9.16"
  }
 },
 "nbformat": 4,
 "nbformat_minor": 4
}
