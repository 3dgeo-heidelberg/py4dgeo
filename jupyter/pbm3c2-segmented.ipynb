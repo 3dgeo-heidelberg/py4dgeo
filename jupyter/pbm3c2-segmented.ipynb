{
 "cells": [
  {
   "cell_type": "markdown",
   "id": "b13e5f8d",
   "metadata": {},
   "source": [
    "# Correspondence-driven plane-based M3C2 (PBM3C2) with known segmentation"
   ]
  },
  {
   "cell_type": "markdown",
   "id": "215d0220-5189-44ad-b95f-d31900fa0fdf",
   "metadata": {},
   "source": [
    "In this notebook, we are extending the [PB-M3C2 implementation](pbm3c2.ipynb) to work with segmentation information that is already present in the input data. This is useful if you are embedding the calculation into a larger workflow where a segmentation has already been produced."
   ]
  },
  {
   "cell_type": "code",
   "execution_count": null,
   "id": "b41eba0f",
   "metadata": {},
   "outputs": [],
   "source": [
    "import py4dgeo"
   ]
  },
  {
   "cell_type": "code",
   "execution_count": null,
   "id": "3c9cf569",
   "metadata": {},
   "outputs": [],
   "source": [
    "py4dgeo.set_interactive_backend(\"vtk\")"
   ]
  },
  {
   "cell_type": "markdown",
   "id": "08bc14a2-5ad7-4977-ac8b-43a0beb1a3d7",
   "metadata": {},
   "source": [
    "We are reading the two input epochs from XYZ files which contain a total of four columns: X, Y and Z coordinates, as well a segment ID mapping each point to a segment. The `read_from_xyz` functionality allows us to read additional data columns through its `additional_dimensions` parameter. It is expecting a dictionary that maps the column index to a column name."
   ]
  },
  {
   "cell_type": "code",
   "execution_count": null,
   "id": "ffffc8db",
   "metadata": {},
   "outputs": [],
   "source": [
    "epoch0, epoch1 = py4dgeo.read_from_xyz(\n",
    "    \"plane_horizontal_t1_segmented.xyz\",\n",
    "    \"plane_horizontal_t2_segmented.xyz\",\n",
    "    additional_dimensions={3: \"segment_id\"},\n",
    "    delimiter=\",\",\n",
    ")"
   ]
  },
  {
   "cell_type": "markdown",
   "id": "a06f7213",
   "metadata": {},
   "source": [
    "Again, we instantiate the algorithm. Due to fundamental differences in the algorithm workflow, we are using a separated algorithm class for this use case:"
   ]
  },
  {
   "cell_type": "code",
   "execution_count": null,
   "id": "3798b589",
   "metadata": {},
   "outputs": [],
   "source": [
    "alg = py4dgeo.PBM3C2WithSegments()"
   ]
  },
  {
   "cell_type": "markdown",
   "id": "533597ae-59c7-41ab-aac0-2b825a0fc607",
   "metadata": {},
   "source": [
    "Next, we will read the segmented point cloud, which is part of the input epochs, and reconstruct the required segments from it. As a result, we get the same information that we got from the `export_segments_for_labelling` method in the [base PB-M3C2 implementation](pbm3c2.ipynb). Again, we need to provide labelling and can choose to do so either interactively or with external tools. In contrast to `export_segments_for_labelling`, `reconstruct_post_segmentation_output` only writes one file - the full segmentation information file (which defaults to `extracted_segments.seg`):"
   ]
  },
  {
   "cell_type": "code",
   "execution_count": null,
   "id": "9a1d82c8",
   "metadata": {},
   "outputs": [],
   "source": [
    "xyz_epoch0, xyz_epoch1, segments = alg.reconstruct_post_segmentation_output(\n",
    "    epoch0=epoch0,\n",
    "    epoch1=epoch1,\n",
    ")"
   ]
  },
  {
   "cell_type": "markdown",
   "id": "609d646a-b27e-4fa5-a99d-b605c83771f6",
   "metadata": {},
   "source": [
    "Having completed the labelling process, we read it back in and start the trainging procedure:"
   ]
  },
  {
   "cell_type": "code",
   "execution_count": null,
   "id": "065f4bd7",
   "metadata": {},
   "outputs": [],
   "source": [
    "alg.training(\n",
    "    extracted_segments_file_name=\"extracted_segments.seg\",\n",
    "    extended_y_file_name=\"testdata-labelling2.csv\",\n",
    ")"
   ]
  },
  {
   "cell_type": "code",
   "execution_count": null,
   "id": "db468154",
   "metadata": {},
   "outputs": [],
   "source": [
    "distances, uncertainties = alg.compute_distances(epoch0, epoch1)"
   ]
  },
  {
   "cell_type": "markdown",
   "id": "8ea74fd3-a007-414d-84a4-85d3d6d54e03",
   "metadata": {},
   "source": [
    "*Note*: When comparing distance results between this notebook and the [base algorithm notebook](pbm3c2.ipynb), you might notice, that results do not necessarily agree even if the given segmentation information is exactly the same as the one computed in the base algorithm. This is due to the reconstruction process in this algorithm being forced to select the segment position (exported as the *core point*) from the segment points instead of reconstructing the correct position from the base algorithm."
   ]
  },
  {
   "cell_type": "code",
   "execution_count": null,
   "id": "dc48a502",
   "metadata": {},
   "outputs": [],
   "source": []
  }
 ],
 "metadata": {
  "kernelspec": {
   "display_name": "Python 3 (ipykernel)",
   "language": "python",
   "name": "python3"
  },
  "language_info": {
   "codemirror_mode": {
    "name": "ipython",
    "version": 3
   },
   "file_extension": ".py",
   "mimetype": "text/x-python",
   "name": "python",
   "nbconvert_exporter": "python",
   "pygments_lexer": "ipython3",
   "version": "3.11.0"
  }
 },
 "nbformat": 4,
 "nbformat_minor": 5
}
