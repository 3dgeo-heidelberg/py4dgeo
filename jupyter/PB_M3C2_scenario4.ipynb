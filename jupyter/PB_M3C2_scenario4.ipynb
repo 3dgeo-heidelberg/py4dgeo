{
 "cells": [
  {
   "cell_type": "code",
   "execution_count": null,
   "id": "643d20dc",
   "metadata": {},
   "outputs": [],
   "source": [
    "import py4dgeo\n",
    "import numpy as np\n",
    "import pickle"
   ]
  },
  {
   "cell_type": "code",
   "execution_count": null,
   "id": "fe7962f7",
   "metadata": {},
   "outputs": [],
   "source": [
    "py4dgeo.set_interactive_backend(\"vtk\")\n",
    "py4dgeo.ensure_test_data_availability()"
   ]
  },
  {
   "cell_type": "code",
   "execution_count": null,
   "id": "890588ae",
   "metadata": {},
   "outputs": [],
   "source": [
    "epoch0, epoch1 = py4dgeo.read_from_xyz(\n",
    "    \"plane_horizontal_t1.xyz\", \"plane_horizontal_t2.xyz\"\n",
    ")"
   ]
  },
  {
   "cell_type": "code",
   "execution_count": null,
   "id": "6677f464",
   "metadata": {},
   "outputs": [],
   "source": [
    "alg4_no_reconstruction = py4dgeo.PB_M3C2_time_series_no_reconstruction()"
   ]
  },
  {
   "cell_type": "code",
   "execution_count": null,
   "id": "837b35fe",
   "metadata": {},
   "outputs": [],
   "source": [
    "_0, _1, epoch0_segments = super(\n",
    "    py4dgeo.PB_M3C2_time_series_no_reconstruction, alg4_no_reconstruction\n",
    ").export_segmented_point_cloud_and_segments(\n",
    "    epoch0=epoch0,\n",
    "    epoch1=None,\n",
    "    x_y_z_id_epoch0_file_name=None,\n",
    "    x_y_z_id_epoch1_file_name=None,\n",
    "    extracted_segments_file_name=None,\n",
    ")"
   ]
  },
  {
   "cell_type": "code",
   "execution_count": null,
   "id": "4e4271f3",
   "metadata": {},
   "outputs": [],
   "source": [
    "_0, _1, extracted_segments = super(\n",
    "    py4dgeo.PB_M3C2_time_series_no_reconstruction, alg4_no_reconstruction\n",
    ").export_segmented_point_cloud_and_segments(\n",
    "    epoch0=epoch0,\n",
    "    epoch1=epoch1,\n",
    "    x_y_z_id_epoch0_file_name=None,\n",
    "    x_y_z_id_epoch1_file_name=None,\n",
    "    extracted_segments_file_name=None,\n",
    ")"
   ]
  },
  {
   "cell_type": "code",
   "execution_count": null,
   "id": "c1896fd9",
   "metadata": {},
   "outputs": [],
   "source": [
    "# (\n",
    "#     _0,\n",
    "#     _1,\n",
    "#     extracted_segments,\n",
    "# ) = alg4_no_reconstruction.export_segmented_point_cloud_and_segments(\n",
    "#     epoch0_segments=epoch0_segments,\n",
    "#     epoch1_xyz=epoch1,\n",
    "#     x_y_z_id_epoch1_file_name=None,\n",
    "#     extracted_segments_file_name=None,\n",
    "# )\n",
    "#\n",
    "# py4dgeo.Viewer.segments_visualizer(X=extracted_segments)"
   ]
  },
  {
   "cell_type": "code",
   "execution_count": null,
   "id": "6b3d56d1",
   "metadata": {},
   "outputs": [],
   "source": [
    "extended_y = py4dgeo.generate_random_extended_y(\n",
    "    extracted_segments,\n",
    "    # extended_y_file_name=\"extended_y.csv\"\n",
    ")"
   ]
  },
  {
   "cell_type": "code",
   "execution_count": null,
   "id": "2fdb14f9",
   "metadata": {},
   "outputs": [],
   "source": [
    "alg4_no_reconstruction.training(segments=extracted_segments, extended_y=extended_y)"
   ]
  },
  {
   "cell_type": "code",
   "execution_count": null,
   "id": "a8ffa9b4",
   "metadata": {},
   "outputs": [],
   "source": [
    "with open(\"alg4.pickle\", \"wb\") as outfile:\n",
    "    pickle.dump(alg4_no_reconstruction, outfile)"
   ]
  },
  {
   "cell_type": "code",
   "execution_count": null,
   "id": "dbf523fa",
   "metadata": {},
   "outputs": [],
   "source": [
    "with open(\"alg4.pickle\", \"rb\") as infile:\n",
    "    alg4_no_reconstruction = pickle.load(infile)"
   ]
  },
  {
   "cell_type": "code",
   "execution_count": null,
   "id": "21c19967",
   "metadata": {},
   "outputs": [],
   "source": [
    "# alg4_no_reconstruction.predict(\n",
    "#     epoch0_segments=epoch0_segments, epoch1_xyz=epoch1)"
   ]
  },
  {
   "cell_type": "code",
   "execution_count": null,
   "id": "9c56e1d4",
   "metadata": {},
   "outputs": [],
   "source": [
    "distances, uncertainties = alg4_no_reconstruction.compute_distances(\n",
    "    epoch0_segments=epoch0_segments, epoch1_xyz=epoch1\n",
    ")"
   ]
  },
  {
   "cell_type": "code",
   "execution_count": null,
   "id": "9b1ed2a1",
   "metadata": {},
   "outputs": [],
   "source": []
  }
 ],
 "metadata": {
  "kernelspec": {
   "display_name": "Python 3 (ipykernel)",
   "language": "python",
   "name": "python3"
  },
  "language_info": {
   "codemirror_mode": {
    "name": "ipython",
    "version": 3
   },
   "file_extension": ".py",
   "mimetype": "text/x-python",
   "name": "python",
   "nbconvert_exporter": "python",
   "pygments_lexer": "ipython3",
   "version": "3.11.0"
  }
 },
 "nbformat": 4,
 "nbformat_minor": 5
}
