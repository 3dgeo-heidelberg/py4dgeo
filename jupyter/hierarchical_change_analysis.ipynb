{
 "cells": [
  {
   "cell_type": "markdown",
   "id": "22e5aa95",
   "metadata": {},
   "source": [
    "This notebook implements a workflow to analyze point cloud data from two epochs captured before and after a rockfall event. The key steps include:\n",
    "\n",
    "- Reading and loading two point cloud files (LAS/LAZ) representing the epochs.\n",
    "- Creating Vapc objects (v1 and v2) for each epoch and computing the bitemporal Mahalanobis distance to identify significant changes.\n",
    "- Filtering the points based on a significance mask and selecting only those points that show a significant change.\n",
    "- Running the M3C2 algorithm on the significant points to compute distances and associated uncertainties.\n",
    "- Integrating the distance and uncertainty values into the Vapc object's output and saving the results as a LAS file.\n",
    "\n",
    "The notebook uses parameters such as voxel size, alpha, and minimum points to fine-tune the analysis. The results, including the computed distances and uncertainties, are stored in variables like distances, uncertainties, and points_with_change, and eventually saved to the designated output folder."
   ]
  },
  {
   "cell_type": "code",
   "execution_count": 1,
   "id": "8a893e25",
   "metadata": {},
   "outputs": [
    {
     "name": "stdout",
     "output_type": "stream",
     "text": [
      "[2025-06-27 14:20:41][INFO] Reading point cloud from file 'D:\\daten\\projects\\aimon\\georefernced_epochs\\rockfall_low_res_2_epochs\\ScanPos001 - SINGLESCANS - 240826_000005.las'\n",
      "[2025-06-27 14:20:42][INFO] Reading point cloud from file 'D:\\daten\\projects\\aimon\\georefernced_epochs\\rockfall_low_res_2_epochs\\ScanPos001 - SINGLESCANS - 240826_010006.las'\n"
     ]
    }
   ],
   "source": [
    "import py4dgeo\n",
    "import numpy as np\n",
    "\n",
    "before_rockfall_filepath = r\"C:\\Users\\nc298\\repos\\py4dgeo\\tests\\data\\240826_000005.laz\"\n",
    "after_rockfall_filepath = r\"C:\\Users\\nc298\\repos\\py4dgeo\\tests\\data\\240826_010006.laz\"\n",
    "\n",
    "before_rockfall_filepath = r\"D:\\daten\\projects\\aimon\\georefernced_epochs\\rockfall_low_res_2_epochs\\ScanPos001 - SINGLESCANS - 240826_000005.las\"\n",
    "after_rockfall_filepath = r\"D:\\daten\\projects\\aimon\\georefernced_epochs\\rockfall_low_res_2_epochs\\ScanPos001 - SINGLESCANS - 240826_010006.las\"\n",
    "\n",
    "outfolder = r\"C:\\Users\\nc298\\Downloads\"\n",
    "voxel_size = 6\n",
    "alpha = .999\n",
    "min_points = 30\n",
    "\n",
    "epoch1, epoch2 = py4dgeo.read_from_las(before_rockfall_filepath, after_rockfall_filepath)\n"
   ]
  },
  {
   "cell_type": "code",
   "execution_count": 2,
   "id": "61279bc1",
   "metadata": {},
   "outputs": [],
   "source": [
    "# Mute vapc function trace and timeit\n",
    "py4dgeo.enable_trace(False)\n",
    "py4dgeo.enable_timeit(False)\n",
    "\n",
    "voxel_epoch1 = py4dgeo.Vapc(epoch1, voxel_size=voxel_size)\n",
    "voxel_epoch2 = py4dgeo.Vapc(epoch2, voxel_size=voxel_size)\n",
    "\n",
    "#Compute delta vapc\n",
    "mahalanobis_result = voxel_epoch1.compute_bitemporal_mahalanobis(voxel_epoch2, alpha=alpha, min_points=min_points)"
   ]
  },
  {
   "cell_type": "code",
   "execution_count": 3,
   "id": "6eeb9706",
   "metadata": {},
   "outputs": [],
   "source": [
    "# Filter significant changes\n",
    "# The significance is stored in the 'significance' field of the out dictionary\n",
    "sig_filter = mahalanobis_result.out['significance'] == 1\n",
    "# Apply the filter to the Vapc object\n",
    "# This will keep only the significant changes in the Vapc object\n",
    "mahalanobis_result.filter(sig_filter, overwrite=True)\n",
    "# Select points with significant changes\n",
    "# This will return a new Vapc object with only the points that have significant changes\n",
    "voxel_epoch_1_with_significant_change = voxel_epoch1.select_by_mask(mahalanobis_result)"
   ]
  },
  {
   "cell_type": "code",
   "execution_count": 4,
   "id": "2a23c126",
   "metadata": {},
   "outputs": [
    {
     "name": "stdout",
     "output_type": "stream",
     "text": [
      "[2025-06-27 14:20:43][INFO] Building KDTree structure with leaf parameter 10\n",
      "[2025-06-27 14:20:44][INFO] Building KDTree structure with leaf parameter 10\n"
     ]
    }
   ],
   "source": [
    "m3c2 = py4dgeo.M3C2(\n",
    "    epochs=(epoch1, epoch2),\n",
    "    corepoints=voxel_epoch_1_with_significant_change.epoch.cloud,\n",
    "    cyl_radius=1.0,\n",
    "    normal_radii=[1.],\n",
    "    max_distance=10.0\n",
    ")\n",
    "\n",
    "distances, uncertainties = m3c2.run()"
   ]
  },
  {
   "cell_type": "code",
   "execution_count": 5,
   "id": "3a6ef7b9",
   "metadata": {},
   "outputs": [],
   "source": [
    "voxel_epoch_1_with_significant_change.out['distances'] = distances\n",
    "d = {name: uncertainties[name] for name in uncertainties.dtype.names }\n",
    "d_filtered = {k: v for k, v in d.items() if k != 'dtype'}\n",
    "voxel_epoch_1_with_significant_change.out.update(d)\n",
    "voxel_epoch_1_with_significant_change.out[\"significant_change\"] = np.abs(distances) > uncertainties['lodetection']\n",
    "\n",
    "#Save the Vapc object with m3c2 results\n",
    "outfile = f\"{outfolder}/mahalanobis_vapc_{voxel_size}_{alpha}_m3c2.laz\"\n",
    "voxel_epoch_1_with_significant_change.save_as_las(outfile)"
   ]
  }
 ],
 "metadata": {
  "kernelspec": {
   "display_name": "Python 3",
   "language": "python",
   "name": "python3"
  },
  "language_info": {
   "codemirror_mode": {
    "name": "ipython",
    "version": 3
   },
   "file_extension": ".py",
   "mimetype": "text/x-python",
   "name": "python",
   "nbconvert_exporter": "python",
   "pygments_lexer": "ipython3",
   "version": "3.10.15"
  }
 },
 "nbformat": 4,
 "nbformat_minor": 5
}
