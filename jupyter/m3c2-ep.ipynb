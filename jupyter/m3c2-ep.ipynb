{
 "cells": [
  {
   "cell_type": "markdown",
   "id": "c37846d8",
   "metadata": {},
   "source": [
    "# Basic M3C2-EPalgorithm"
   ]
  },
  {
   "cell_type": "markdown",
   "id": "2918b515",
   "metadata": {},
   "source": [
    "This presents how the M3C2-EP algorithm ([Winiwarter et al., 2013](#References)) for point cloud distance computation can be run using the `py4dgeo` package. "
   ]
  },
  {
   "cell_type": "markdown",
   "id": "c4b8120e",
   "metadata": {},
   "source": [
    "As a first step, we import the `py4dgeo` and `numpy` packages:"
   ]
  },
  {
   "cell_type": "code",
   "execution_count": null,
   "id": "8c2744cd",
   "metadata": {},
   "outputs": [],
   "source": [
    "import numpy as np\n",
    "import py4dgeo"
   ]
  },
  {
   "cell_type": "markdown",
   "id": "258615c6",
   "metadata": {},
   "source": [
    "For this demonstrator notebook, we download test data from the [py4dgeo test data repository](https://github.com/3dgeo-heidelberg/py4dgeo-test-data/). This is not required if you are working with your own data:"
   ]
  },
  {
   "cell_type": "code",
   "execution_count": null,
   "id": "ed7b47b1",
   "metadata": {},
   "outputs": [],
   "source": [
    "py4dgeo.ensure_test_data_availability()"
   ]
  },
  {
   "cell_type": "markdown",
   "id": "eff040f9",
   "metadata": {},
   "source": [
    "Next, we need to load two datasets that cover the same scene at two different points in time. Point cloud datasets are represented by `numpy` arrays of shape `n x 3` using a 64 bit floating point type (`np.float64`)."
   ]
  },
  {
   "cell_type": "markdown",
   "id": "a4ef01d4",
   "metadata": {},
   "source": [
    "Please ensure two datasets include scan positions which are specified by attribute name `sp_name` and scan positions configuration information in `sp_file`. "
   ]
  },
  {
   "cell_type": "markdown",
   "id": "432b5e56",
   "metadata": {},
   "source": [
    "Here, we work with a rather small synthetical data set:"
   ]
  },
  {
   "cell_type": "code",
   "execution_count": null,
   "id": "2752482d",
   "metadata": {},
   "outputs": [],
   "source": [
    "epoch1, epoch2 = py4dgeo.read_from_las(\"t1.laz\", \"t2.laz\", sp_name=\"point_source_id\", sp_file=\"sps.json\")"
   ]
  },
  {
   "cell_type": "markdown",
   "id": "a3c436ee",
   "metadata": {},
   "source": [
    "The analysis of point cloud distances is executed on so-called *core points* (cf. Lague et al., 2013). These could be, e.g., one of the input point clouds, a subsampled version thereof, points in an equidistant grid, etc. Here, we choose a subsampling by taking every 50th point of the reference point cloud:"
   ]
  },
  {
   "cell_type": "code",
   "execution_count": null,
   "id": "72d20291",
   "metadata": {},
   "outputs": [],
   "source": [
    "corepoints = epoch1.cloud[::50]"
   ]
  },
  {
   "cell_type": "markdown",
   "id": "7f7df036",
   "metadata": {},
   "source": [
    "The algorithm needs covariance matrix of shape `12 x 12`, affine transformation matrix of shape `3 x 4` and translation vector (3 parameters)."
   ]
  },
  {
   "cell_type": "code",
   "execution_count": null,
   "id": "037e2f8e",
   "metadata": {},
   "outputs": [],
   "source": [
    "Cxx = np.loadtxt('./test_data/Cxx.csv', dtype=np.float64, delimiter=',')\n",
    "tfM = np.loadtxt('./test_data/tfM.csv', dtype=np.float64, delimiter=',')\n",
    "redPoint = np.loadtxt('./test_data/redPoint.csv', dtype=np.float64, delimiter=',')"
   ]
  },
  {
   "cell_type": "markdown",
   "id": "4e4c3fe8",
   "metadata": {},
   "source": [
    "Next, we instantiate the algorithm class and run the distance calculation:"
   ]
  },
  {
   "cell_type": "code",
   "execution_count": null,
   "id": "c13b5302",
   "metadata": {},
   "outputs": [],
   "source": [
    "m3c2_ep = py4dgeo.M3C2EP(\n",
    "    epochs=(epoch1, epoch2),\n",
    "    corepoints=corepoints,\n",
    "    normal_radii=(0.5, 1.0, 2.0),\n",
    "    cyl_radii=(0.5,),\n",
    "    max_distance=3.0,\n",
    "    Cxx=Cxx,\n",
    "    tfM=tfM,\n",
    "    refPointMov=redPoint\n",
    ")"
   ]
  },
  {
   "cell_type": "code",
   "execution_count": null,
   "id": "98864827",
   "metadata": {},
   "outputs": [],
   "source": [
    "distances, uncertainties, covariance = m3c2_ep.run()"
   ]
  },
  {
   "cell_type": "markdown",
   "id": "5530fe99",
   "metadata": {},
   "source": [
    "The calculated result is an array  with one distance per core point. The order of distances corresponds exactly to the order of input core points."
   ]
  },
  {
   "cell_type": "code",
   "execution_count": null,
   "id": "c68395a2",
   "metadata": {},
   "outputs": [],
   "source": [
    "distances"
   ]
  },
  {
   "cell_type": "markdown",
   "id": "c6745483",
   "metadata": {},
   "source": [
    "Corresponding to the derived distances, an uncertainty array is returned which contains several quantities that can be accessed individually: The level of detection `lodetection`, the spread of the distance across points in either cloud (`spread1` and `spread2`, by default measured as the standard deviation of distances) and the total number of points taken into consideration in either cloud (`num_samples1` and `num_samples2`):"
   ]
  },
  {
   "cell_type": "code",
   "execution_count": null,
   "id": "9071d70a",
   "metadata": {},
   "outputs": [],
   "source": [
    "uncertainties[\"lodetection\"]"
   ]
  },
  {
   "cell_type": "code",
   "execution_count": null,
   "id": "72ee14f3",
   "metadata": {},
   "outputs": [],
   "source": [
    "uncertainties[\"spread1\"]"
   ]
  },
  {
   "cell_type": "code",
   "execution_count": null,
   "id": "e1d8d574",
   "metadata": {},
   "outputs": [],
   "source": [
    "uncertainties[\"num_samples1\"]"
   ]
  },
  {
   "cell_type": "markdown",
   "id": "8349c72a",
   "metadata": {},
   "source": [
    "Corresponding to the derived distances, a 3D covariance information for the point cloud is returned."
   ]
  },
  {
   "cell_type": "code",
   "execution_count": null,
   "id": "35bf96ed",
   "metadata": {},
   "outputs": [],
   "source": [
    "covariance['cov1'].shape"
   ]
  },
  {
   "cell_type": "code",
   "execution_count": null,
   "id": "f778a31c",
   "metadata": {},
   "outputs": [],
   "source": [
    "covariance['cov1'][0,:,:]"
   ]
  },
  {
   "cell_type": "markdown",
   "id": "3c277dfb",
   "metadata": {},
   "source": [
    "Finally we could visualize our distances results."
   ]
  },
  {
   "cell_type": "code",
   "execution_count": null,
   "id": "65305577",
   "metadata": {},
   "outputs": [],
   "source": [
    "import matplotlib.cm as cm\n",
    "import matplotlib.pyplot as plt\n",
    "def plt_3d(corepoints, distances):\n",
    "    fig, ax = plt.subplots(figsize=(10,10), subplot_kw={'projection' : '3d'})\n",
    "\n",
    "    # add axis labels\n",
    "    ax.set_xlabel('X [m]')\n",
    "    ax.set_ylabel('Y [m]')\n",
    "    ax.set_zlabel('Z [m]')\n",
    "    \n",
    "    # plot the corepoints colored by their distance\n",
    "    x,y,z = np.transpose(corepoints)\n",
    "    pts = ax.scatter(x,y,z,s=10, c=distances, vmin=-1, vmax=1, cmap=cm.seismic_r)\n",
    "    \n",
    "    # add colorbar\n",
    "    cmap = plt.colorbar(pts, shrink=0.5, label=\"Distance [m]\", ax=ax)  \n",
    "    \n",
    "    # add title\n",
    "    ax.set_title(\"Visualize Changes\")\n",
    "    \n",
    "    ax.set_aspect('equal')\n",
    "    ax.view_init(22,113)\n",
    "    plt.show()"
   ]
  },
  {
   "cell_type": "code",
   "execution_count": null,
   "id": "2e314fb6",
   "metadata": {},
   "outputs": [],
   "source": [
    "plt_3d(corepoints, distances)"
   ]
  },
  {
   "cell_type": "markdown",
   "id": "f13cb078",
   "metadata": {},
   "source": [
    "### References\n",
    "* Winiwarter, L., Anders, K., & Höfle, B. (2021). M3C2-EP: Pushing the limits of 3D topographic point cloud change detection by error propagation. ISPRS Journal of Photogrammetry and Remote Sensing, 178, 240-258. doi: [10.1016/j.isprsjprs.2021.06.011](https://doi.org/10.1016/j.isprsjprs.2021.06.011).\n",
    "\n",
    "* Lague, D., Brodu, N., & Leroux, J. (2013). Accurate 3D comparison of complex topography with terrestrial laser scanner: Application to the Rangitikei canyon (N-Z). ISPRS Journal of Photogrammetry and Remote Sensing, 82, pp. 10-26. doi: [10.1016/j.isprsjprs.2013.04.009](https://doi.org/10.1016/j.isprsjprs.2013.04.009)."
   ]
  }
 ],
 "metadata": {
  "kernelspec": {
   "display_name": "Python 3.9.10",
   "language": "python",
   "name": "python3910"
  },
  "language_info": {
   "codemirror_mode": {
    "name": "ipython",
    "version": 3
   },
   "file_extension": ".py",
   "mimetype": "text/x-python",
   "name": "python",
   "nbconvert_exporter": "python",
   "pygments_lexer": "ipython3",
   "version": "3.9.10"
  }
 },
 "nbformat": 4,
 "nbformat_minor": 5
}
