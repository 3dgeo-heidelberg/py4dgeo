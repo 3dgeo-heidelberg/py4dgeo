{
 "cells": [
  {
   "cell_type": "markdown",
   "id": "2e42c77f-ee59-4038-81a0-c7101e10eb09",
   "metadata": {},
   "source": [
    "# Algorithm customization"
   ]
  },
  {
   "cell_type": "markdown",
   "id": "58c9a3e2-c236-4d8a-8ade-90591e7dcf5f",
   "metadata": {},
   "source": [
    "`py4dgeo` does not only provide a high performance implementation of the M3C2 base algorithm and some of it variants. It also allows you to rapidly prototype new algorithms in Python. We will demonstrate the necessary concepts by implementing some dummy algorithms without geographic relevance. First, we do the necessary setup, please consult the [M3C2 notebook](m3c2.ipynb) for details."
   ]
  },
  {
   "cell_type": "code",
   "execution_count": null,
   "id": "d2b0223d-df62-4648-b5af-2bcd8c0a7221",
   "metadata": {},
   "outputs": [],
   "source": [
    "import numpy as np\n",
    "import py4dgeo"
   ]
  },
  {
   "cell_type": "markdown",
   "id": "a9ea5286-e619-48e7-898b-7103f348fc3c",
   "metadata": {},
   "source": [
    "In order to test our dummy algorithms in this notebook, we load some point clouds:"
   ]
  },
  {
   "cell_type": "code",
   "execution_count": null,
   "id": "d1467d2a-7967-46f3-a2c2-39d00bb5fe1d",
   "metadata": {},
   "outputs": [],
   "source": [
    "epoch1 = py4dgeo.Epoch(\n",
    "    np.genfromtxt(py4dgeo.find_file(\"plane_horizontal_t1.xyz\"), dtype=np.float64)\n",
    ")\n",
    "epoch2 = py4dgeo.Epoch(\n",
    "    np.genfromtxt(py4dgeo.find_file(\"plane_horizontal_t2.xyz\"), dtype=np.float64)\n",
    ")\n",
    "corepoints = np.copy(epoch1.cloud[::100])"
   ]
  },
  {
   "cell_type": "markdown",
   "id": "1c9caec1-6037-4c28-819b-c9d0526a59a7",
   "metadata": {},
   "source": [
    "## Inherting from the algorithm class"
   ]
  },
  {
   "cell_type": "markdown",
   "id": "9af6cadf-395a-4a8d-97c0-70371fd82b49",
   "metadata": {},
   "source": [
    "Each algorithm is represented by a class that inherits from `M3C2LikeAlgorithm`. It does not need to inherit directly from that class, but can e.g. also inherit from a more specialized class like `M3C2`. Our first algorithm will behave exactly like `M3C2` only that it reports a different name:"
   ]
  },
  {
   "cell_type": "code",
   "execution_count": null,
   "id": "9f3f8fc5-a20b-46f8-81b2-b7f136c2afd1",
   "metadata": {},
   "outputs": [],
   "source": [
    "class RenamedAlgorithm(py4dgeo.M3C2):\n",
    "    @property\n",
    "    def name(self):\n",
    "        return \"My super-duper M3C2 algorithm\""
   ]
  },
  {
   "cell_type": "markdown",
   "id": "b88f86d9-d435-4247-b5f4-cf56c226d057",
   "metadata": {},
   "source": [
    "In the following, we will go over possible customization points for derived algorithm classes."
   ]
  },
  {
   "cell_type": "markdown",
   "id": "7de2aac5-287f-4ed0-a261-13ed1c03fcb8",
   "metadata": {},
   "source": [
    "## Changing search directions"
   ]
  },
  {
   "cell_type": "markdown",
   "id": "2be5e107-3344-431b-a6f8-d6e4dc84af1a",
   "metadata": {},
   "source": [
    "Next, we switch to another method of determining the search direction, namely the constant direction `(0, 0, 1)`. `py4dgeo` implements a variety of search directions, but you may also provide your own implementation by inheriting from the `Direction` baseclass from `py4dgeo.directions`."
   ]
  },
  {
   "cell_type": "code",
   "execution_count": null,
   "id": "975f3a8a-a29b-4f56-b5b1-9f344f5d91b9",
   "metadata": {},
   "outputs": [],
   "source": [
    "from py4dgeo.directions import ConstantDirection"
   ]
  },
  {
   "cell_type": "code",
   "execution_count": null,
   "id": "065839ba-a04c-4a41-a8f1-46d3af21181b",
   "metadata": {},
   "outputs": [],
   "source": [
    "class DirectionAlgorithm(RenamedAlgorithm):\n",
    "    def calculate_directions(self):\n",
    "        return ConstantDirection(np.array([0, 0, 1]))"
   ]
  },
  {
   "cell_type": "code",
   "execution_count": null,
   "id": "a7058e4c-0437-4c0f-9924-140c960db759",
   "metadata": {},
   "outputs": [],
   "source": [
    "DirectionAlgorithm(epochs=(epoch1, epoch2), corepoints=corepoints, radii=(2.0,)).run()"
   ]
  },
  {
   "cell_type": "markdown",
   "id": "51f3ca3f-b500-4ea0-96de-85bd5b24687f",
   "metadata": {},
   "source": [
    "## Adding Python callbacks to the C++ implementation"
   ]
  },
  {
   "cell_type": "markdown",
   "id": "ea920a72-eb19-4032-8569-c7c19318ec84",
   "metadata": {},
   "source": [
    "*TODO Write this*"
   ]
  },
  {
   "cell_type": "markdown",
   "id": "19071664-9926-406d-8f3b-642f234e8c36",
   "metadata": {},
   "source": [
    "## Running setup code"
   ]
  },
  {
   "cell_type": "markdown",
   "id": "434d6d21-85fe-4738-aee9-aa3e272b95dc",
   "metadata": {},
   "source": [
    "It is possible to inject some setup code into the algorithm workflow. You can e.g. use that to trigger some precomputations:"
   ]
  },
  {
   "cell_type": "code",
   "execution_count": null,
   "id": "aba31b98-e7b0-40f1-a040-f197c77bf659",
   "metadata": {},
   "outputs": [],
   "source": [
    "class SetupAlgorithm(RenamedAlgorithm):\n",
    "    def setup(self):\n",
    "        print(\"This algorithm performs some additional setup work\")\n",
    "\n",
    "        # Also perform potential setup work by base classes\n",
    "        super().__init__()"
   ]
  },
  {
   "cell_type": "markdown",
   "id": "bb0af919-9a7d-4d1b-8937-9199e9f233a5",
   "metadata": {},
   "source": [
    "## Other customization"
   ]
  },
  {
   "cell_type": "markdown",
   "id": "28309d48-90cf-4b02-ba44-9444fd88b5b6",
   "metadata": {},
   "source": [
    "If your algorithm requires a different customization point, please open an issue on [the py4dgeo issue tracker](https://github.com/ssciwr/py4dgeo/issues)."
   ]
  }
 ],
 "metadata": {
  "kernelspec": {
   "display_name": "Python 3 (ipykernel)",
   "language": "python",
   "name": "python3"
  },
  "language_info": {
   "codemirror_mode": {
    "name": "ipython",
    "version": 3
   },
   "file_extension": ".py",
   "mimetype": "text/x-python",
   "name": "python",
   "nbconvert_exporter": "python",
   "pygments_lexer": "ipython3",
   "version": "3.9.7"
  }
 },
 "nbformat": 4,
 "nbformat_minor": 5
}
