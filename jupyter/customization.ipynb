{
 "cells": [
  {
   "cell_type": "markdown",
   "id": "2e42c77f-ee59-4038-81a0-c7101e10eb09",
   "metadata": {},
   "source": [
    "# Algorithm customization"
   ]
  },
  {
   "cell_type": "markdown",
   "id": "58c9a3e2-c236-4d8a-8ade-90591e7dcf5f",
   "metadata": {},
   "source": [
    "`py4dgeo` does not only provide a high performance implementation of the M3C2 base algorithm and some of it variants. It also allows you to rapidly prototype new algorithms in Python. We will demonstrate the necessary concepts by implementing some dummy algorithms without geographic relevance. First, we do the necessary setup, please consult the [M3C2 notebook](m3c2.ipynb) for details."
   ]
  },
  {
   "cell_type": "code",
   "execution_count": null,
   "id": "d2b0223d-df62-4648-b5af-2bcd8c0a7221",
   "metadata": {},
   "outputs": [],
   "source": [
    "import numpy as np\n",
    "import py4dgeo"
   ]
  },
  {
   "cell_type": "markdown",
   "id": "a9ea5286-e619-48e7-898b-7103f348fc3c",
   "metadata": {},
   "source": [
    "In order to test our dummy algorithms in this notebook, we load some point clouds:"
   ]
  },
  {
   "cell_type": "code",
   "execution_count": null,
   "id": "d1467d2a-7967-46f3-a2c2-39d00bb5fe1d",
   "metadata": {},
   "outputs": [],
   "source": [
    "epoch1, epoch2 = py4dgeo.read_from_xyz(\n",
    "    \"plane_horizontal_t1.xyz\", \"plane_horizontal_t2.xyz\"\n",
    ")\n",
    "corepoints = epoch1.cloud[::100]"
   ]
  },
  {
   "cell_type": "markdown",
   "id": "1c9caec1-6037-4c28-819b-c9d0526a59a7",
   "metadata": {},
   "source": [
    "## Inherting from the algorithm class"
   ]
  },
  {
   "cell_type": "markdown",
   "id": "9af6cadf-395a-4a8d-97c0-70371fd82b49",
   "metadata": {},
   "source": [
    "Each algorithm is represented by a class that inherits from `M3C2LikeAlgorithm`. It does not need to inherit directly from that class, but can e.g. also inherit from a more specialized class like `M3C2`. Our first algorithm will behave exactly like `M3C2` only that it reports a different name:"
   ]
  },
  {
   "cell_type": "code",
   "execution_count": null,
   "id": "9f3f8fc5-a20b-46f8-81b2-b7f136c2afd1",
   "metadata": {},
   "outputs": [],
   "source": [
    "class RenamedAlgorithm(py4dgeo.M3C2):\n",
    "    @property\n",
    "    def name(self):\n",
    "        return \"My super-duper M3C2 algorithm\""
   ]
  },
  {
   "cell_type": "markdown",
   "id": "b88f86d9-d435-4247-b5f4-cf56c226d057",
   "metadata": {},
   "source": [
    "In the following, we will go over possible customization points for derived algorithm classes."
   ]
  },
  {
   "cell_type": "markdown",
   "id": "7de2aac5-287f-4ed0-a261-13ed1c03fcb8",
   "metadata": {},
   "source": [
    "## Changing search directions"
   ]
  },
  {
   "cell_type": "markdown",
   "id": "2be5e107-3344-431b-a6f8-d6e4dc84af1a",
   "metadata": {},
   "source": [
    "Next, we switch to another method of determining the search direction, namely the constant direction `(0, 0, 1)`:"
   ]
  },
  {
   "cell_type": "code",
   "execution_count": null,
   "id": "065839ba-a04c-4a41-a8f1-46d3af21181b",
   "metadata": {},
   "outputs": [],
   "source": [
    "class DirectionAlgorithm(RenamedAlgorithm):\n",
    "    def directions(self):\n",
    "        return np.array([0, 0, 1])"
   ]
  },
  {
   "cell_type": "code",
   "execution_count": null,
   "id": "a7058e4c-0437-4c0f-9924-140c960db759",
   "metadata": {},
   "outputs": [],
   "source": [
    "DirectionAlgorithm(\n",
    "    epochs=(epoch1, epoch2), corepoints=corepoints, cyl_radii=(5.0,)\n",
    ").run()"
   ]
  },
  {
   "cell_type": "markdown",
   "id": "46bafd0a-c066-4fee-bebb-d5166e6cc607",
   "metadata": {},
   "source": [
    "In the above, we chose a constant vector across all corepoints by providing an array of shape `(1x3)`. Alternatively we may provide an array of the same shape as the corepoints array to implement a normal direction that varies for each core point."
   ]
  },
  {
   "cell_type": "markdown",
   "id": "51f3ca3f-b500-4ea0-96de-85bd5b24687f",
   "metadata": {},
   "source": [
    "## Adding Python callbacks to the C++ implementation"
   ]
  },
  {
   "cell_type": "markdown",
   "id": "ea920a72-eb19-4032-8569-c7c19318ec84",
   "metadata": {},
   "source": [
    "`py4dgeo` implements the M3C2 algorithm in performance-oriented C++. The implementation is substructured as follows: The main algorithm for distance calculation gets passed several callback functions that it calls during distance calculation. For each of these callback functions, there are two implementations:\n",
    "\n",
    "* An efficient C++ function that is exposed through Python bindings\n",
    "* A pure Python function that serves as a fallback/reference implementation.\n",
    "\n",
    "In order to customize the algorithm behaviour, you can also provide your own implementation (either in Python or in C++). See the following example where we like this:"
   ]
  },
  {
   "cell_type": "code",
   "execution_count": null,
   "id": "482cb9be-eca4-4c67-82a7-4937e3764f8f",
   "metadata": {},
   "outputs": [],
   "source": [
    "def my_custom_workingset_finder(*args):\n",
    "    print(\"I was called and returned a single point\")\n",
    "    return np.zeros((1, 3))"
   ]
  },
  {
   "cell_type": "code",
   "execution_count": null,
   "id": "f28f1b84-7904-4167-9d6d-5d683c913b07",
   "metadata": {},
   "outputs": [],
   "source": [
    "class CallbackAlgorithm(RenamedAlgorithm):\n",
    "    def callback_workingset_finder(self):\n",
    "        return my_custom_workingset_finder"
   ]
  },
  {
   "cell_type": "code",
   "execution_count": null,
   "id": "2910245a-5147-4366-a210-3f11b1ccddc4",
   "metadata": {},
   "outputs": [],
   "source": [
    "CallbackAlgorithm(\n",
    "    epochs=(epoch1, epoch2),\n",
    "    corepoints=corepoints,\n",
    "    cyl_radii=(2.0,),\n",
    "    normal_radii=(1.0, 2.0),\n",
    ").run()"
   ]
  },
  {
   "cell_type": "markdown",
   "id": "3fb937a6-2c93-4649-893c-072f86241068",
   "metadata": {},
   "source": [
    "In order to learn about what possible callbacks there are and what arguments they are expecting, please have a look at the Python fallback implementations in [fallback.py](https://github.com/3dgeo-heidelberg/py4dgeo/blob/main/py4dgeo/fallback.py) *Note: There will be better documentation about this in the future!* For educational, testing and debugging purposes, there is an implementation of the M3C2 base algorithm that exclusively uses Python fallbacks:"
   ]
  },
  {
   "cell_type": "code",
   "execution_count": null,
   "id": "86388dbb-9187-426a-a5c8-027f46f29bc8",
   "metadata": {},
   "outputs": [],
   "source": [
    "from py4dgeo.fallback import PythonFallbackM3C2"
   ]
  },
  {
   "cell_type": "code",
   "execution_count": null,
   "id": "64e769d9-5496-4790-bf3b-69edd795b2c6",
   "metadata": {},
   "outputs": [],
   "source": [
    "PythonFallbackM3C2(\n",
    "    epochs=(epoch1, epoch2),\n",
    "    corepoints=corepoints,\n",
    "    cyl_radii=(2.0,),\n",
    "    normal_radii=(1.0, 2.0),\n",
    ").run()"
   ]
  },
  {
   "cell_type": "markdown",
   "id": "79925c85-bacd-4f64-805a-317862135db5",
   "metadata": {},
   "source": [
    "<div class=\"alert alert-block alert-warning\"><b>Important:</b> Using Python callbacks does considerably slow down your algorithm. While this is true for sequential runs, the effects are even more substantial when applying multi-threading. In the worst case (where you spend all your runtime in Python callbacks), your parallel performance will degrade to sequential. Use this feature for prototyping, but provide a C++ implementation of your callback for production runs.</div>"
   ]
  },
  {
   "cell_type": "markdown",
   "id": "bb0af919-9a7d-4d1b-8937-9199e9f233a5",
   "metadata": {},
   "source": [
    "## Other customization"
   ]
  },
  {
   "cell_type": "markdown",
   "id": "28309d48-90cf-4b02-ba44-9444fd88b5b6",
   "metadata": {},
   "source": [
    "If your algorithm requires a different customization point, please open an issue on [the py4dgeo issue tracker](https://github.com/3dgeo-heidelberg/py4dgeo/issues)."
   ]
  }
 ],
 "metadata": {
  "kernelspec": {
   "display_name": "Python 3 (ipykernel)",
   "language": "python",
   "name": "python3"
  },
  "language_info": {
   "codemirror_mode": {
    "name": "ipython",
    "version": 3
   },
   "file_extension": ".py",
   "mimetype": "text/x-python",
   "name": "python",
   "nbconvert_exporter": "python",
   "pygments_lexer": "ipython3",
   "version": "3.10.6"
  }
 },
 "nbformat": 4,
 "nbformat_minor": 5
}
