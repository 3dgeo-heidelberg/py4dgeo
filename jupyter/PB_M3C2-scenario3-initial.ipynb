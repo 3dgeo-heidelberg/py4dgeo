{
 "cells": [
  {
   "cell_type": "markdown",
   "id": "f039e518",
   "metadata": {},
   "source": [
    "# Correspondence-driven plane-based M3C2 (PB_M3C2) with externally produced similar regions"
   ]
  },
  {
   "cell_type": "code",
   "execution_count": null,
   "id": "dfbfe4d6",
   "metadata": {},
   "outputs": [],
   "source": [
    "import py4dgeo\n",
    "import numpy as np"
   ]
  },
  {
   "cell_type": "markdown",
   "id": "2f1addad-5ce2-49d8-93f5-46b41bf76446",
   "metadata": {},
   "source": [
    "In this notebook, we present a variant of the *Correspondence-driven plane-based M3C2* (PB-M3C2, [Zahs et al., 2022](#References)) algorithm. In contrast to the [base algorithm](PB_M3C2.ipynb), we are taking an alternative input source: Externally produced pairs of coordinates which should correspond to regions of similarity. It is not required to do this based on the segment IDs (as was done in [this variant of the algorithm](PB_M3C2_scenario2.ipynb)) - instead similar regions are matched with segments based on proximity."
   ]
  },
  {
   "cell_type": "markdown",
   "id": "f2782cee-94e6-484b-b94c-e3fafc7735e0",
   "metadata": {},
   "source": [
    "The initial setup of the algorithm is exactly like we have seen before:"
   ]
  },
  {
   "cell_type": "code",
   "execution_count": null,
   "id": "9985f629",
   "metadata": {},
   "outputs": [],
   "source": [
    "py4dgeo.set_interactive_backend(\"vtk\")"
   ]
  },
  {
   "cell_type": "code",
   "execution_count": null,
   "id": "62e7043f",
   "metadata": {},
   "outputs": [],
   "source": [
    "py4dgeo.ensure_test_data_availability()"
   ]
  },
  {
   "cell_type": "code",
   "execution_count": null,
   "id": "9634fc5d",
   "metadata": {},
   "outputs": [],
   "source": [
    "epoch0, epoch1 = py4dgeo.read_from_xyz(\n",
    "    \"plane_horizontal_t1.xyz\", \"plane_horizontal_t2.xyz\"\n",
    ")"
   ]
  },
  {
   "cell_type": "code",
   "execution_count": null,
   "id": "760258ae",
   "metadata": {},
   "outputs": [],
   "source": [
    "alg = py4dgeo.PB_M3C2()"
   ]
  },
  {
   "cell_type": "code",
   "execution_count": null,
   "id": "798e163e",
   "metadata": {},
   "outputs": [],
   "source": [
    "xyz_epoch0, xyz_epoch1, segment_id = alg.export_segmented_point_cloud_and_segments(\n",
    "    epoch0=epoch0,\n",
    "    epoch1=epoch1,\n",
    ")"
   ]
  },
  {
   "cell_type": "markdown",
   "id": "8b2d2669-c6ab-4f01-bd56-80b4ae2f079f",
   "metadata": {},
   "source": [
    "We now need to load our externally produced pairs of proximity regions. We are expecting a `numpy` array of seven columns and one row per proximity pair. The first three columns denote the XYZ coordinates of the center of mass in the first epoch. Likewise, the forth to sixth column denote the center of mass in the second epoch. The last column can contain either `0` or `1` depending on whether the two regions contain segments that look alike. In this example, we store the data as a CSV file, but you are free to choose your own format, as long as you are able to read it into a `np.array` data structure:"
   ]
  },
  {
   "cell_type": "code",
   "execution_count": null,
   "id": "a441062f-ce5d-47a2-a01f-31f63ad9f335",
   "metadata": {},
   "outputs": [],
   "source": [
    "pairs_of_points = np.loadtxt(\n",
    "    py4dgeo.find_file(\"testdata-proximity-labelling.csv\"), delimiter=\",\"\n",
    ")"
   ]
  },
  {
   "cell_type": "markdown",
   "id": "0023cc2a-5e47-40c3-b331-c6fb6ed8eb36",
   "metadata": {},
   "source": [
    "Given this data, we can perform the proximity matching using the following function. The `threshold_max_distance` parameter controls the proximity matching between given regions and found segments:"
   ]
  },
  {
   "cell_type": "code",
   "execution_count": null,
   "id": "49b8ce2a-c264-411d-a1a2-7ba52f3b354d",
   "metadata": {},
   "outputs": [],
   "source": [
    "extended_y = py4dgeo.generate_extended_y_from_prior_knowledge(\n",
    "    segments=segment_id, pairs_of_points=pairs_of_points, threshold_max_distance=5\n",
    ")"
   ]
  },
  {
   "cell_type": "markdown",
   "id": "685772de-4b35-4fb7-94d2-0463266287e2",
   "metadata": {},
   "source": [
    "We are now ready to train the algorithm and do distance calculation:"
   ]
  },
  {
   "cell_type": "code",
   "execution_count": null,
   "id": "bfeb3e4a",
   "metadata": {},
   "outputs": [],
   "source": [
    "alg.training(\n",
    "    extracted_segments_file_name=\"extracted_segments.seg\", extended_y=extended_y\n",
    ")"
   ]
  },
  {
   "cell_type": "code",
   "execution_count": null,
   "id": "eb73e0bc",
   "metadata": {},
   "outputs": [],
   "source": [
    "distances, uncertainties = alg.compute_distances(epoch0=epoch0, epoch1=epoch1)"
   ]
  },
  {
   "cell_type": "markdown",
   "id": "b3f49801-58e0-47fa-88f1-991b06bd8182",
   "metadata": {},
   "source": [
    "### References\n",
    "\n",
    "* Zahs, V., Winiwarter, L., Anders, K., Williams, J.G., Rutzinger, M. & Höfle, B. (2022): Correspondence-driven plane-based M3C2 for lower uncertainty in 3D topographic change quantification. ISPRS Journal of Photogrammetry and Remote Sensing, 183, pp. 541-559. DOI: [10.1016/j.isprsjprs.2021.11.018](https://doi.org/10.1016/j.isprsjprs.2021.11.018)."
   ]
  }
 ],
 "metadata": {
  "kernelspec": {
   "display_name": "Python 3 (ipykernel)",
   "language": "python",
   "name": "python3"
  },
  "language_info": {
   "codemirror_mode": {
    "name": "ipython",
    "version": 3
   },
   "file_extension": ".py",
   "mimetype": "text/x-python",
   "name": "python",
   "nbconvert_exporter": "python",
   "pygments_lexer": "ipython3",
   "version": "3.11.0"
  }
 },
 "nbformat": 4,
 "nbformat_minor": 5
}
