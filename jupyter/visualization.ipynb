{
 "cells": [
  {
   "cell_type": "markdown",
   "id": "0",
   "metadata": {},
   "source": [
    "# Visualization of a point cloud range image"
   ]
  },
  {
   "cell_type": "markdown",
   "id": "1",
   "metadata": {},
   "source": [
    "This presents how the visualization module can be run using the `py4dgeo` package to project a point cloud. As a first step, we import the `py4dgeo` packages:"
   ]
  },
  {
   "cell_type": "code",
   "execution_count": null,
   "id": "2",
   "metadata": {},
   "outputs": [],
   "source": [
    "import py4dgeo\n",
    "from py4dgeo.util import find_file\n",
    "import os"
   ]
  },
  {
   "cell_type": "markdown",
   "id": "3",
   "metadata": {},
   "source": [
    "## Initialize epoch\n",
    "Next, we need to load one dataset. Here, we work with a rather small synthetical data set. Once the epoch is loaded, we need to add the coordinate from where the projection is done. The best position is often the coordinates of the scanner the captured the point cloud."
   ]
  },
  {
   "cell_type": "code",
   "execution_count": null,
   "id": "4",
   "metadata": {},
   "outputs": [],
   "source": [
    "t1_file = find_file(r\"ahk_2017_652900_5189100_gnd_subarea.laz\")\n",
    "\n",
    "epoch = py4dgeo.read_from_las(t1_file)\n",
    "epoch.scanpos_info = [652924, 5189200, 2514]  # scanner position ([X, Y, Z])\n",
    "desktop = os.path.normpath(os.path.expanduser(\"~/Desktop\"))\n",
    "filename = os.path.join(desktop, \"p4dgeo_image_projection.tif\")"
   ]
  },
  {
   "cell_type": "markdown",
   "id": "5",
   "metadata": {},
   "source": [
    "## Project point cloud for range image visualization\n",
    "To project the point cloud, we use the ```project_pc()``` method. Here, we use the default parameters and save the image. "
   ]
  },
  {
   "cell_type": "code",
   "execution_count": null,
   "id": "6",
   "metadata": {},
   "outputs": [],
   "source": [
    "epoch.project_pc()\n",
    "epoch.visualize(filename=filename, from_notebook=True)"
   ]
  },
  {
   "cell_type": "markdown",
   "id": "7",
   "metadata": {},
   "source": [
    "## Visualize events\n",
    "It is also possible to visualize objects of events as polygons directly on the image as follows."
   ]
  },
  {
   "cell_type": "code",
   "execution_count": null,
   "id": "8",
   "metadata": {},
   "outputs": [],
   "source": [
    "# Example of visualizing with polygons\n",
    "# Define polygons to visualize on the projected point cloud\n",
    "lst_polygon = [\n",
    "    [(450, 140), (450, 150), (400, 160), (390, 150), (400, 140)],\n",
    "    [(560, 260), (550, 230), (530, 240), (530, 270), (535, 275)],\n",
    "]\n",
    "epoch.visualize(filename=filename, from_notebook=True, lst_polygon=lst_polygon)"
   ]
  }
 ],
 "metadata": {
  "kernelspec": {
   "display_name": "py4dgeo",
   "language": "python",
   "name": "python3"
  },
  "language_info": {
   "codemirror_mode": {
    "name": "ipython",
    "version": 3
   },
   "file_extension": ".py",
   "mimetype": "text/x-python",
   "name": "python",
   "nbconvert_exporter": "python",
   "pygments_lexer": "ipython3",
   "version": "3.11.11"
  }
 },
 "nbformat": 4,
 "nbformat_minor": 5
}
