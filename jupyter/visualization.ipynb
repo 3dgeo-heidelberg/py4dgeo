{
 "cells": [
  {
   "cell_type": "markdown",
   "id": "0",
   "metadata": {},
   "source": [
    "# Basic visualization demonstration"
   ]
  },
  {
   "cell_type": "markdown",
   "id": "1",
   "metadata": {},
   "source": [
    "This presents how the visualization algorithm for point cloud can be run using the `py4dgeo` package. As a first step, we import the `py4dgeo` and `pathlib` packages:"
   ]
  },
  {
   "cell_type": "code",
   "execution_count": 1,
   "id": "2",
   "metadata": {},
   "outputs": [],
   "source": [
    "import pathlib\n",
    "import py4dgeo\n",
    "from py4dgeo.visualization import PCloudProjection, ProjectChange\n",
    "from py4dgeo.util import setup_configuration, find_file\n",
    "from datetime import datetime"
   ]
  },
  {
   "cell_type": "code",
   "execution_count": 3,
   "id": "5c270071",
   "metadata": {},
   "outputs": [
    {
     "name": "stdout",
     "output_type": "stream",
     "text": [
      "Error parsing filenames: time data 'ahk_2017_652900_5189100_gnd_subarea' does not match format '%y%m%d_%H%M%S'\n"
     ]
    }
   ],
   "source": [
    "start = datetime.now()\n",
    "config_file = \"/home/william/Documents/DATA/Obergurgl/aimon_configs/Obergurgl_dev.json\"\n",
    "t1_file = find_file(\"ahk_2017_652900_5189100_gnd_subarea.laz\")\n",
    "t2_file = find_file(\"ahk_2018A_652900_5189100_gnd_subarea.laz\")\n",
    "timestamp = start.strftime(\"%Y_%m_%d_%H-%M-%S\")\n",
    "\n",
    "(\n",
    "configuration,\n",
    "t1_vapc_out_file,\n",
    "t2_vapc_out_file,\n",
    "m3c2_out_file,\n",
    "m3c2_clustered,\n",
    "change_event_folder,\n",
    "change_event_file,\n",
    "delta_t,\n",
    "project_name,\n",
    "projected_image_folder,\n",
    "projected_events_folder\n",
    ") = setup_configuration(config_file, t1_file, t2_file, timestamp)"
   ]
  },
  {
   "cell_type": "markdown",
   "id": "3",
   "metadata": {},
   "source": [
    "Next, we need to load one dataset. Point cloud datasets are represented by `numpy` arrays of shape `n x 3` using a 64 bit floating point type (`np.float64`). Here, we work with a rather small synthetical data set:"
   ]
  },
  {
   "cell_type": "code",
   "execution_count": null,
   "id": "4",
   "metadata": {},
   "outputs": [],
   "source": [
    "epoch1, epoch2 = py4dgeo.read_from_las(t1_file, t2_file)\n",
    "epoch1.scanpos_info = [652924, 5189200, 2514]\n",
    "\n",
    "#projected_image_folder = f\"{pathlib.Path.home()}/Desktop\"\n",
    "\n",
    "PCloudProjection(epoch1,\n",
    "                 projected_image_folder,\n",
    "                 project_name\n",
    "                 )"
   ]
  },
  {
   "cell_type": "code",
   "execution_count": null,
   "id": "36ff5d54",
   "metadata": {},
   "outputs": [],
   "source": [
    "ProjectChange(change_event_file,\n",
    "              project_name,\n",
    "              projected_image_folder,\n",
    "              projected_events_folder,\n",
    "              epsg = int(configuration['pc_projection']['epsg'])\n",
    "              )"
   ]
  }
 ],
 "metadata": {
  "kernelspec": {
   "display_name": "py4dgeo",
   "language": "python",
   "name": "python3"
  },
  "language_info": {
   "codemirror_mode": {
    "name": "ipython",
    "version": 3
   },
   "file_extension": ".py",
   "mimetype": "text/x-python",
   "name": "python",
   "nbconvert_exporter": "python",
   "pygments_lexer": "ipython3",
   "version": "3.11.11"
  }
 },
 "nbformat": 4,
 "nbformat_minor": 5
}
