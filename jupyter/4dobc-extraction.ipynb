{
 "cells": [
  {
   "cell_type": "markdown",
   "id": "0",
   "metadata": {},
   "source": [
    " # 4D-OBC Seed extraction\n",
    " \n",
    "This notebook explains how to use the extraction-function of the py4dgeo-packag which extracts 4D-objects-by-change automatically from a point-cloud, by using either the Ramer-Douglas-Peucker-algorithm (RDP) or a Decision-Tree-Regressor (DTR).\n",
    "\n",
    "Implemented in: `py4dgeo.extract`\n",
    "\n",
    "**Author(s)** \n",
    "\n",
    "Scharnagl, Robin (Technische Universität München)\n",
    "\n",
    "**Related publication**\n",
    "\n",
    " Ulm M, Elias M,  Eltner A, Lotsari E & Anders K. (2025). Automated change detection in photogrammetric 4D point clouds – transferability and extension of 4D objects‑by‑change \n",
    "for monitoring riverbank dynamics using low‑cost cameras. *Applied Geomatics*, https://doi.org/10.1007/s12518-025-00623-9   \n"
   ]
  },
  {
   "cell_type": "markdown",
   "id": "1",
   "metadata": {},
   "source": [
    "## **Method description**\n",
    "This section should provide a detailed technical explanation of the method:\n",
    "\n",
    "- **Theoretical foundation**: To detect changes in a surface, this algorithm uses distances from a M3C2 point-cloud comparison to detect linear changes of the surface. \n",
    "Two different methods are available:\n",
    "\n",
    "    - The Ramer–Douglas–Peucker (RDP) algorithm simplifies the time-series curve of each core point, dividing it into polygons (segments) that represent approximately linear trends.\n",
    "\n",
    "    - The Decision Tree Regressor (DTR) estimates the local gradient (rate of change) of each time series and groups similar gradients together to form regions with nearly constant slope.\n",
    "\n",
    "    Both approaches aim to find and quantify sections of linear change in the point cloud distance data.\n",
    "- **Algorithm**: The alorithm detects linear temporal changes at each core-point in a  point cloud. If a linear change exceeds a user-defined threshold, it gets added to a list of seed candidates. \n",
    "    - **Ramer-Douglas-Peucker:** By using the RDP-method, the time-series of a corepoint gets divided into segments of (approximately) linear change. These segments are then expanded, as long as the amplitude exceeds the user-definded height-threshold, and the temporal length is shorter tahn the user-defined max_change_period. The valid segments are then stored as seeds with their intervals, which are then sorted according to their change magnitude.\n",
    "    - **Decision Tree Regressor:** With the Decision-Tree-Regressor approach, the regressor splits the data into regions with similar values, which is the rate-of-change in this case. If the slope is roughly constant, the data behaves lineraly. Therefore, for each core point, teh gradient is calculated, which is then used by the Decision Tree Regressor, to create regions of constant slope. For each of these regions, a linear regression is fit, expanded, and filtered based on the amplitude threshold and the maximum duration. These are then sorted based on change magnitude.\n",
    "\n",
    "- **Key parameters**: The parameters that the userr can define are the following:\n",
    "    - `method` (str): selects the method, either 'RDP' or 'DTR' \n",
    "    - `smoothing_window` (int): defines the size of the window to smooth the data\n",
    "    - `seed_subsampling` (int): reduces the number of seedpoints, that are taken into account\n",
    "    - `max_change_period` (int): the maximum number of epochs for a segment-length\n",
    "    - `neighborhood_radius` (float): defines the spatial neighbourhood used during region growing\n",
    "    - `min_segments` (int): minimum number of epochs of each segment \n",
    "    - `max_segments` (int): maximum number of epoch of each segment \n",
    "    - `height_threshold` (float): minimum change required to be accepted as a seed\n",
    "    - `data_gap` (int or None): forbids seeds crossing a known missing-data epoch\n"
   ]
  },
  {
   "cell_type": "code",
   "execution_count": null,
   "id": "2",
   "metadata": {},
   "outputs": [],
   "source": [
    "# Load Required Packages\n",
    "from py4dgeo import extract\n",
    "\n",
    "# Load Dataset\n",
    "analysis = SpatiotemporalAnalysis()"
   ]
  },
  {
   "cell_type": "markdown",
   "id": "3",
   "metadata": {},
   "source": [
    "After loading the SpatiotemporalAnalysis-object, we can simply add the extract-function and add parameters to the users-preference. "
   ]
  },
  {
   "cell_type": "code",
   "execution_count": null,
   "id": "4",
   "metadata": {},
   "outputs": [],
   "source": [
    "# Run the Method\n",
    "analysis.extract(\n",
    "    method=\"RDP\",\n",
    "    smoothing_window=5,\n",
    "    seed_subsampling=1,\n",
    "    max_change_period=200,\n",
    "    neighborhood_radius=1,\n",
    "    min_segments=10,\n",
    "    max_segments=10000,\n",
    "    height_threshold=0.05,\n",
    ")"
   ]
  },
  {
   "cell_type": "markdown",
   "id": "5",
   "metadata": {},
   "source": [
    "## References\n",
    "-  Ulm M, Elias M,  Eltner A, Lotsari E & Anders K. (2025). Automated change detection in photogrammetric 4D point clouds – transferability and extension of 4D objects‑by‑change \n",
    "for monitoring riverbank dynamics using low‑cost cameras. *Applied Geomatics*, pages. https://doi.org/10.1007/s12518-025-00623-9   "
   ]
  },
  {
   "cell_type": "markdown",
   "id": "6",
   "metadata": {},
   "source": [
    "## ✅ Contributor Checklist\n",
    "\n",
    "- [ ] This notebook runs start to finish without errors\n",
    "- [ ] Dataset is available via link to repository or DOI\n",
    "- [ ] All method parameters are clearly explained\n",
    "- [ ] The algorithm is thoroughly explained with appropriate theoretical background\n",
    "- [ ] Results are visualized and properly interpreted (if applicable)\n",
    "- [ ] All references are properly cited\n",
    "\n",
    "Questions? Please refer to the contributor guide in the main `README.md` or open an issue on the GitHub issue tracker.\n"
   ]
  }
 ],
 "metadata": {
  "kernelspec": {
   "display_name": "Python 3 (ipykernel)",
   "language": "python",
   "name": "python3"
  },
  "language_info": {
   "name": "python"
  }
 },
 "nbformat": 4,
 "nbformat_minor": 5
}
