{
 "cells": [
  {
   "cell_type": "code",
   "execution_count": null,
   "id": "a6fbca9a-5a3a-41a4-802e-7237678c3ed5",
   "metadata": {},
   "outputs": [],
   "source": [
    "import py4dgeo\n",
    "import numpy as np\n",
    "from scipy.spatial import KDTree as ScipyKDTree\n",
    "from sklearn.neighbors import KDTree as SklearnKDTree"
   ]
  },
  {
   "cell_type": "code",
   "execution_count": null,
   "id": "55a80f61-7187-44cb-820c-09e92b2f51f6",
   "metadata": {},
   "outputs": [],
   "source": [
    "print(\"Reading data with numpy from xyz format\")\n",
    "%time data = np.genfromtxt('ahk_2017_small.xyz', delimiter=' ')\n",
    "print(f\"Total number of points in point cloud: {data.shape[0]}\")"
   ]
  },
  {
   "cell_type": "code",
   "execution_count": null,
   "id": "42785903-b77f-4d17-ad4b-84bf05247e6a",
   "metadata": {},
   "outputs": [],
   "source": [
    "print(\"Transferring the point cloud to C++ PCL data structure\")\n",
    "%time pc = py4dgeo.PCLPointCloud(data)"
   ]
  },
  {
   "cell_type": "code",
   "execution_count": null,
   "id": "0f43e60e-77d8-4a74-8676-acd6c26003d6",
   "metadata": {},
   "outputs": [],
   "source": [
    "print(\"Benchmarking PCL KDTree\")\n",
    "%time pc.build_tree(py4dgeo.SearchStrategy.kdtree)\n",
    "%time kd_indices, kd_distances = pc.radius_search(np.array([652876.546, 5189246.239, 2432.163]), 1)"
   ]
  },
  {
   "cell_type": "code",
   "execution_count": null,
   "id": "b2172ead-0a22-49a7-9236-803d1f6bf7ae",
   "metadata": {},
   "outputs": [],
   "source": [
    "print(\"Benchmarking PCL Bruteforce search\")\n",
    "%time pc.build_tree(py4dgeo.SearchStrategy.bruteforce)\n",
    "%time bf_indices, bf_distances = pc.radius_search(np.array([652876.546, 5189246.239, 2432.163]), 1)"
   ]
  },
  {
   "cell_type": "code",
   "execution_count": null,
   "id": "b9de2f9a-0d33-4f7a-b69f-906cbe042911",
   "metadata": {},
   "outputs": [],
   "source": [
    "print(\"Benchmarking PCL Octree\")\n",
    "%time pc.build_tree(py4dgeo.SearchStrategy.octree)\n",
    "%time ot_indices, ot_distances = pc.radius_search(np.array([652876.546, 5189246.239, 2432.163]), 1)"
   ]
  },
  {
   "cell_type": "code",
   "execution_count": null,
   "id": "757a163b-7183-4c87-9616-699cb1eefcdb",
   "metadata": {},
   "outputs": [],
   "source": [
    "print(\"Reference implementation: Scipy - pure Python\")\n",
    "%time tree = ScipyKDTree(data)\n",
    "%time scipy_indices = tree.query_ball_point(np.array([652876.546, 5189246.239, 2432.163]), 1)"
   ]
  },
  {
   "cell_type": "code",
   "execution_count": null,
   "id": "792b54bf-796c-4018-b657-b4c9ec82222b",
   "metadata": {},
   "outputs": [],
   "source": [
    "print(\"Reference implementation: SKLearn - Cython\")\n",
    "%time tree = SklearnKDTree(data)\n",
    "%time sklearn_indices = tree.query_radius(np.array([[652876.546, 5189246.239, 2432.163]]), 1)"
   ]
  },
  {
   "cell_type": "code",
   "execution_count": null,
   "id": "c282dbd1-a595-4e2b-ab8c-400e97a2a3f0",
   "metadata": {},
   "outputs": [],
   "source": [
    "There is still a functional problem with PCL:"
   ]
  },
  {
   "cell_type": "code",
   "execution_count": null,
   "id": "9d71fef0-e014-4595-b69b-99d8be137deb",
   "metadata": {},
   "outputs": [],
   "source": [
    "kd_indices.shape"
   ]
  },
  {
   "cell_type": "code",
   "execution_count": null,
   "id": "4fe8e84e-7494-4a4b-bffa-25f58dba5d8a",
   "metadata": {},
   "outputs": [],
   "source": [
    "bf_indices.shape"
   ]
  },
  {
   "cell_type": "code",
   "execution_count": null,
   "id": "c366e70a-d011-433a-bcc6-804ec11a503e",
   "metadata": {},
   "outputs": [],
   "source": [
    "ot_indices.shape"
   ]
  },
  {
   "cell_type": "code",
   "execution_count": null,
   "id": "fb8aea04-32e9-4567-8643-46a091f9ba41",
   "metadata": {},
   "outputs": [],
   "source": [
    "len(scipy_indices)"
   ]
  },
  {
   "cell_type": "code",
   "execution_count": null,
   "id": "0111242d-9504-4e94-be3f-379a02360b5c",
   "metadata": {},
   "outputs": [],
   "source": [
    "sklearn_indices[0].shape"
   ]
  },
  {
   "cell_type": "code",
   "execution_count": null,
   "id": "865df62c-fd38-4edd-a4fe-de9a5072baa6",
   "metadata": {},
   "outputs": [],
   "source": []
  }
 ],
 "metadata": {
  "kernelspec": {
   "display_name": "Python 3",
   "language": "python",
   "name": "python3"
  },
  "language_info": {
   "codemirror_mode": {
    "name": "ipython",
    "version": 3
   },
   "file_extension": ".py",
   "mimetype": "text/x-python",
   "name": "python",
   "nbconvert_exporter": "python",
   "pygments_lexer": "ipython3",
   "version": "3.9.4"
  }
 },
 "nbformat": 4,
 "nbformat_minor": 5
}
