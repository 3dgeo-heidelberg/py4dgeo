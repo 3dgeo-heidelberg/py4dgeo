{
 "cells": [
  {
   "cell_type": "markdown",
   "id": "30106313",
   "metadata": {},
   "source": [
    "# Search Tree Performance Evaluation"
   ]
  },
  {
   "cell_type": "code",
   "execution_count": null,
   "id": "c191cf37",
   "metadata": {},
   "outputs": [],
   "source": [
    "import py4dgeo\n",
    "import numpy as np\n",
    "from scipy.spatial import KDTree as ScipyKDTree\n",
    "from sklearn.neighbors import KDTree as SklearnKDTree\n",
    "import laspy\n",
    "from time import perf_counter\n",
    "import matplotlib.pyplot as plt"
   ]
  },
  {
   "cell_type": "markdown",
   "id": "e96b6a96",
   "metadata": {},
   "source": [
    "The measurement is carried out by decorating functions with the following decorator which will measure the execution time and return it as a tuple with the original return value:"
   ]
  },
  {
   "cell_type": "code",
   "execution_count": null,
   "id": "52f801b4",
   "metadata": {},
   "outputs": [],
   "source": [
    "def measure(f):\n",
    "    \"\"\" A decorator that measures execution time and returns it as part of a tuple \"\"\"\n",
    "    def _decorated(*args, **kwargs):\n",
    "        start = perf_counter()\n",
    "        ret = f(*args, **kwargs)\n",
    "        return perf_counter() - start, ret\n",
    "    return _decorated"
   ]
  },
  {
   "cell_type": "markdown",
   "id": "706d5c0e",
   "metadata": {},
   "source": [
    "To account for noise, small execution times etc., we repeat the function execution a number of times and take the minimum across these runs:"
   ]
  },
  {
   "cell_type": "code",
   "execution_count": null,
   "id": "9e333328",
   "metadata": {},
   "outputs": [],
   "source": [
    "def minimum_across_runs(n, func, *args):\n",
    "    measurements = []\n",
    "    for _ in range(n):\n",
    "        t, result = func(*args)\n",
    "        measurements.append(t)\n",
    "    return min(measurements), result"
   ]
  },
  {
   "cell_type": "markdown",
   "id": "74b73257",
   "metadata": {},
   "source": [
    "Our first test is a point cloud of randomly distributed points in the unit cube:"
   ]
  },
  {
   "cell_type": "code",
   "execution_count": null,
   "id": "362a6a2b",
   "metadata": {},
   "outputs": [],
   "source": [
    "def create_random_data(n):\n",
    "    \"\"\" Create n samples within the unitcube \"\"\"\n",
    "    rng = np.random.default_rng()\n",
    "    return rng.uniform([0, 0, 0], [1, 1, 1], size=(n, 3)).astype('f')"
   ]
  },
  {
   "cell_type": "markdown",
   "id": "0cd5f2fe",
   "metadata": {},
   "source": [
    "## Point Cloud Library (PCL)\n",
    "\n",
    "PCL provides a module `pcl::search` that contains several implementations of a unified search interface: KDTree, OCTree, Bruteforce. The KDTree implementation uses the library FLANN. A general problem of PCL, that it uses a padded data structure for a 3D point to be SSE-friendly (allocating `float[4]`). This hinders seemless interoperability with `numpy.array` as the memory can only be shared if the input data uses that same layout. Currently, the constructor of `py4dgeo.PCLPointCloud` makes a copy of the point cloud."
   ]
  },
  {
   "cell_type": "code",
   "execution_count": null,
   "id": "b2381e0e",
   "metadata": {},
   "outputs": [],
   "source": [
    "@measure\n",
    "def build_pcl_kdtree(data):\n",
    "    \"\"\" Build PCL KDTree data structure. \"\"\"\n",
    "    pc = py4dgeo.PCLPointCloud(data)\n",
    "    pc.build_tree(py4dgeo.SearchStrategy.kdtree)\n",
    "    return pc"
   ]
  },
  {
   "cell_type": "code",
   "execution_count": null,
   "id": "f63fa1f3",
   "metadata": {},
   "outputs": [],
   "source": [
    "@measure\n",
    "def build_pcl_bruteforce(data):\n",
    "    \"\"\" Build PCL Bruteforce data structure. \"\"\"\n",
    "    pc = py4dgeo.PCLPointCloud(data)\n",
    "    pc.build_tree(py4dgeo.SearchStrategy.bruteforce)\n",
    "    return pc"
   ]
  },
  {
   "cell_type": "code",
   "execution_count": null,
   "id": "c2969216",
   "metadata": {},
   "outputs": [],
   "source": [
    "@measure\n",
    "def build_pcl_octree(data):\n",
    "    \"\"\" Build PCL OCTree data structure. \"\"\"\n",
    "    pc = py4dgeo.PCLPointCloud(data)\n",
    "    pc.build_tree(py4dgeo.SearchStrategy.octree)\n",
    "    return pc"
   ]
  },
  {
   "cell_type": "code",
   "execution_count": null,
   "id": "26036841",
   "metadata": {},
   "outputs": [],
   "source": [
    "@measure\n",
    "def radius_mine(tree, point, radius):\n",
    "    \"\"\" Invocation of radius search for PCL trees \"\"\"\n",
    "    return tree.radius_search(point, radius)"
   ]
  },
  {
   "cell_type": "markdown",
   "id": "a37e7aff",
   "metadata": {},
   "source": [
    "## NanoFLANN\n",
    "\n",
    "NanoFLANN is a fork of the original FLANN library. Among the reasons to fork, there are several which are beneficial to our use case:\n",
    "\n",
    "* Single header with permissive license -> Just copy into your project\n",
    "* Performance gains by removing abstractions\n",
    "* No approximate searchs (we do not need them?)\n",
    "* No rigid assumptions on data layout -> Easy to integrate copyless\n",
    "\n",
    "NanoFLANN is also the search tree library used by PDAL."
   ]
  },
  {
   "cell_type": "code",
   "execution_count": null,
   "id": "6577a2f4",
   "metadata": {},
   "outputs": [],
   "source": [
    "def build_nanoflann(param=10):\n",
    "    @measure\n",
    "    def _build_nanoflann(data):\n",
    "        pc = py4dgeo.NFPointCloud2(data)\n",
    "        pc.build_tree(param)\n",
    "        return pc\n",
    "    return _build_nanoflann"
   ]
  },
  {
   "cell_type": "markdown",
   "id": "182b9e83",
   "metadata": {},
   "source": [
    "## CloudCompare Core library\n",
    "\n",
    "I originally promised a reference implementation with [CloudCompare's core library](https://github.com/CloudCompare/CCCoreLib). However, while looking at the library, I turned away for several reasons:\n",
    "\n",
    "* There is no documentation.\n",
    "* There is not a single test.\n",
    "* The PointCloud data structure is quite abstraction-heavy and does not allow copy-less integration with `numpy`."
   ]
  },
  {
   "cell_type": "markdown",
   "id": "d581baaf",
   "metadata": {},
   "source": [
    "## Python reference implementations\n",
    "\n",
    "We use the following two reference implementations: `scipy` and `scikit-learn`. `scipy` has a custom C++ implementation of a KDTree, `scikit-learn` uses Cython. I suspect the latter to be optimized for high dimensional problems."
   ]
  },
  {
   "cell_type": "code",
   "execution_count": null,
   "id": "3dd3171f",
   "metadata": {},
   "outputs": [],
   "source": [
    "def build_scipy(param=10):\n",
    "    @measure\n",
    "    def _build_scipy(data):\n",
    "        \"\"\" Build Scipy KDTree data structure \"\"\"\n",
    "        return ScipyKDTree(data, leafsize=param)\n",
    "    return _build_scipy"
   ]
  },
  {
   "cell_type": "code",
   "execution_count": null,
   "id": "513c2f13",
   "metadata": {},
   "outputs": [],
   "source": [
    "@measure\n",
    "def radius_scipy(tree, point, radius):\n",
    "    \"\"\" Invocation of Scipy radius search \"\"\"\n",
    "    return tree.query_ball_point(point, radius)"
   ]
  },
  {
   "cell_type": "code",
   "execution_count": null,
   "id": "267e2dce",
   "metadata": {},
   "outputs": [],
   "source": [
    "@measure\n",
    "def build_sklearn(data):\n",
    "    \"\"\" Build Sklearn KDTree data structure \"\"\"\n",
    "    return SklearnKDTree(data, leaf_size=10)"
   ]
  },
  {
   "cell_type": "code",
   "execution_count": null,
   "id": "08401561",
   "metadata": {},
   "outputs": [],
   "source": [
    "@measure\n",
    "def radius_sklearn(tree, point, radius):\n",
    "    \"\"\" Invocation of Sklearn radius search \"\"\"\n",
    "    return tree.query_radius(np.expand_dims(point, axis=0), radius)"
   ]
  },
  {
   "cell_type": "markdown",
   "id": "1d14e6db",
   "metadata": {},
   "source": [
    "## General comparison\n",
    "\n",
    "The general methodology for the comparison is the following: For an increasing number of points `n` in the point cloud, measure the build time and the query execution time for a radius search individually. We report the KDTree build time as seconds per point in the point cloud. For the radius query, we construct the search radius such that the number of points in the return set stays constant for varying `n` (of course this only holds in a stochastical sense). Consequently, we report the absolute execution time of the query. As the libraries do not provide an interface for performing multiple queries, benchmarking a single query seems okay."
   ]
  },
  {
   "cell_type": "code",
   "execution_count": null,
   "id": "d8d40001",
   "metadata": {},
   "outputs": [],
   "source": [
    "def compare(impls, max_n=10, radius_scale=2.0):\n",
    "    nsamples = [2**i * 1000 for i in range(max_n)]\n",
    "    fig, axs = plt.subplots(1, 2, figsize=(16, 6))\n",
    "    for name, build_func, radius_func in impls:\n",
    "        build_times = []\n",
    "        query_times = []\n",
    "        for n in nsamples:\n",
    "            data = create_random_data(n)\n",
    "            build_time, cloud = minimum_across_runs(10, build_func, data)\n",
    "            build_times.append(build_time / n)\n",
    "            query_time, result = minimum_across_runs(10, radius_func, cloud, np.array([0.5, 0.5, 0.5]), radius_scale * n ** (-(1/3)))\n",
    "            query_times.append(query_time)\n",
    "        axs[0].plot(nsamples, build_times, label=name)\n",
    "        axs[1].plot(nsamples, query_times, label=name)\n",
    "    axs[0].set_xscale(\"log\")\n",
    "    axs[1].set_xscale(\"log\")\n",
    "    axs[0].set_xlabel(\"Point Cloud size\")\n",
    "    axs[0].set_ylabel(\"Time/Point [s]\")\n",
    "    axs[1].set_xlabel(\"Point Cloud size\")\n",
    "    axs[1].set_ylabel(\"Query Time [s]\")\n",
    "    axs[0].set_title(\"KDTree build times/point\")\n",
    "    axs[1].set_title(\"KDTree query time (appr. constant return size)\")\n",
    "    axs[0].legend()\n",
    "    axs[1].legend()"
   ]
  },
  {
   "cell_type": "markdown",
   "id": "a9144baf",
   "metadata": {},
   "source": [
    "This is the comparison of the \"off-the-shelf\" versions of the libraries, where we can clearly see that `SKLearn` is quite a bit slower both for building a querying. This might of course be related to it being optimized for high-dimensionality applications."
   ]
  },
  {
   "cell_type": "code",
   "execution_count": null,
   "id": "dad473ea",
   "metadata": {},
   "outputs": [],
   "source": [
    "compare([\n",
    "    (\"PCL KDTree\", build_pcl_kdtree, radius_mine),\n",
    "    (\"SciPy KDTree\", build_scipy(), radius_scipy),\n",
    "    (\"NanoFLANN\", build_nanoflann(), radius_mine),\n",
    "    (\"SKLearn KDTree\", build_sklearn, radius_sklearn),\n",
    "])"
   ]
  },
  {
   "cell_type": "markdown",
   "id": "46397cc6",
   "metadata": {},
   "source": [
    "Looking at the other PCL variants (which were 0 overhead to implement due to the unified interface), we can clearly see that using a KDTree is absolutely mandatory, but we knew that already:"
   ]
  },
  {
   "cell_type": "code",
   "execution_count": null,
   "id": "5cc8844e",
   "metadata": {},
   "outputs": [],
   "source": [
    "compare([\n",
    "    (\"PCL KDTree\", build_pcl_kdtree, radius_mine),\n",
    "    (\"PCL Bruteforce\", build_pcl_bruteforce, radius_mine),\n",
    "    (\"PCL OCtree\", build_pcl_octree, radius_mine),\n",
    "], max_n=8)"
   ]
  },
  {
   "cell_type": "markdown",
   "id": "a5d53f64",
   "metadata": {},
   "source": [
    "Returning to the top contenders, we can see that the performance result actually changes with the search radius (and with it the number of returned points):"
   ]
  },
  {
   "cell_type": "code",
   "execution_count": null,
   "id": "0f942107",
   "metadata": {},
   "outputs": [],
   "source": [
    "compare([\n",
    "    (\"PCL KDTree\", build_pcl_kdtree, radius_mine),\n",
    "    (\"SciPy KDTree\", build_scipy(), radius_scipy),\n",
    "    (\"NanoFLANN\", build_nanoflann(), radius_mine),\n",
    "], radius_scale=4.0)"
   ]
  },
  {
   "cell_type": "markdown",
   "id": "c5c9d993",
   "metadata": {},
   "source": [
    "Actually, at some point SciPy has the fastest off-the-shelf implementation:"
   ]
  },
  {
   "cell_type": "code",
   "execution_count": null,
   "id": "b5b21d58",
   "metadata": {},
   "outputs": [],
   "source": [
    "compare([\n",
    "    (\"PCL KDTree\", build_pcl_kdtree, radius_mine),\n",
    "    (\"SciPy KDTree\", build_scipy(), radius_scipy),\n",
    "    (\"NanoFLANN\", build_nanoflann(), radius_mine),\n",
    "], radius_scale=8.0)"
   ]
  },
  {
   "cell_type": "markdown",
   "id": "8dcecbfd",
   "metadata": {},
   "source": [
    "## Parameter Tuning\n",
    "\n",
    "It is worth taking a close look at the parameter tuning for these trees. The most prominent tuning parameter that balances build time vs. query time is the cutoff at which the implementation switches over to a bruteforce algorithm. The implications can be seen e.g. for NanoFLANN:"
   ]
  },
  {
   "cell_type": "code",
   "execution_count": null,
   "id": "53f172ee",
   "metadata": {},
   "outputs": [],
   "source": [
    "compare([\n",
    "    (\"NanoFLANN 5\", build_nanoflann(5), radius_mine),\n",
    "    (\"NanoFLANN 10\", build_nanoflann(10), radius_mine),\n",
    "    (\"NanoFLANN 20\", build_nanoflann(20), radius_mine),\n",
    "    (\"NanoFLANN 50\", build_nanoflann(50), radius_mine),\n",
    "    (\"NanoFLANN 100\", build_nanoflann(100), radius_mine),\n",
    "])"
   ]
  },
  {
   "cell_type": "markdown",
   "id": "af6b1168",
   "metadata": {},
   "source": [
    "A similar study can be done with SciPy, where we see that the qualitative behaviour is similar, but the absolute build times of NanoFLANN are faster in general. This might be related to additional trade-off decisions introduced by the `balanced_tree` and `compact_nodes` parameters of `ScipyKDTree`."
   ]
  },
  {
   "cell_type": "code",
   "execution_count": null,
   "id": "a8c9c37b",
   "metadata": {},
   "outputs": [],
   "source": [
    "compare([\n",
    "    (\"SciPy 5\", build_scipy(5), radius_scipy),\n",
    "    (\"SciPy 10\", build_scipy(10), radius_scipy),\n",
    "    (\"SciPy 20\", build_scipy(20), radius_scipy),\n",
    "    (\"SciPy 50\", build_scipy(50), radius_scipy),\n",
    "    (\"SciPy 100\", build_scipy(100), radius_scipy),\n",
    "])"
   ]
  },
  {
   "cell_type": "markdown",
   "id": "8f424ca6",
   "metadata": {},
   "source": [
    "The above plots should clearly demonstrate that a finetuning of the cutoff parameter is necessary to achieve optimal performance. In `py4dgeo`, the key factors for the trade-off decisions would be:\n",
    "\n",
    "* Ratio core-points/points in epoch\n",
    "* Maximum radius for radius search (or rather # of expected points in radius)\n",
    "\n",
    "The fact that PCL does not expose the cutoff parameter to users is a clear disadvantage."
   ]
  },
  {
   "cell_type": "markdown",
   "id": "bdd042a4",
   "metadata": {},
   "source": [
    "## Comparison on LAS data set\n",
    "\n",
    "The extensive above comparison with points distributed across the unit cube might introduce biases based on the structure of the test cloud. We will therefore verify our findings with a Lidar data set."
   ]
  },
  {
   "cell_type": "code",
   "execution_count": null,
   "id": "b078a0d0",
   "metadata": {},
   "outputs": [],
   "source": [
    "data = np.genfromtxt('/home/jovyan/shared/uls_thingstaette.xyz', delimiter=' ', dtype=np.float32)"
   ]
  },
  {
   "cell_type": "code",
   "execution_count": null,
   "id": "b8753196",
   "metadata": {},
   "outputs": [],
   "source": [
    "def print_comparison(impls, radius=1.0, runs=10):\n",
    "    def print_times(name, build_func, radius_func):\n",
    "        build_time, cloud = minimum_across_runs(runs, build_func, data)\n",
    "        query_time, result = minimum_across_runs(runs, radius_func, cloud, data[10000], radius)\n",
    "        print(f\"{name} - Build time: {build_time} - Query time {query_time}\")\n",
    "        del cloud\n",
    "        del result\n",
    "    for n, bf, rf in impls:\n",
    "        print_times(n, bf, rf)"
   ]
  },
  {
   "cell_type": "code",
   "execution_count": null,
   "id": "f32112bc",
   "metadata": {},
   "outputs": [],
   "source": [
    "print_comparison([\n",
    "    (\"PCL KDTree\", build_pcl_kdtree, radius_mine),\n",
    "    (\"SciPy KDTree\", build_scipy(), radius_scipy),\n",
    "    (\"NanoFLANN\", build_nanoflann(), radius_mine),\n",
    "])"
   ]
  },
  {
   "cell_type": "markdown",
   "id": "b1d69332",
   "metadata": {},
   "source": [
    "The results do not seem to vary too much from what we have seen before, but again we see that SciPy seems to work better for larger return sets:"
   ]
  },
  {
   "cell_type": "code",
   "execution_count": null,
   "id": "81e87210",
   "metadata": {},
   "outputs": [],
   "source": [
    "print_comparison([\n",
    "    (\"PCL KDTree\", build_pcl_kdtree, radius_mine),\n",
    "    (\"SciPy KDTree\", build_scipy(), radius_scipy),\n",
    "    (\"NanoFLANN\", build_nanoflann(), radius_mine),\n",
    "], radius=10.0)"
   ]
  },
  {
   "cell_type": "markdown",
   "id": "1fbbd7b5",
   "metadata": {},
   "source": [
    "Finally, we double-check that our experiments are qualitatively reproduced for a very large dataset of ~180M points."
   ]
  },
  {
   "cell_type": "code",
   "execution_count": null,
   "id": "be4eeff0",
   "metadata": {},
   "outputs": [],
   "source": [
    "rawdata = laspy.read(\"/home/jovyan/nq071-persistent/ahk_2017_large.laz\")\n",
    "data = np.stack((rawdata.x.array, rawdata.y.array, rawdata.z.array), axis=1)"
   ]
  },
  {
   "cell_type": "markdown",
   "id": "53e8df08",
   "metadata": {},
   "source": [
    "Unfortunately, the `NanoFLANN` version below is still making the kernel die. I am investigating this."
   ]
  },
  {
   "cell_type": "code",
   "execution_count": null,
   "id": "f89483a6",
   "metadata": {},
   "outputs": [],
   "source": [
    "print_comparison([\n",
    "    (\"PCL KDTree\", build_pcl_kdtree, radius_mine),\n",
    "    (\"SciPy KDTree\", build_scipy(), radius_scipy),\n",
    "#     (\"NanoFLANN\", build_nanoflann(), radius_mine),\n",
    "])"
   ]
  },
  {
   "cell_type": "markdown",
   "id": "15c9ae56",
   "metadata": {},
   "source": [
    "## Decision\n",
    "\n",
    "I am leaning towards a NanoFLANN implementation. A summary of reasons:\n",
    "\n",
    "* Single Header with BSD License -> Copy into project, no installation etc.\n",
    "* Flexible handling of input: We can directly operate on `numpy.array` without ugly tricks\n",
    "* Very competitive performance in above comparisons\n",
    "* PDAL also uses it."
   ]
  }
 ],
 "metadata": {
  "interpreter": {
   "hash": "b1f69a96a697efbfa493a160ab31196b9b1c006b91ac9f4000a9e465899ce0cc"
  },
  "kernelspec": {
   "display_name": "Python 3.9.4 64-bit ('geolib4d': conda)",
   "name": "python3"
  },
  "language_info": {
   "codemirror_mode": {
    "name": "ipython",
    "version": 3
   },
   "file_extension": ".py",
   "mimetype": "text/x-python",
   "name": "python",
   "nbconvert_exporter": "python",
   "pygments_lexer": "ipython3",
   "version": "3.9.4"
  }
 },
 "nbformat": 4,
 "nbformat_minor": 5
}
