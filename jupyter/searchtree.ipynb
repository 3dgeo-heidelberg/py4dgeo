{
 "cells": [
  {
   "cell_type": "code",
   "execution_count": null,
   "id": "a6fbca9a-5a3a-41a4-802e-7237678c3ed5",
   "metadata": {},
   "outputs": [],
   "source": [
    "import py4dgeo\n",
    "import numpy as np\n",
    "from scipy.spatial import KDTree as ScipyKDTree\n",
    "from sklearn.neighbors import KDTree as SklearnKDTree\n",
    "import laspy\n",
    "from time import perf_counter\n",
    "import matplotlib.pyplot as plt"
   ]
  },
  {
   "cell_type": "code",
   "execution_count": null,
   "id": "f833fc85-008a-417b-8c07-4318d44966d3",
   "metadata": {},
   "outputs": [],
   "source": [
    "def measure(f):\n",
    "    \"\"\" A decorator that measures execution time and returns it as part of a tuple \"\"\"\n",
    "    def _decorated(*args, **kwargs):\n",
    "        start = perf_counter()\n",
    "        ret = f(*args, **kwargs)\n",
    "        return perf_counter() - start, ret\n",
    "    return _decorated"
   ]
  },
  {
   "cell_type": "code",
   "execution_count": null,
   "id": "2e0eaf68-d4b6-4bc2-88b9-5f5078eef224",
   "metadata": {},
   "outputs": [],
   "source": [
    "def minimum_across_runs(n, func, *args):\n",
    "    measurements = []\n",
    "    for _ in range(n):\n",
    "        t, result = func(*args)\n",
    "        measurements.append(t)\n",
    "    return min(measurements), result"
   ]
  },
  {
   "cell_type": "code",
   "execution_count": null,
   "id": "63498587-dad4-45ae-817b-56d1bcbc5435",
   "metadata": {},
   "outputs": [],
   "source": [
    "def create_random_data(n):\n",
    "    \"\"\" Create n samples within the unitcube \"\"\"\n",
    "    rng = np.random.default_rng()\n",
    "    return rng.uniform([0, 0, 0], [1, 1, 1], size=(n, 3)).astype('f')"
   ]
  },
  {
   "cell_type": "code",
   "execution_count": null,
   "id": "33158ea6-8c80-40e4-875a-64d98775c3c2",
   "metadata": {},
   "outputs": [],
   "source": [
    "def read_huge_las_dataset():\n",
    "    \"\"\" Read 250M points dataset \"\"\"\n",
    "    data = laspy.read(\"ahk_2017_full.las\")\n",
    "    return np.stack((data.x.array, data.y.array, data.z.array), axis=1)"
   ]
  },
  {
   "cell_type": "code",
   "execution_count": null,
   "id": "5bba7ed4-ad7a-4700-bac1-86bc46bb7958",
   "metadata": {},
   "outputs": [],
   "source": [
    "def read_small_las_dataset():\n",
    "    \"\"\" Read 2M points dataset \"\"\"\n",
    "    return np.genfromtxt('ahk_2017_small.xyz', delimiter=' ', dtype=np.float32)"
   ]
  },
  {
   "cell_type": "code",
   "execution_count": null,
   "id": "42785903-b77f-4d17-ad4b-84bf05247e6a",
   "metadata": {},
   "outputs": [],
   "source": [
    "@measure\n",
    "def build_pcl_kdtree(data):\n",
    "    \"\"\" Build PCL KDTree data structure. \"\"\"\n",
    "    pc = py4dgeo.PCLPointCloud(data)\n",
    "    pc.build_tree(py4dgeo.SearchStrategy.kdtree)\n",
    "    return pc"
   ]
  },
  {
   "cell_type": "code",
   "execution_count": null,
   "id": "b2172ead-0a22-49a7-9236-803d1f6bf7ae",
   "metadata": {},
   "outputs": [],
   "source": [
    "@measure\n",
    "def build_pcl_bruteforce(data):\n",
    "    \"\"\" Build PCL Bruteforce data structure. \"\"\"\n",
    "    pc = py4dgeo.PCLPointCloud(data)\n",
    "    pc.build_tree(py4dgeo.SearchStrategy.bruteforce)\n",
    "    return pc"
   ]
  },
  {
   "cell_type": "code",
   "execution_count": null,
   "id": "b9de2f9a-0d33-4f7a-b69f-906cbe042911",
   "metadata": {},
   "outputs": [],
   "source": [
    "@measure\n",
    "def build_pcl_octree(data):\n",
    "    \"\"\" Build PCL OCTree data structure. \"\"\"\n",
    "    pc = py4dgeo.PCLPointCloud(data)\n",
    "    pc.build_tree(py4dgeo.SearchStrategy.octree)\n",
    "    return pc"
   ]
  },
  {
   "cell_type": "code",
   "execution_count": null,
   "id": "674ec11c-9eea-4aa5-9a09-94c16b48759c",
   "metadata": {},
   "outputs": [],
   "source": [
    "@measure\n",
    "def radius_mine(tree, point, radius):\n",
    "    \"\"\" Invocation of radius search for PCL trees \"\"\"\n",
    "    return tree.radius_search(point, radius)"
   ]
  },
  {
   "cell_type": "code",
   "execution_count": null,
   "id": "757a163b-7183-4c87-9616-699cb1eefcdb",
   "metadata": {},
   "outputs": [],
   "source": [
    "@measure\n",
    "def build_scipy(data):\n",
    "    \"\"\" Build Scipy KDTree data structure \"\"\"\n",
    "    return ScipyKDTree(data)"
   ]
  },
  {
   "cell_type": "code",
   "execution_count": null,
   "id": "61d4240d-e198-407b-baa9-c0dcc5b856a4",
   "metadata": {},
   "outputs": [],
   "source": [
    "@measure\n",
    "def radius_scipy(tree, point, radius):\n",
    "    \"\"\" Invocation of Scipy radius search \"\"\"\n",
    "    return tree.query_ball_point(point, radius)"
   ]
  },
  {
   "cell_type": "code",
   "execution_count": null,
   "id": "792b54bf-796c-4018-b657-b4c9ec82222b",
   "metadata": {},
   "outputs": [],
   "source": [
    "@measure\n",
    "def build_sklearn(data):\n",
    "    \"\"\" Build Sklearn KDTree data structure \"\"\"\n",
    "    return SklearnKDTree(data)"
   ]
  },
  {
   "cell_type": "code",
   "execution_count": null,
   "id": "d069c1ce-ba15-40b5-892d-2a6000493a0d",
   "metadata": {},
   "outputs": [],
   "source": [
    "@measure\n",
    "def radius_sklearn(tree, point, radius):\n",
    "    \"\"\" Invocation of Sklearn radius search \"\"\"\n",
    "    return tree.query_radius(np.expand_dims(point, axis=0), radius)"
   ]
  },
  {
   "cell_type": "code",
   "execution_count": null,
   "id": "f3eac84b-135d-4de6-8bd4-2e50572d6909",
   "metadata": {},
   "outputs": [],
   "source": [
    "@measure\n",
    "def build_nanoflann(data):\n",
    "    pc = py4dgeo.NFPointCloud2(data)\n",
    "    pc.build_tree()\n",
    "    return pc"
   ]
  },
  {
   "cell_type": "code",
   "execution_count": null,
   "id": "a3fcc74f-0dd1-4462-bba8-580bddf8a00a",
   "metadata": {},
   "outputs": [],
   "source": [
    "# Make the different implementations iterable\n",
    "implementations = [\n",
    "    (\"PCL KDTree\", build_pcl_kdtree, radius_mine),\n",
    "    (\"SciPy KDTree\", build_scipy, radius_scipy),\n",
    "    (\"NanoFLANN\", build_nanoflann, radius_mine),\n",
    "#     (\"PCL Bruteforce\", build_pcl_bruteforce, radius_mine),\n",
    "#     (\"PCL OCtree\", build_pcl_octree, radius_mine),\n",
    "#     (\"SKLearn KDTree\", build_sklearn, radius_sklearn),\n",
    "]"
   ]
  },
  {
   "cell_type": "code",
   "execution_count": null,
   "id": "bfed0ba4-e40c-4fa1-926e-01fab5717d78",
   "metadata": {},
   "outputs": [],
   "source": [
    "nsamples = [2**i * 1000 for i in range(10)]\n",
    "fig, axs = plt.subplots(1, 2, figsize=(16, 6))\n",
    "for name, build_func, radius_func in implementations:\n",
    "    build_times = []\n",
    "    query_times = []\n",
    "    for n in nsamples:\n",
    "        data = create_random_data(n)\n",
    "        build_time, cloud = minimum_across_runs(10, build_func, data)\n",
    "        build_times.append(build_time / n)\n",
    "        query_time, result = minimum_across_runs(10, radius_func, cloud, np.array([0.5, 0.5, 0.5]), 2 * n ** (-(1/3)))\n",
    "        query_times.append(query_time)\n",
    "    axs[0].plot(nsamples, build_times, label=name)\n",
    "    axs[1].plot(nsamples, query_times, label=name)\n",
    "axs[0].set_xscale(\"log\")\n",
    "axs[1].set_xscale(\"log\")\n",
    "axs[0].set_xlabel(\"Point Cloud size\")\n",
    "axs[0].set_ylabel(\"Time/Point [s]\")\n",
    "axs[1].set_xlabel(\"Point Cloud size\")\n",
    "axs[1].set_ylabel(\"Query Time [s]\")\n",
    "axs[0].set_title(\"KDTree build times/point\")\n",
    "axs[1].set_title(\"KDTree query time (appr. constant return size)\")\n",
    "axs[0].legend()\n",
    "axs[1].legend()"
   ]
  }
 ],
 "metadata": {
  "kernelspec": {
   "display_name": "Python 3",
   "language": "python",
   "name": "python3"
  },
  "language_info": {
   "codemirror_mode": {
    "name": "ipython",
    "version": 3
   },
   "file_extension": ".py",
   "mimetype": "text/x-python",
   "name": "python",
   "nbconvert_exporter": "python",
   "pygments_lexer": "ipython3",
   "version": "3.9.4"
  }
 },
 "nbformat": 4,
 "nbformat_minor": 5
}
