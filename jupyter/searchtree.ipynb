{
 "cells": [
  {
   "cell_type": "code",
   "execution_count": null,
   "id": "a6fbca9a-5a3a-41a4-802e-7237678c3ed5",
   "metadata": {},
   "outputs": [],
   "source": [
    "import py4dgeo\n",
    "import numpy as np\n",
    "from scipy.spatial import KDTree as ScipyKDTree\n",
    "from sklearn.neighbors import KDTree as SklearnKDTree\n",
    "import laspy\n",
    "from time import perf_counter"
   ]
  },
  {
   "cell_type": "code",
   "execution_count": null,
   "id": "f833fc85-008a-417b-8c07-4318d44966d3",
   "metadata": {},
   "outputs": [],
   "source": [
    "def measure(f):\n",
    "    \"\"\" A decorator that measures execution time and returns it as part of a tuple \"\"\"\n",
    "    def _decorated(*args, **kwargs):\n",
    "        start = perf_counter()\n",
    "        ret = f(*args, **kwargs)\n",
    "        return perf_counter() - start, ret\n",
    "    return _decorated"
   ]
  },
  {
   "cell_type": "code",
   "execution_count": null,
   "id": "63498587-dad4-45ae-817b-56d1bcbc5435",
   "metadata": {},
   "outputs": [],
   "source": [
    "def create_random_data(n):\n",
    "    \"\"\" Create n samples within the unitcube \"\"\"\n",
    "    rng = np.random.default_rng()\n",
    "    return rng.uniform([0, 0, 0], [1, 1, 1], size=(n, 3))"
   ]
  },
  {
   "cell_type": "code",
   "execution_count": null,
   "id": "33158ea6-8c80-40e4-875a-64d98775c3c2",
   "metadata": {},
   "outputs": [],
   "source": [
    "def read_huge_las_dataset():\n",
    "    \"\"\" Read 250M points dataset \"\"\"\n",
    "    data = laspy.read(\"ahk_2017_full.las\")\n",
    "    return np.stack((data.x.array, data.y.array, data.z.array), axis=1)"
   ]
  },
  {
   "cell_type": "code",
   "execution_count": null,
   "id": "5bba7ed4-ad7a-4700-bac1-86bc46bb7958",
   "metadata": {},
   "outputs": [],
   "source": [
    "def read_small_las_dataset():\n",
    "    \"\"\" Read 2M points dataset \"\"\"\n",
    "    return np.genfromtxt('ahk_2017_small.xyz', delimiter=' ', dtype=np.float32)"
   ]
  },
  {
   "cell_type": "code",
   "execution_count": null,
   "id": "42785903-b77f-4d17-ad4b-84bf05247e6a",
   "metadata": {},
   "outputs": [],
   "source": [
    "@measure\n",
    "def build_pcl_kdtree(data):\n",
    "    \"\"\" Build PCL KDTree data structure. \"\"\"\n",
    "    pc = py4dgeo.PCLPointCloud(data)\n",
    "    pc.build_tree(py4dgeo.SearchStrategy.kdtree)\n",
    "    return pc"
   ]
  },
  {
   "cell_type": "code",
   "execution_count": null,
   "id": "b2172ead-0a22-49a7-9236-803d1f6bf7ae",
   "metadata": {},
   "outputs": [],
   "source": [
    "@measure\n",
    "def build_pcl_bruteforce(data):\n",
    "    \"\"\" Build PCL Bruteforce data structure. \"\"\"\n",
    "    pc = py4dgeo.PCLPointCloud(data)\n",
    "    pc.build_tree(py4dgeo.SearchStrategy.bruteforce)\n",
    "    return pc"
   ]
  },
  {
   "cell_type": "code",
   "execution_count": null,
   "id": "b9de2f9a-0d33-4f7a-b69f-906cbe042911",
   "metadata": {},
   "outputs": [],
   "source": [
    "@measure\n",
    "def build_pcl_octree(data):\n",
    "    \"\"\" Build PCL OCTree data structure. \"\"\"\n",
    "    pc = py4dgeo.PCLPointCloud(data)\n",
    "    pc.build_tree(py4dgeo.SearchStrategy.octree)\n",
    "    return pc"
   ]
  },
  {
   "cell_type": "code",
   "execution_count": null,
   "id": "674ec11c-9eea-4aa5-9a09-94c16b48759c",
   "metadata": {},
   "outputs": [],
   "source": [
    "@measure\n",
    "def radius_pcl(tree, point, radius):\n",
    "    \"\"\" Invocation of radius search for PCL trees \"\"\"\n",
    "    return tree.radius_search(point, radius)"
   ]
  },
  {
   "cell_type": "code",
   "execution_count": null,
   "id": "757a163b-7183-4c87-9616-699cb1eefcdb",
   "metadata": {},
   "outputs": [],
   "source": [
    "@measure\n",
    "def build_scipy(data):\n",
    "    \"\"\" Build Scipy KDTree data structure \"\"\"\n",
    "    return ScipyKDTree(data)"
   ]
  },
  {
   "cell_type": "code",
   "execution_count": null,
   "id": "61d4240d-e198-407b-baa9-c0dcc5b856a4",
   "metadata": {},
   "outputs": [],
   "source": [
    "@measure\n",
    "def radius_scipy(tree, point, radius):\n",
    "    \"\"\" Invocation of Scipy radius search \"\"\"\n",
    "    return tree.query_ball_point(point, radius)"
   ]
  },
  {
   "cell_type": "code",
   "execution_count": null,
   "id": "792b54bf-796c-4018-b657-b4c9ec82222b",
   "metadata": {},
   "outputs": [],
   "source": [
    "@measure\n",
    "def build_sklearn(data):\n",
    "    \"\"\" Build Sklearn KDTree data structure \"\"\"\n",
    "    return SklearnKDTree(data)"
   ]
  },
  {
   "cell_type": "code",
   "execution_count": null,
   "id": "d069c1ce-ba15-40b5-892d-2a6000493a0d",
   "metadata": {},
   "outputs": [],
   "source": [
    "@measure\n",
    "def radius_sklearn(tree, point, radius):\n",
    "    \"\"\" Invocation of Sklearn radius search \"\"\"\n",
    "    return tree.query_radius(np.expand_dims(point, axis=0), radius)"
   ]
  },
  {
   "cell_type": "code",
   "execution_count": null,
   "id": "a3fcc74f-0dd1-4462-bba8-580bddf8a00a",
   "metadata": {},
   "outputs": [],
   "source": [
    "# Make the different implementations iterable\n",
    "implementations = [\n",
    "    (build_pcl_kdtree, radius_pcl),\n",
    "    (build_pcl_bruteforce, radius_pcl),\n",
    "    (build_pcl_octree, radius_pcl),\n",
    "    (build_scipy, radius_scipy),\n",
    "    (build_sklearn, radius_sklearn)\n",
    "]"
   ]
  }
 ],
 "metadata": {
  "kernelspec": {
   "display_name": "Python 3",
   "language": "python",
   "name": "python3"
  },
  "language_info": {
   "codemirror_mode": {
    "name": "ipython",
    "version": 3
   },
   "file_extension": ".py",
   "mimetype": "text/x-python",
   "name": "python",
   "nbconvert_exporter": "python",
   "pygments_lexer": "ipython3",
   "version": "3.9.4"
  }
 },
 "nbformat": 4,
 "nbformat_minor": 5
}
