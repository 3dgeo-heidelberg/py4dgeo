{
 "cells": [
  {
   "cell_type": "markdown",
   "id": "a621f59b",
   "metadata": {},
   "source": [
    " # 4D-OBC merge\n",
    " \n",
    "This notebook explains how to use the merge-function of the py4dgeo-packag which automatically merges similar 4D-OBCs to one.  \n",
    "\n",
    "Implemented in: `py4dgeo.merge`\n",
    "\n",
    "**Author(s)** \n",
    "\n",
    "Scharnagl, Robin (Technische Universität München)\n",
    "\n",
    "**Related publication**\n",
    "\n",
    " Ulm M, Elias M,  Eltner A, Lotsari E & Anders K. (2025). Automated change detection in photogrammetric 4D point clouds – transferability and extension of 4D objects‑by‑change \n",
    "for monitoring riverbank dynamics using low‑cost cameras. *Applied Geomatics*, https://doi.org/10.1007/s12518-025-00623-9   \n"
   ]
  },
  {
   "cell_type": "markdown",
   "id": "c3d57f43",
   "metadata": {},
   "source": [
    "## **Method description**\n",
    "This section should provide a detailed technical explanation of the method:\n",
    "\n",
    "- **Theoretical foundation**: Due to uncorrelated noise, the extraction of 4D-OBCs tends to oversegment, which leads to multiple 4D-OBCs describing one process. This function merges 4D-OBCs that overlap in time and space, to create just one object.\n",
    "\n",
    "- **Algorithm**: The algorithm first checks the change direction of each object. It then calculates the spatial and temporal overlap of the OBCs. If the OBC's changes point in the same direction, and their temporal and spatial overlap exceeds a user-defined threshold, their link is stored. In the last step, these get fused to one single 4D-OBC\n",
    "\n",
    "- **Key parameters**: The parameters that the user can define are the following:\n",
    "    - `time_threshold` (float, 0 - 1): threshold for temporal overlap, 1: complete overlap, 0: no overlap\n",
    "    - `spatial_threshold`(float, 0 - 1): thershold for spatial overlap, 1: complete overlap, 0: no overlap\n"
   ]
  },
  {
   "cell_type": "markdown",
   "id": "a9230928",
   "metadata": {},
   "source": [
    "First, we download the dataset:"
   ]
  },
  {
   "cell_type": "code",
   "execution_count": 1,
   "id": "85ab3502",
   "metadata": {},
   "outputs": [
    {
     "name": "stderr",
     "output_type": "stream",
     "text": [
      "Downloading file 'module3.zip' from 'doi:10.5281/zenodo.10003574/module3.zip' to 'C:\\Users\\schar\\AppData\\Local\\py4dgeo\\py4dgeo\\Cache'.\n",
      "100%|#############################################| 2.13G/2.13G [00:00<?, ?B/s]\n",
      "Unzipping contents of 'C:\\Users\\schar\\AppData\\Local\\py4dgeo\\py4dgeo\\Cache\\module3.zip' to 'C:\\Users\\schar\\AppData\\Local\\py4dgeo\\py4dgeo\\Cache\\module3.zip.unzip'\n"
     ]
    }
   ],
   "source": [
    "# Load Required Package\n",
    "import numpy as np\n",
    "import geopandas as gpd\n",
    "import matplotlib.pyplot as plt\n",
    "import pooch\n",
    "import os \n",
    "from datetime import datetime\n",
    "import py4dgeo \n",
    "\n",
    "\n",
    "# Load Dataset\n",
    "# Download data from zenodo and set path to point cloud folder\n",
    "p = pooch.Pooch(base_url=\"doi:10.5281/zenodo.10003574/\", path=pooch.os_cache(\"py4dgeo\"))\n",
    "p.load_registry_from_doi()\n",
    "p.fetch(\"module3.zip\", processor=pooch.Unzip(), progressbar=True)\n",
    "pc_dir = p.path / \"module3.zip.unzip\" / \"module3\" / \"schneeferner\" / \"pointclouds\"\n"
   ]
  },
  {
   "cell_type": "markdown",
   "id": "c417a8fc",
   "metadata": {},
   "source": [
    "We then create a SpatiotemporalAnalysis-object from the given dataset."
   ]
  },
  {
   "cell_type": "code",
   "execution_count": 2,
   "id": "b1850503",
   "metadata": {},
   "outputs": [
    {
     "name": "stderr",
     "output_type": "stream",
     "text": [
      "<>:23: SyntaxWarning: invalid escape sequence '\\s'\n",
      "<>:23: SyntaxWarning: invalid escape sequence '\\s'\n",
      "C:\\Users\\schar\\AppData\\Local\\Temp\\ipykernel_55952\\1910519347.py:23: SyntaxWarning: invalid escape sequence '\\s'\n",
      "  analysis = py4dgeo.SpatiotemporalAnalysis(f'{pc_dir}\\schneeferner.zip', force=True)\n"
     ]
    },
    {
     "name": "stdout",
     "output_type": "stream",
     "text": [
      "[2025-10-22 11:54:30][INFO] Creating analysis file C:\\Users\\schar\\AppData\\Local\\py4dgeo\\py4dgeo\\Cache\\module3.zip.unzip\\module3\\schneeferner\\pointclouds\\schneeferner.zip\n",
      "[2025-10-22 11:54:30][INFO] Reading point cloud from file 'C:\\Users\\schar\\AppData\\Local\\py4dgeo\\py4dgeo\\Cache\\module3.zip.unzip\\module3\\schneeferner\\pointclouds\\schneeferner_180418_120027.laz'\n",
      "[2025-10-22 11:54:30][INFO] Building KDTree structure with leaf parameter 10\n",
      "[2025-10-22 11:54:30][INFO] Saving epoch to file 'C:\\Users\\schar\\AppData\\Local\\Temp\\tmpu6j749zf\\reference_epoch.zip'\n",
      "[2025-10-22 11:54:31][INFO] Saving a file without normals.\n"
     ]
    }
   ],
   "source": [
    "# list of point clouds (time series)\n",
    "pc_list = os.listdir(pc_dir)\n",
    "pc_list[:5] # print the first elements\n",
    "\n",
    "\n",
    "timestamps = []\n",
    "for f in pc_list:\n",
    "    if not f.endswith('.laz'):\n",
    "        continue\n",
    "\n",
    "    # get the timestamp from the file name\n",
    "    timestamp_str = '_'.join(f.split('.')[0].split('_')[1:]) # yields YYMMDD_hhmmss\n",
    "\n",
    "    # convert string to datetime object\n",
    "    timestamp = datetime.strptime(timestamp_str, '%y%m%d_%H%M%S')\n",
    "    timestamps.append(timestamp)\n",
    "\n",
    "timestamps[:5]\n",
    "\n",
    "analysis = py4dgeo.SpatiotemporalAnalysis(f'{pc_dir}\\schneeferner.zip', force=True)\n",
    "#%%\n",
    "# specify the reference epoch\n",
    "reference_epoch_file = os.path.join(pc_dir, pc_list[0])\n",
    "\n",
    "# read the reference epoch and set the timestamp\n",
    "reference_epoch = py4dgeo.read_from_las(reference_epoch_file)\n",
    "reference_epoch.timestamp = timestamps[0]\n",
    "\n",
    "# set the reference epoch in the spatiotemporal analysis object\n",
    "analysis.reference_epoch = reference_epoch"
   ]
  },
  {
   "cell_type": "markdown",
   "id": "c4662fef",
   "metadata": {},
   "source": [
    "With the SpatiotemporalAnalysis-object, we can simply add the merge-function and define the parameters to the users-preference. "
   ]
  },
  {
   "cell_type": "code",
   "execution_count": 3,
   "id": "7f37694c",
   "metadata": {},
   "outputs": [
    {
     "ename": "AttributeError",
     "evalue": "'SpatiotemporalAnalysis' object has no attribute 'merge'",
     "output_type": "error",
     "traceback": [
      "\u001b[31m---------------------------------------------------------------------------\u001b[39m",
      "\u001b[31mAttributeError\u001b[39m                            Traceback (most recent call last)",
      "\u001b[36mCell\u001b[39m\u001b[36m \u001b[39m\u001b[32mIn[3]\u001b[39m\u001b[32m, line 2\u001b[39m\n\u001b[32m      1\u001b[39m \u001b[38;5;66;03m# Run the Method\u001b[39;00m\n\u001b[32m----> \u001b[39m\u001b[32m2\u001b[39m merged = \u001b[43manalysis\u001b[49m\u001b[43m.\u001b[49m\u001b[43mmerge\u001b[49m(time_threshold=\u001b[32m0.7\u001b[39m, spatial_threshold=\u001b[32m0.1\u001b[39m)\n\u001b[32m      4\u001b[39m \u001b[38;5;66;03m# Plot a merged object of change\u001b[39;00m\n\u001b[32m      5\u001b[39m merged[\u001b[32m0\u001b[39m].plot()\n",
      "\u001b[31mAttributeError\u001b[39m: 'SpatiotemporalAnalysis' object has no attribute 'merge'"
     ]
    }
   ],
   "source": [
    "# Run the Method\n",
    "merged = analysis.merge(time_threshold=0.7, spatial_threshold=0.1)\n",
    "\n",
    "# Plot a merged object of change\n",
    "merged[0].plot()"
   ]
  },
  {
   "cell_type": "markdown",
   "id": "61ab3010",
   "metadata": {},
   "source": [
    "## References\n",
    "-  Ulm M, Elias M,  Eltner A, Lotsari E & Anders K. (2025). Automated change detection in photogrammetric 4D point clouds – transferability and extension of 4D objects‑by‑change \n",
    "for monitoring riverbank dynamics using low‑cost cameras. *Applied Geomatics*, pages. https://doi.org/10.1007/s12518-025-00623-9   "
   ]
  }
 ],
 "metadata": {
  "kernelspec": {
   "display_name": "RemoteSensing",
   "language": "python",
   "name": "python3"
  },
  "language_info": {
   "codemirror_mode": {
    "name": "ipython",
    "version": 3
   },
   "file_extension": ".py",
   "mimetype": "text/x-python",
   "name": "python",
   "nbconvert_exporter": "python",
   "pygments_lexer": "ipython3",
   "version": "3.12.9"
  }
 },
 "nbformat": 4,
 "nbformat_minor": 5
}
