{
 "cells": [
  {
   "cell_type": "markdown",
   "id": "a621f59b",
   "metadata": {},
   "source": [
    " # 4D-OBC merge\n",
    " \n",
    "This notebook explains how to use the merge-function of the py4dgeo-packag which automatically merges similar 4D-OBCs to one.  \n",
    "\n",
    "Implemented in: `py4dgeo.merge`\n",
    "\n",
    "**Author(s)** \n",
    "\n",
    "Scharnagl, Robin (Technische Universität München)\n",
    "\n",
    "**Related publication**\n",
    "\n",
    " Ulm M, Elias M,  Eltner A, Lotsari E & Anders K. (2025). Automated change detection in photogrammetric 4D point clouds – transferability and extension of 4D objects‑by‑change \n",
    "for monitoring riverbank dynamics using low‑cost cameras. *Applied Geomatics*, https://doi.org/10.1007/s12518-025-00623-9   \n"
   ]
  },
  {
   "cell_type": "markdown",
   "id": "c3d57f43",
   "metadata": {},
   "source": [
    "## **Method description**\n",
    "This section should provide a detailed technical explanation of the method:\n",
    "\n",
    "- **Theoretical foundation**: Due to uncorrelated noise, the extraction of 4D-OBCs tends to oversegment, which leads to multiple 4D-OBCs describing one process. This function merges 4D-OBCs that overlap in time and space, to create just one object.\n",
    "\n",
    "- **Algorithm**: The algorithm first checks the change direction of each object. It then calculates the spatial and temporal overlap of the OBCs. If the OBC's changes point in the same direction, and their temporal and spatial overlap exceeds a user-defined threshold, their link is stored. In the last step, these get fused to one single 4D-OBC\n",
    "\n",
    "- **Key parameters**: The parameters that the user can define are the following:\n",
    "    - `time_threshold` (float, 0 - 1): threshold for temporal overlap, 1: complete overlap, 0: no overlap\n",
    "    - `spatial_threshold`(float, 0 - 1): thershold for spatial overlap, 1: complete overlap, 0: no overlap\n"
   ]
  },
  {
   "cell_type": "code",
   "execution_count": null,
   "id": "85ab3502",
   "metadata": {},
   "outputs": [],
   "source": [
    "# Load Required Package\n",
    "from py4dgeo import extract\n",
    "\n",
    "# Load Dataset\n",
    "analysis = SpatiotemporalAnalysis()\n"
   ]
  },
  {
   "cell_type": "markdown",
   "id": "c4662fef",
   "metadata": {},
   "source": [
    "After loading the SpatiotemporalAnalysis-object, we can simply add the merge-function and define the parameters to the users-preference. "
   ]
  },
  {
   "cell_type": "code",
   "execution_count": null,
   "id": "7f37694c",
   "metadata": {},
   "outputs": [],
   "source": [
    "# Run the Method\n",
    "merged= analysis.merge(time_threshold=0.7, spatial_threshold=0.1)\n",
    "\n",
    "# Plot a merged object of change\n",
    "merged[0].plot()"
   ]
  },
  {
   "cell_type": "markdown",
   "id": "61ab3010",
   "metadata": {},
   "source": [
    "## References\n",
    "-  Ulm M, Elias M,  Eltner A, Lotsari E & Anders K. (2025). Automated change detection in photogrammetric 4D point clouds – transferability and extension of 4D objects‑by‑change \n",
    "for monitoring riverbank dynamics using low‑cost cameras. *Applied Geomatics*, pages. https://doi.org/10.1007/s12518-025-00623-9   "
   ]
  },
  {
   "cell_type": "markdown",
   "id": "372aed1a",
   "metadata": {},
   "source": [
    "## ✅ Contributor Checklist\n",
    "\n",
    "- [ ] This notebook runs start to finish without errors\n",
    "- [ ] Dataset is available via link to repository or DOI\n",
    "- [ ] All method parameters are clearly explained\n",
    "- [ ] The algorithm is thoroughly explained with appropriate theoretical background\n",
    "- [ ] Results are visualized and properly interpreted (if applicable)\n",
    "- [ ] All references are properly cited\n",
    "\n",
    "Questions? Please refer to the contributor guide in the main `README.md` or open an issue on the GitHub issue tracker.\n"
   ]
  }
 ],
 "metadata": {
  "language_info": {
   "name": "python"
  }
 },
 "nbformat": 4,
 "nbformat_minor": 5
}
