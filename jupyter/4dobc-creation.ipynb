{
 "cells": [
  {
   "cell_type": "markdown",
   "id": "b4190d02-3774-489b-bb51-3c7c5be29281",
   "metadata": {},
   "source": [
    "## 4D Objects By Change - Creating an analysis"
   ]
  },
  {
   "cell_type": "markdown",
   "id": "8dae3e50-ec7c-4617-9113-7b93d146a5b4",
   "metadata": {},
   "source": [
    "This notebook will explain you the data preparation step for *4D Objects By Change* algorithm ([Anders et al., 2021](#references)). For details about the algorithm, we refer to the articles by Anders et al. ([2020; 2021]((#references)))."
   ]
  },
  {
   "cell_type": "code",
   "execution_count": null,
   "id": "764b8986-514a-4729-bbe3-4febafd13cc6",
   "metadata": {},
   "outputs": [],
   "source": [
    "import py4dgeo\n",
    "import numpy as np"
   ]
  },
  {
   "cell_type": "markdown",
   "id": "f6693cba-2570-4a92-8d81-487e864b52be",
   "metadata": {},
   "source": [
    "Again, we ensure that we have test data available:"
   ]
  },
  {
   "cell_type": "code",
   "execution_count": null,
   "id": "214cd8f2-da64-42de-93df-9ac90a71c9e4",
   "metadata": {},
   "outputs": [],
   "source": [
    "py4dgeo.ensure_test_data_availability()"
   ]
  },
  {
   "cell_type": "markdown",
   "id": "3836d3d9-a20e-4974-a0e7-57ba7df0d2e4",
   "metadata": {},
   "source": [
    "The main data structure for the 4D-OBC algorithm is a `SpatiotemporalAnalysis` object. It is always backed by an archive file, which we specify when instantiating the analysis object. If the given filename already exists, we open it, otherwise an empty archive is created. Here.:"
   ]
  },
  {
   "cell_type": "code",
   "execution_count": null,
   "id": "21dc3784-fa2a-47be-a05f-8e97fe5bf419",
   "metadata": {},
   "outputs": [],
   "source": [
    "analysis = py4dgeo.SpatiotemporalAnalysis(\"test.zip\", force=True)"
   ]
  },
  {
   "cell_type": "markdown",
   "id": "a01423e7-d440-40b5-8feb-be53f16028ed",
   "metadata": {},
   "source": [
    "The analysis object stores all information necessary to rerun and extend the analysis. This includes e.g. the reference epoch, the set of corepoints, the space-time array of distances. It does not store all epochs though that were used in building up the analysis. In the following we will show how the required components are added to the analysis using the example of the two epochs used for demonstration of M3C2 earlier. To be usable in spatiotemporal analysis, a timestamp is added to these epochs:"
   ]
  },
  {
   "cell_type": "code",
   "execution_count": null,
   "id": "36d68e9f-a4cf-43be-944c-7983adbb81d1",
   "metadata": {},
   "outputs": [],
   "source": [
    "reference_epoch, epoch = py4dgeo.read_from_xyz(\n",
    "    \"plane_horizontal_t1.xyz\", \"plane_horizontal_t2.xyz\"\n",
    ")\n",
    "reference_epoch.timestamp = \"March 9th 2022, 16:00\"\n",
    "epoch.timestamp = \"March 10th 2022, 16:00\""
   ]
  },
  {
   "cell_type": "markdown",
   "id": "83248817-2853-4ed8-b600-cec5cf64358f",
   "metadata": {},
   "source": [
    "The reference epoch needs to be added to the analysis:"
   ]
  },
  {
   "cell_type": "code",
   "execution_count": null,
   "id": "57cc45ea-66e5-4d8f-b989-bf2f978bd934",
   "metadata": {},
   "outputs": [],
   "source": [
    "analysis.reference_epoch = reference_epoch"
   ]
  },
  {
   "cell_type": "markdown",
   "id": "1fb70e0b-29bb-49e9-ab77-43cec4fb67c8",
   "metadata": {},
   "source": [
    "We also need to define the set of core points in use. In this case, we use the entire reference epoch as core points:"
   ]
  },
  {
   "cell_type": "code",
   "execution_count": null,
   "id": "5b01d787-0249-436f-b3a8-92663559c670",
   "metadata": {},
   "outputs": [],
   "source": [
    "analysis.corepoints = reference_epoch"
   ]
  },
  {
   "cell_type": "markdown",
   "id": "8180c784-4438-41dd-82d4-646c0f0b2e93",
   "metadata": {},
   "source": [
    "Next, we want to add epochs to the spatiotemporal analysis. For this, we need to define an algorithm that calculates the point cloud distances, for example using the M3C2 algorithm ([Lague et al., 2013](#references)). For details of the algorithm setup, you can have a look at the [M3C2 notebook](m3c2.ipynb):"
   ]
  },
  {
   "cell_type": "code",
   "execution_count": null,
   "id": "39b4fdbc-2a8b-4ef2-b446-3711b4179d4b",
   "metadata": {},
   "outputs": [],
   "source": [
    "analysis.m3c2 = py4dgeo.M3C2(cyl_radii=[2.0], normal_radii=[2.0])"
   ]
  },
  {
   "cell_type": "markdown",
   "id": "20348cf6-94d9-4712-ba0b-9b8621e1d056",
   "metadata": {},
   "source": [
    "Having done all of this, we can add an epoch to the analysis:"
   ]
  },
  {
   "cell_type": "code",
   "execution_count": null,
   "id": "7a1b3acd-1115-41af-b5eb-f8143bd45145",
   "metadata": {},
   "outputs": [],
   "source": [
    "analysis.add_epochs(epoch)"
   ]
  },
  {
   "cell_type": "markdown",
   "id": "8a61fb1b-c06e-4881-b871-954224d589bb",
   "metadata": {},
   "source": [
    "Having done this, we can inspect some of the data contained in the analysis:"
   ]
  },
  {
   "cell_type": "code",
   "execution_count": null,
   "id": "27ac2a4c-714b-48d5-af4c-ade88bbf5f9f",
   "metadata": {},
   "outputs": [],
   "source": [
    "np.set_printoptions(threshold=5)"
   ]
  },
  {
   "cell_type": "code",
   "execution_count": null,
   "id": "5ed100a6-0428-4e2e-9005-ac12b36a319e",
   "metadata": {},
   "outputs": [],
   "source": [
    "print(f\"Space-time distance array: {analysis.distances}\")"
   ]
  },
  {
   "cell_type": "code",
   "execution_count": null,
   "id": "b8d469e3-f125-4fd5-ab73-14bd2ecf0282",
   "metadata": {},
   "outputs": [],
   "source": [
    "print(f\"Uncertainty array of M3C2 calculation: {analysis.uncertainties}\")"
   ]
  },
  {
   "cell_type": "code",
   "execution_count": null,
   "id": "bf96628e-5145-4fba-90c4-24ee14b9e9f1",
   "metadata": {},
   "outputs": [],
   "source": [
    "print(f\"Timestamp deltas of analysis: {analysis.timedeltas}\")"
   ]
  },
  {
   "cell_type": "markdown",
   "id": "d46a1fc6-3e79-4700-8863-9e0bc16b914e",
   "metadata": {},
   "source": [
    "Note that the `add_epochs` can be passed several epochs at the same time to save some costly memory operations. Also, `add_epochs` can be called again on existing analysis objects allowing you to update your analysis after additional data acquisition at the same site."
   ]
  },
  {
   "cell_type": "markdown",
   "id": "408b0cb5",
   "metadata": {},
   "source": [
    "<a id='references'></a>\n",
    "## References\n",
    "\n",
    "* Anders, K., Winiwarter, L., Lindenbergh, R., Williams, J. G., Vos, S. E., & Höfle, B. (2020). 4D objects-by-change: Spatiotemporal segmentation of geomorphic surface change from LiDAR time series. ISPRS Journal of Photogrammetry and Remote Sensing, 159, pp. 352-363. doi: [10.1016/j.isprsjprs.2019.11.025](https://doi.org/10.1016/j.isprsjprs.2019.11.025).\n",
    "* Anders, K., Winiwarter, L., Mara, H., Lindenbergh, R., Vos, S. E., & Höfle, B. (2021). Fully automatic spatiotemporal segmentation of 3D LiDAR time series for the extraction of natural surface changes. ISPRS Journal of Photogrammetry and Remote Sensing, 173, pp. 297-308. doi: [10.1016/j.isprsjprs.2021.01.015](https://doi.org/10.1016/j.isprsjprs.2021.01.015).\n",
    "* Lague, D., Brodu, N., & Leroux, J. (2013). Accurate 3D comparison of complex topography with terrestrial laser scanner: Application to the Rangitikei canyon (N-Z). ISPRS Journal of Photogrammetry and Remote Sensing, 82, pp. 10-26. doi: [10.1016/j.isprsjprs.2013.04.009](https://doi.org/10.1016/j.isprsjprs.2013.04.009)."
   ]
  }
 ],
 "metadata": {
  "kernelspec": {
   "display_name": "Python 3 (ipykernel)",
   "language": "python",
   "name": "python3"
  },
  "language_info": {
   "codemirror_mode": {
    "name": "ipython",
    "version": 3
   },
   "file_extension": ".py",
   "mimetype": "text/x-python",
   "name": "python",
   "nbconvert_exporter": "python",
   "pygments_lexer": "ipython3",
   "version": "3.9.7"
  }
 },
 "nbformat": 4,
 "nbformat_minor": 5
}
