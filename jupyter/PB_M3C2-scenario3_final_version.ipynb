{
 "cells": [
  {
   "cell_type": "markdown",
   "id": "6b5437cc",
   "metadata": {},
   "source": [
    "# Correspondence-driven plane-based M3C2 (PB_M3C2)"
   ]
  },
  {
   "cell_type": "code",
   "execution_count": null,
   "id": "34b5335f",
   "metadata": {},
   "outputs": [],
   "source": [
    "import py4dgeo"
   ]
  },
  {
   "cell_type": "code",
   "execution_count": null,
   "id": "ccc687e4",
   "metadata": {},
   "outputs": [],
   "source": [
    "py4dgeo.set_interactive_backend(\"vtk\")"
   ]
  },
  {
   "cell_type": "code",
   "execution_count": null,
   "id": "3a0a7a4f",
   "metadata": {},
   "outputs": [],
   "source": [
    "py4dgeo.ensure_test_data_availability()"
   ]
  },
  {
   "cell_type": "code",
   "execution_count": null,
   "id": "3dfd1e2a",
   "metadata": {},
   "outputs": [],
   "source": [
    "epoch0, epoch1 = py4dgeo.read_from_xyz(\n",
    "    \"plane_horizontal_t1.xyz\", \"plane_horizontal_t2.xyz\"\n",
    ")"
   ]
  },
  {
   "cell_type": "code",
   "execution_count": null,
   "id": "8d5bd448",
   "metadata": {},
   "outputs": [],
   "source": [
    "alg = py4dgeo.PB_M3C2()"
   ]
  },
  {
   "cell_type": "code",
   "execution_count": null,
   "id": "f2e5740c",
   "metadata": {},
   "outputs": [],
   "source": [
    "(\n",
    "    xyz_epoch0,\n",
    "    xyz_epoch1,\n",
    "    extracted_segments,\n",
    ") = alg.export_segmented_point_cloud_and_segments(\n",
    "    epoch0=epoch0,\n",
    "    epoch1=epoch1,\n",
    ")"
   ]
  },
  {
   "cell_type": "code",
   "execution_count": null,
   "id": "edb6ee05",
   "metadata": {},
   "outputs": [],
   "source": [
    "# -----"
   ]
  },
  {
   "cell_type": "code",
   "execution_count": null,
   "id": "7e05bb88",
   "metadata": {},
   "outputs": [],
   "source": [
    "extended_y_with_label_1 = py4dgeo.generate_random_extended_y(\n",
    "    extracted_segments, extended_y_file_name=\"extended_y.csv\", low=1, high=1\n",
    ")"
   ]
  },
  {
   "cell_type": "code",
   "execution_count": null,
   "id": "c2710d60",
   "metadata": {},
   "outputs": [],
   "source": [
    "new_extended_y = py4dgeo.add_no_corresponding_seg(\n",
    "    segments=extracted_segments,\n",
    "    # extended_y=extended_y_with_label_1,\n",
    "    threshold_max_distance=5,\n",
    "    algorithm=\"random\",\n",
    "    extended_y_file_name=\"extended_y.csv\",\n",
    ")"
   ]
  },
  {
   "cell_type": "code",
   "execution_count": null,
   "id": "4df09275",
   "metadata": {},
   "outputs": [],
   "source": [
    "# -----"
   ]
  },
  {
   "cell_type": "code",
   "execution_count": null,
   "id": "49aaf07e",
   "metadata": {},
   "outputs": [],
   "source": [
    "alg.training(\n",
    "    extracted_segments_file_name=\"extracted_segments.seg\",\n",
    "    extended_y_file_name=\"testdata-labelling.csv\",\n",
    ")"
   ]
  },
  {
   "cell_type": "code",
   "execution_count": null,
   "id": "62d1d30e",
   "metadata": {},
   "outputs": [],
   "source": [
    "distances, uncertainties = alg.compute_distances(epoch0=epoch0, epoch1=epoch1)"
   ]
  },
  {
   "cell_type": "code",
   "execution_count": null,
   "id": "c81ece80",
   "metadata": {},
   "outputs": [],
   "source": []
  }
 ],
 "metadata": {
  "kernelspec": {
   "display_name": "Python 3 (ipykernel)",
   "language": "python",
   "name": "python3"
  },
  "language_info": {
   "codemirror_mode": {
    "name": "ipython",
    "version": 3
   },
   "file_extension": ".py",
   "mimetype": "text/x-python",
   "name": "python",
   "nbconvert_exporter": "python",
   "pygments_lexer": "ipython3",
   "version": "3.11.0"
  }
 },
 "nbformat": 4,
 "nbformat_minor": 5
}
