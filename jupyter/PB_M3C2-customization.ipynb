{
 "cells": [
  {
   "cell_type": "markdown",
   "id": "d08b7f40",
   "metadata": {},
   "source": [
    "# Algorithm customization"
   ]
  },
  {
   "cell_type": "code",
   "execution_count": null,
   "id": "01c6ed98",
   "metadata": {},
   "outputs": [],
   "source": [
    "import py4dgeo"
   ]
  },
  {
   "cell_type": "markdown",
   "id": "00de15f0",
   "metadata": {},
   "source": [
    "Ensure the input data is available."
   ]
  },
  {
   "cell_type": "code",
   "execution_count": null,
   "id": "6782aae0",
   "metadata": {},
   "outputs": [],
   "source": [
    "py4dgeo.ensure_test_data_availability()\n",
    "Epoch0, Epoch1 = py4dgeo.read_from_xyz(\n",
    "    \"plane_horizontal_t1.xyz\", \"plane_horizontal_t2.xyz\"\n",
    ")"
   ]
  },
  {
   "cell_type": "markdown",
   "id": "b9674181",
   "metadata": {},
   "source": [
    "### Customization by changing the default constructor."
   ]
  },
  {
   "cell_type": "markdown",
   "id": "f776e704",
   "metadata": {},
   "source": [
    "By default, \"PB_M3C2\" uses the falowing classes."
   ]
  },
  {
   "cell_type": "code",
   "execution_count": null,
   "id": "8cb3e58a",
   "metadata": {},
   "outputs": [],
   "source": [
    "custom_algo = py4dgeo.PB_M3C2(\n",
    "    # Compute PCA (implicitly, the normal vector as well) and the lowest local surface variation of each point.\n",
    "    add_LLSV_and_PCA=AddLLSVandPCA(),\n",
    "    # Add Segment ID Column and Standard deviation Column\n",
    "    segmentation=Segmentation(),\n",
    "    # Used for the second iteration with different parameters. \"with_previously_computed_segments\" must be \"true\"\n",
    "    second_segmentation=Segmentation(with_previously_computed_segments=True),\n",
    "    # Used for building features\n",
    "    extract_segments=ExtractSegments(),\n",
    "    build_similarity_feature_and_y=BuildSimilarityFeature_and_y_Visually(),\n",
    "    classifier=SimplifiedClassifier(),\n",
    ")"
   ]
  }
 ],
 "metadata": {
  "kernelspec": {
   "display_name": "Python 3 (ipykernel)",
   "language": "python",
   "name": "python3"
  },
  "language_info": {
   "codemirror_mode": {
    "name": "ipython",
    "version": 3
   },
   "file_extension": ".py",
   "mimetype": "text/x-python",
   "name": "python",
   "nbconvert_exporter": "python",
   "pygments_lexer": "ipython3",
   "version": "3.11.0"
  }
 },
 "nbformat": 4,
 "nbformat_minor": 5
}
