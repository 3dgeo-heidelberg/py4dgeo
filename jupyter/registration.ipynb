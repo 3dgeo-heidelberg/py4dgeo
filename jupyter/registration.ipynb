{
 "cells": [
  {
   "cell_type": "markdown",
   "id": "6c7c6057-7afb-4bca-8ce8-2b5bc6d3ebd8",
   "metadata": {},
   "source": [
    "# Point Cloud Registration"
   ]
  },
  {
   "cell_type": "markdown",
   "id": "409aa420-6cb6-4ca3-bdac-82be546ad99e",
   "metadata": {},
   "source": [
    "In order to lower the uncertainty of calculations done with `py4dgeo`, point cloud registration should be performed to tightly align the point clouds. `py4dgeo` supports this in two ways:\n",
    "\n",
    "* It allows you to apply arbitrary affine transformations to epochs and stores the transformation parameters as part of the epoch. You can use the tooling of your choice to calculate these.\n",
    "* It provides a number of registration algorithms that allow you to calculate the transformation directly in `py4dgeo`. Currently, this is limited to standard ICP.\n",
    "\n",
    "This notebook show cases both ways of usage.\n",
    "\n",
    "Note: Be aware that an initial transformation is required that roughly aligns the two point clouds. "
   ]
  },
  {
   "cell_type": "code",
   "execution_count": null,
   "id": "7f8bd41b-4aaf-4179-8d8c-70c8d128c6c8",
   "metadata": {},
   "outputs": [],
   "source": [
    "import py4dgeo\n",
    "import numpy as np"
   ]
  },
  {
   "cell_type": "markdown",
   "id": "2333ad51-6588-4daf-8972-c29ad23be5f3",
   "metadata": {},
   "source": [
    "We load two epochs and register them to each other:"
   ]
  },
  {
   "cell_type": "code",
   "execution_count": null,
   "id": "fe6c3513-6b0c-4dc9-ae1f-2eeaf00ef6e4",
   "metadata": {},
   "outputs": [],
   "source": [
    "epoch1 = py4dgeo.read_from_xyz(\"plane_horizontal_t1.xyz\")  # replace with own data\n",
    "epoch2 = py4dgeo.read_from_xyz(\"plane_horizontal_t2.xyz\")  # replace with own data"
   ]
  },
  {
   "cell_type": "markdown",
   "id": "637c9fc3-af32-4e90-ac20-6523e19c3a2e",
   "metadata": {},
   "source": [
    "Registration algorithms use a simple function call interface. It returns an affine transformation as a `3x4` matrix which contains the Rotation matrix $\\mathbf{R}$ and the translation vector $\\mathbf{t}$:\n",
    "\n",
    "$$\n",
    "\\mathbf{T} = \\left(\\begin{array}{ccc}r_{11}&r_{12}&r_{13}&t_1\\\\r_{21}&r_{22}&r_{23}&t_2\\\\r_{31}&r_{32}&r_{33}&t_3\\end{array}\\right)\n",
    "$$\n",
    "\n",
    "When calculating and applying such transformations in `py4dgeo`, it is always possible to specify the *reduction point* $\\mathbf{x_0}$. This allows shifting coordinates towards the origin before applying rotations - leading to a numerically robust operation. The algorithm for a transformation is:\n",
    "\n",
    "$$\n",
    "\\mathbf{Tx} = \\left(\\mathbf{R}(\\mathbf{x}-\\mathbf{x_0})\\right) + \\mathbf{t} + \\mathbf{x_0}\n",
    "$$"
   ]
  },
  {
   "cell_type": "code",
   "execution_count": null,
   "id": "9f50d6df-a1a4-416f-97ff-fe1722da7c9c",
   "metadata": {},
   "outputs": [],
   "source": [
    "trafo = py4dgeo.iterative_closest_point(\n",
    "    epoch1, epoch2, reduction_point=np.array([0, 0, 0])\n",
    ")"
   ]
  },
  {
   "cell_type": "markdown",
   "id": "2abb953c-94ff-4202-8707-1bc9ea11c6d5",
   "metadata": {},
   "source": [
    "This transformation can then be used to transform `epoch2`:"
   ]
  },
  {
   "cell_type": "code",
   "execution_count": null,
   "id": "2f0767e7-fda3-4ef2-9997-c0cd9a854e74",
   "metadata": {},
   "outputs": [],
   "source": [
    "epoch2.transform(trafo)\n",
    "\n",
    "## or use an external transformation matrix\n",
    "# external_trafo = np.loadtxt(\"trafo.txt\") # replace with own data\n",
    "# epoch2.transform(external_trafo)"
   ]
  },
  {
   "cell_type": "markdown",
   "id": "a373411f-688f-4b17-b5d7-c447c9e570b4",
   "metadata": {},
   "source": [
    "The `Epoch` class records applied transformations and makes them available through the `transformation` property:"
   ]
  },
  {
   "cell_type": "code",
   "execution_count": null,
   "id": "bb41a34a-341e-480d-b435-03f8acbfffa4",
   "metadata": {},
   "outputs": [],
   "source": [
    "epoch2.transformation"
   ]
  },
  {
   "cell_type": "markdown",
   "id": "b8ee2590",
   "metadata": {},
   "source": [
    "Finally, we can export the transformed epoch to inspect the registration quality e.g. in CloudCompare."
   ]
  },
  {
   "cell_type": "code",
   "execution_count": null,
   "id": "9193ec09",
   "metadata": {},
   "outputs": [],
   "source": [
    "# epoch2.save(\"plane_horizontal_t2_transformed.xyz\") # replace with own data"
   ]
  },
  {
   "cell_type": "markdown",
   "id": "4bec2d96-d698-4b92-a7a3-4210518582bf",
   "metadata": {},
   "source": [
    "## Available registration algorithms"
   ]
  },
  {
   "cell_type": "markdown",
   "id": "d558aca9-a73a-494f-9c17-740030a55c5f",
   "metadata": {},
   "source": [
    "Currently only standard point to point ICP is available, but other algorithms are currently implemented:"
   ]
  },
  {
   "cell_type": "code",
   "execution_count": null,
   "id": "7b342090-5936-4bd0-a955-53f2ed7c97ab",
   "metadata": {},
   "outputs": [],
   "source": [
    "?py4dgeo.iterative_closest_point"
   ]
  }
 ],
 "metadata": {
  "kernelspec": {
   "display_name": "Python 3 (ipykernel)",
   "language": "python",
   "name": "python3"
  },
  "language_info": {
   "codemirror_mode": {
    "name": "ipython",
    "version": 3
   },
   "file_extension": ".py",
   "mimetype": "text/x-python",
   "name": "python",
   "nbconvert_exporter": "python",
   "pygments_lexer": "ipython3",
   "version": "3.9.16"
  }
 },
 "nbformat": 4,
 "nbformat_minor": 5
}
