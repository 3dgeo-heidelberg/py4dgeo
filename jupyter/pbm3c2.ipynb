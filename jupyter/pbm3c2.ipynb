{
 "cells": [
  {
   "cell_type": "markdown",
   "id": "f039e518",
   "metadata": {},
   "source": [
    "# Correspondence-driven plane-based M3C2 (PBM3C2)"
   ]
  },
  {
   "cell_type": "code",
   "execution_count": null,
   "id": "dfbfe4d6",
   "metadata": {},
   "outputs": [],
   "source": [
    "import py4dgeo"
   ]
  },
  {
   "cell_type": "markdown",
   "id": "2f1addad-5ce2-49d8-93f5-46b41bf76446",
   "metadata": {},
   "source": [
    "In this notebook, we present how the *Correspondence-driven plane-based M3C2* (PB-M3C2, [Zahs et al., 2022](#References)) algorithm for point cloud distance computation using the `py4dgeo` package."
   ]
  },
  {
   "cell_type": "markdown",
   "id": "180d6cee-5d8a-4f54-ab78-c9380e54c743",
   "metadata": {},
   "source": [
    "As PB-M3C2 is a learning algorithm, it requires user-labelled input data in the process. This input can either be provided through external tools or be generated using a simple graphical user interface. For the graphical user interface to work best from Jupyter notebooks, we select the `vtk` backend."
   ]
  },
  {
   "cell_type": "code",
   "execution_count": null,
   "id": "9985f629",
   "metadata": {},
   "outputs": [],
   "source": [
    "py4dgeo.set_interactive_backend(\"vtk\")"
   ]
  },
  {
   "cell_type": "markdown",
   "id": "bfb078b8",
   "metadata": {},
   "source": [
    "We will work on the same demonstrator data we used in the explanation of the [M3C2 algorithm](m3c2.ipynb):"
   ]
  },
  {
   "cell_type": "code",
   "execution_count": null,
   "id": "9634fc5d",
   "metadata": {},
   "outputs": [],
   "source": [
    "epoch0, epoch1 = py4dgeo.read_from_xyz(\n",
    "    \"plane_horizontal_t1.xyz\", \"plane_horizontal_t2.xyz\"\n",
    ")"
   ]
  },
  {
   "cell_type": "markdown",
   "id": "14773802",
   "metadata": {},
   "source": [
    "Again, we instantiate an instance of the algorithm class. For now, we use only the defaults for its parameters and leave explanation of customization aspects for later."
   ]
  },
  {
   "cell_type": "code",
   "execution_count": null,
   "id": "760258ae",
   "metadata": {},
   "outputs": [],
   "source": [
    "alg = py4dgeo.PBM3C2()"
   ]
  },
  {
   "cell_type": "markdown",
   "id": "3c7455ae",
   "metadata": {},
   "source": [
    "In a first step, PB-M3C2 will run a plane segmentation algorithm on the provided input point clouds. As a learning algorithm, it then requires user input about corresponding planes. `py4dgeo` offers two ways of doing this:\n",
    "* You can export the segmentation data in XYZ format with four columns: `x`, `y` and `z` of the point cloud, as well as the `segment_id` of the segment the point is associated with. Using that data, you can determine correspondance using your favorite tools or existing workflows. Your input is again expected in a comma-separated text file (CSV). It should contain three columns: The `segment_id` from the first point cloud, the `segment_id` from the second point cloud and a value of `0` or `1` depending on whether the two segments matched. The APIs for this case are shown in this notebook.\n",
    "* You can interactively build the correspondence information in an interactive session. For this, you can call `alg.build_labelled_similarity_features_interactively()`."
   ]
  },
  {
   "cell_type": "markdown",
   "id": "2bc4b7e2-6f33-4358-867b-d1f82b7dd395",
   "metadata": {},
   "source": [
    "Here, we use the first method of using an external tool for labelling. This call will write a total of three files: The above mentioned XYZ files for both epochs, as well as a third file that contains the entire results of the segmentation process. This will allow you to start computation later on without rerunning the segmentation part of the algorithm. You can modify the default file names by passing them to the respective arguments."
   ]
  },
  {
   "cell_type": "code",
   "execution_count": null,
   "id": "798e163e",
   "metadata": {},
   "outputs": [],
   "source": [
    "xyz_epoch0, xyz_epoch1, segment_id = alg.export_segmented_point_cloud_and_segments(\n",
    "    epoch0=epoch0,\n",
    "    epoch1=epoch1,\n",
    ")"
   ]
  },
  {
   "cell_type": "markdown",
   "id": "8f2fadde-af01-4f7a-9b1a-d4adb3c3ff06",
   "metadata": {},
   "source": [
    "After doing the labelling using your preferred method, you can read it into `py4dgeo`. We pass the previously exported segmentation information and the externally produced CSV file to the traingin procedure. In this test case, we are distributing the labelled data with the test data:"
   ]
  },
  {
   "cell_type": "code",
   "execution_count": null,
   "id": "bfeb3e4a",
   "metadata": {},
   "outputs": [],
   "source": [
    "alg.training(\n",
    "    extracted_segments_file_name=\"extracted_segments.seg\",\n",
    "    extended_y_file_name=\"testdata-labelling.csv\",\n",
    ")"
   ]
  },
  {
   "cell_type": "markdown",
   "id": "710f189c",
   "metadata": {},
   "source": [
    "We have now trained the algorithm using a `scikit-learn` classifier. By default, this is a random forest tree. We are now ready to compute the distances analoguous to how distances in standard M3C2 are calculated. This will run the prediction with the trained model and derive distance and uncertainty information from the results:"
   ]
  },
  {
   "cell_type": "code",
   "execution_count": null,
   "id": "eb73e0bc",
   "metadata": {},
   "outputs": [],
   "source": [
    "distances, uncertainties = alg.compute_distances(epoch0=epoch0, epoch1=epoch1)"
   ]
  },
  {
   "cell_type": "markdown",
   "id": "b3f49801-58e0-47fa-88f1-991b06bd8182",
   "metadata": {},
   "source": [
    "### References\n",
    "\n",
    "* Zahs, V., Winiwarter, L., Anders, K., Williams, J.G., Rutzinger, M. & Höfle, B. (2022): Correspondence-driven plane-based M3C2 for lower uncertainty in 3D topographic change quantification. ISPRS Journal of Photogrammetry and Remote Sensing, 183, pp. 541-559. DOI: [10.1016/j.isprsjprs.2021.11.018](https://doi.org/10.1016/j.isprsjprs.2021.11.018)."
   ]
  },
  {
   "cell_type": "code",
   "execution_count": null,
   "id": "e4cfcc29",
   "metadata": {},
   "outputs": [],
   "source": []
  }
 ],
 "metadata": {
  "kernelspec": {
   "display_name": "Python 3 (ipykernel)",
   "language": "python",
   "name": "python3"
  },
  "language_info": {
   "codemirror_mode": {
    "name": "ipython",
    "version": 3
   },
   "file_extension": ".py",
   "mimetype": "text/x-python",
   "name": "python",
   "nbconvert_exporter": "python",
   "pygments_lexer": "ipython3",
   "version": "3.11.0"
  }
 },
 "nbformat": 4,
 "nbformat_minor": 5
}
