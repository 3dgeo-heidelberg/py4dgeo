{
 "cells": [
  {
   "cell_type": "markdown",
   "id": "0",
   "metadata": {},
   "source": [
    "# Correspondence-driven plane-based M3C2 (PBM3C2) with known segmentation\n",
    "Implemented in: py4dgeo.pbm3c2\n",
    "\n",
    "\n",
    "**Related publication**\n",
    "* Zahs, V., Winiwarter, L., Anders, K., Williams, J.G., Rutzinger, M. & Höfle, B. (2022): Correspondence-driven plane-based M3C2 for lower uncertainty in 3D topographic change quantification. ISPRS Journal of Photogrammetry and Remote Sensing, 183, pp. 541-559. DOI: [10.1016/j.isprsjprs.2021.11.018](https://doi.org/10.1016/j.isprsjprs.2021.11.018)."
   ]
  },
  {
   "cell_type": "markdown",
   "id": "1",
   "metadata": {},
   "source": [
    "## **Method description**\n",
    "In this notebook, we present how the *Correspondence-driven plane-based M3C2* (PB-M3C2, [Zahs et al., 2022] algorithm for point cloud distance computation using the `py4dgeo` package.\n",
    "\n",
    "The concept and method of PBM3C2 are explained in this scientific talk:\n",
    "\n",
    "<a href=\"https://youtu.be/5pjkpajsRNU\" target=\"_blank\"><img src=\"https://github.com/3dgeo-heidelberg/py4dgeo/blob/main/doc/img/thumb_youtube_zahs_isprs2022.png?raw=true\" alt=\"\" width=\"400\" /></a>\n",
    "\n",
    "As PB-M3C2 is a learning algorithm, it requires user-labelled input data in the process. In this notebook, we are working with segmentation information that is already present in the input data. This is useful if you are embedding the calculation into a larger workflow where a segmentation has already been produced."
   ]
  },
  {
   "cell_type": "code",
   "execution_count": null,
   "id": "2",
   "metadata": {},
   "outputs": [],
   "source": [
    "import py4dgeo\n",
    "import numpy as np\n",
    "import pooch"
   ]
  },
  {
   "cell_type": "markdown",
   "id": "3",
   "metadata": {},
   "source": [
    "Now we download the data from an external zenodo repository."
   ]
  },
  {
   "cell_type": "code",
   "execution_count": null,
   "id": "4",
   "metadata": {},
   "outputs": [],
   "source": [
    "p = pooch.Pooch(base_url=\"doi:10.5281/zenodo.16751963/\", path=pooch.os_cache(\"py4dgeo\"))\n",
    "p.load_registry_from_doi()\n",
    "\n",
    "try:\n",
    "    # Download and extract the dataset\n",
    "    p.fetch(\"pbm3c2.zip\", processor=pooch.Unzip(members=[\"pbm3c2\"]))\n",
    "\n",
    "    # Define path to the extracted data\n",
    "    data_path = p.path / \"pbm3c2.zip.unzip\" / \"pbm3c2\"\n",
    "    print(f\"Data path: {data_path}\")\n",
    "\n",
    "    # Read XYZ files from the extracted directory\n",
    "    epoch0_path = str(data_path / \"epoch0.xyz\")\n",
    "    epoch1_path = str(data_path / \"epoch1.xyz\")\n",
    "    training_segments_path = str(data_path / \"epoch_extended_y.csv\")\n",
    "    \n",
    "except Exception as e:\n",
    "    print(f\"Failed to download or extract data: {e}\")"
   ]
  },
  {
   "cell_type": "markdown",
   "id": "5",
   "metadata": {},
   "source": [
    "We are reading the two input epochs from XYZ files which contain a total of four columns: X, Y and Z coordinates, as well a segment ID mapping each point to a segment and Normals in X, Y AND Z. The `read_from_xyz` functionality allows us to read additional data columns through its `additional_dimensions` parameter. It is expecting a dictionary that maps the column index to a column name."
   ]
  },
  {
   "cell_type": "code",
   "execution_count": null,
   "id": "6",
   "metadata": {},
   "outputs": [],
   "source": [
    "epoch0 = py4dgeo.epoch.read_from_xyz(\n",
    "    epoch0_path,\n",
    "    additional_dimensions={3: \"segment_id\", 4: \"N_x\", 5: \"N_y\", 6: \"N_z\"},\n",
    "    delimiter=\" \",\n",
    ")\n",
    "epoch1 = py4dgeo.epoch.read_from_xyz(\n",
    "    epoch1_path,\n",
    "    additional_dimensions={3: \"segment_id\", 4: \"N_x\", 5: \"N_y\", 6: \"N_z\"},\n",
    "    delimiter=\" \",\n",
    ")"
   ]
  },
  {
   "cell_type": "markdown",
   "id": "7",
   "metadata": {},
   "source": [
    "The point cloud data we use here consists of 100 planar segments, with 70 used for training and 30 for application."
   ]
  },
  {
   "cell_type": "code",
   "execution_count": null,
   "id": "8",
   "metadata": {},
   "outputs": [],
   "source": [
    "n_planes = 100\n",
    "n_train = int(0.7 * n_planes)\n",
    "train_ids = np.arange(n_train)\n",
    "apply_ids = np.arange(n_train, n_planes) "
   ]
  },
  {
   "cell_type": "markdown",
   "id": "9",
   "metadata": {},
   "source": [
    "We instantiate an instance of the algorithm class. Here, you can set the registration error for the input point cloud."
   ]
  },
  {
   "cell_type": "code",
   "execution_count": null,
   "id": "10",
   "metadata": {},
   "outputs": [],
   "source": [
    "alg= py4dgeo.PBM3C2(reg_error=0.01)"
   ]
  },
  {
   "cell_type": "markdown",
   "id": "11",
   "metadata": {},
   "source": [
    "The algorithm requires the user to provide a labeled training dataset **correspondences_file** to learn how to match the segments. This csv file contains three columns: the first two are the plane segment_id from epoch 1 and epoch 2, and the third is a label (1 for a correct match, 0 for an incorrect one)."
   ]
  },
  {
   "cell_type": "code",
   "execution_count": null,
   "id": "12",
   "metadata": {},
   "outputs": [],
   "source": [
    "correspondences_df = alg.compute(\n",
    "    epoch0=epoch0,\n",
    "    epoch1=epoch1,\n",
    "    correspondences_file=training_segments_path,\n",
    "    apply_ids=apply_ids,\n",
    "    search_radius=5.0,\n",
    ")"
   ]
  },
  {
   "cell_type": "code",
   "execution_count": null,
   "id": "13",
   "metadata": {},
   "outputs": [],
   "source": [
    "print(correspondences_df.head())"
   ]
  },
  {
   "cell_type": "code",
   "execution_count": null,
   "id": "14",
   "metadata": {},
   "outputs": [],
   "source": [
    "distances = correspondences_df[\"distance\"]\n",
    "uncertainties = correspondences_df[\"uncertainty\"]"
   ]
  },
  {
   "cell_type": "markdown",
   "id": "15",
   "metadata": {},
   "source": [
    "## References\n",
    "* Zahs, V., Winiwarter, L., Anders, K., Williams, J.G., Rutzinger, M. & Höfle, B. (2022): Correspondence-driven plane-based M3C2 for lower uncertainty in 3D topographic change quantification. ISPRS Journal of Photogrammetry and Remote Sensing, 183, pp. 541-559. DOI: [10.1016/j.isprsjprs.2021.11.018](https://doi.org/10.1016/j.isprsjprs.2021.11.018)."
   ]
  }
 ],
 "metadata": {
  "kernelspec": {
   "display_name": "p4dgeo-doc",
   "language": "python",
   "name": "python3"
  },
  "language_info": {
   "codemirror_mode": {
    "name": "ipython",
    "version": 3
   },
   "file_extension": ".py",
   "mimetype": "text/x-python",
   "name": "python",
   "nbconvert_exporter": "python",
   "pygments_lexer": "ipython3",
   "version": "3.11.13"
  }
 },
 "nbformat": 4,
 "nbformat_minor": 5
}
