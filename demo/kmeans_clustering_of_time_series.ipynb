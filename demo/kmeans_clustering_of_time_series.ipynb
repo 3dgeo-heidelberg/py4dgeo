{
 "cells": [
  {
   "cell_type": "markdown",
   "metadata": {},
   "source": [
    "# 4D change analysis of near-continuous LiDAR time series for applications in geomorphic monitoring\n",
    "\n",
    "## Time series-based change analysis of surface dynamics using time series clustering\n",
    "\n",
    "In this notebook we will perform time series-based surface change analysis on a time series of permanent TLS point clouds of the sandy beach at Kijkduin for a timespan of around 6 months (<a href=\"#references\">Vos et al., 2022</a>).\n",
    "An introduction to the case study and dataset can be found [here](https://3dgeo-heidelberg.github.io/etrainee/module3/06_casestudy_sandybeach/06_casestudy_sandybeach.html). \n",
    "\n",
    "The objective is to assess surface dynamics with time series clustering (following <a href=\"#references\">Kuschnerus et al., 2021</a>). Look into the related article for comparison of possible surface dynamics of the use case and help for deciding on suitable parameters, etc.\n",
    "\n",
    "The workflow is introduced throughout this notebook. You can also make use of the [software documentation](https://py4dgeo.readthedocs.io/en/latest/pythonapi.html)!\n",
    "\n",
    "\n",
    "## Software and data\n",
    "This task is solved using Python with the [`py4dgeo`](https://github.com/3dgeo-heidelberg/py4dgeo) library. \n",
    "\n",
    "You can use CloudCompare or GIS Software (e.g. QGIS) to check the data and visualize your results.\n",
    "\n",
    "The dataset is a subsampled version of the original time series, using 12-hourly epochs of point clouds and spatial subsampling to 50 cm. The dataset [can be downloaded](https://zenodo.org/records/10003575) (module3.zip) from the E-learning course E-TRAINEE. In the data directory `kijkduin`, you find the prepared input point clouds and a core points point cloud, which is manually cleaned from noise.\n",
    "\n",
    "[E-TRAINEE](https://github.com/3dgeo-heidelberg/etrainee) is an e-learning course on Time Series Analysis in Remote Sensing for Understanding Human-Environment Interactions. This course has been developed by research groups from four partner universities – Charles University, Heidelberg University, University of Innsbruck, and University of Warsaw."
   ]
  },
  {
   "cell_type": "markdown",
   "metadata": {},
   "source": [
    "## Loading data and calculation of surface changes\n",
    "\n",
    "We first prepare the analysis by compiling the list of files (epochs) and reading the timestamps from the file names (format `YYMMDD_hhmmss`) into `datetime` objects. Use the point cloud files and timestamps to create a py4dgeo `SpatiotemporalAnalysis` object. For this we need to instantiate the M3C2 algorithm. We can use the point cloud file `170115_150816_aoi_50cm.laz` as core points. Explore the point cloud properties in CloudCompare: \n",
    "\n",
    "* Considering the available point density and surface characteristics, what would be a suitable cylinder radius for the distance calculation?\n",
    "* What would be a suitable approach to derive the surface normals in this topography and expected types of surface changes?\n",
    "\n",
    "Hint: In this flat topography and predominant provess of sand deposition and erosion, it can be suitable to orient the normals purely vertically. In this case, they do not need to be computed, and you can [customize the py4dgeo algorithm](https://py4dgeo.readthedocs.io/en/latest/customization.html#Changing-search-directions) accordingly.\n",
    "\n",
    "We use the first point cloud in the time series (list of files) as reference epoch. We can assume a registration error of 1.9 cm for the M3C2 distance calculation (cf. <a href=\"#references\">Vos et al., 2022</a>).\n",
    "\n",
    "The spatiotemporal change information can be explored by visualizing the changes at a selected epoch and visualizing the time series at a selected location. "
   ]
  },
  {
   "cell_type": "markdown",
   "metadata": {},
   "source": [
    "First, we start by setting up the Python environment and data:"
   ]
  },
  {
   "cell_type": "code",
   "execution_count": null,
   "metadata": {},
   "outputs": [],
   "source": [
    "# Import required modules\n",
    "import os\n",
    "import numpy as np\n",
    "import py4dgeo\n",
    "from datetime import datetime\n",
    "import pooch\n",
    "\n",
    "# Download data from zenodo and set path to point cloud folder\n",
    "p = pooch.Pooch(base_url=\"doi:10.5281/zenodo.10003574/\", path=pooch.os_cache(\"py4dgeo\"))\n",
    "p.load_registry_from_doi()\n",
    "p.fetch(\"module3.zip\", processor=pooch.Unzip())\n",
    "pc_dir = p.path / \"module3.zip.unzip\" / \"module3\" / \"kijkduin\" / \"pointclouds\"\n",
    "\n",
    "# List of point clouds (time series)\n",
    "pc_list = os.listdir(pc_dir)\n",
    "pc_list[:5]  # print the first elements"
   ]
  },
  {
   "cell_type": "markdown",
   "metadata": {},
   "source": [
    "In the list of point cloud files we can see that we have one laz file per epoch available. The file name contains the timestamp of the epoch, respectively, in format `YYMMDD_hhmmss`. To use this information for our analysis, we read the timestamp information from the file names into `datetime` objects:"
   ]
  },
  {
   "cell_type": "code",
   "execution_count": null,
   "metadata": {},
   "outputs": [],
   "source": [
    "# Read the timestamps from file names\n",
    "timestamps = []\n",
    "for f in pc_list:\n",
    "    if not f.endswith(\".laz\"):\n",
    "        continue\n",
    "\n",
    "    # Get the timestamp from the file name\n",
    "    timestamp_str = \"_\".join(f.split(\".\")[0].split(\"_\")[1:])  # yields YYMMDD_hhmmss\n",
    "\n",
    "    # Convert string to datetime object\n",
    "    timestamp = datetime.strptime(timestamp_str, \"%y%m%d_%H%M%S\")\n",
    "    timestamps.append(timestamp)\n",
    "\n",
    "timestamps[:5]"
   ]
  },
  {
   "cell_type": "markdown",
   "metadata": {},
   "source": [
    "Now we use the point cloud files and timestamp information to create a `SpatiotemporalAnalysis` object."
   ]
  },
  {
   "cell_type": "code",
   "execution_count": null,
   "metadata": {},
   "outputs": [],
   "source": [
    "analysis = py4dgeo.SpatiotemporalAnalysis(pc_dir / \"kijkduin.zip\", force=True)"
   ]
  },
  {
   "cell_type": "markdown",
   "metadata": {},
   "source": [
    "As reference epoch, we use the first epoch in our time series:"
   ]
  },
  {
   "cell_type": "code",
   "execution_count": null,
   "metadata": {},
   "outputs": [],
   "source": [
    "# Specify the reference epoch\n",
    "reference_epoch_file = os.path.join(pc_dir, pc_list[0])\n",
    "\n",
    "# Read the reference epoch and set the timestamp\n",
    "reference_epoch = py4dgeo.read_from_las(reference_epoch_file)\n",
    "reference_epoch.timestamp = timestamps[0]\n",
    "\n",
    "# Set the reference epoch in the spatiotemporal analysis object\n",
    "analysis.reference_epoch = reference_epoch"
   ]
  },
  {
   "cell_type": "markdown",
   "metadata": {},
   "source": [
    "For epochs to be added, we now configure the M3C2 algorithm to derive the change values. We would like to set the normals purely vertically, so we define a customized computation of cylinder `directions`:"
   ]
  },
  {
   "cell_type": "code",
   "execution_count": null,
   "metadata": {},
   "outputs": [],
   "source": [
    "# Inherit from the M3C2 algorithm class to define a custom direction algorithm\n",
    "class M3C2_Vertical(py4dgeo.M3C2):\n",
    "    def directions(self):\n",
    "        return np.array([0, 0, 1])  # vertical vector orientation\n",
    "\n",
    "\n",
    "# Specify corepoints, here all points of the reference epoch\n",
    "analysis.corepoints = reference_epoch.cloud[::]\n",
    "\n",
    "# Specify M3C2 parameters for our custom algorithm class\n",
    "analysis.m3c2 = M3C2_Vertical(\n",
    "    cyl_radii=(1.0,), max_distance=10.0, registration_error=0.019\n",
    ")"
   ]
  },
  {
   "cell_type": "markdown",
   "metadata": {},
   "source": [
    "Now we add all the other epochs with their timestamps:"
   ]
  },
  {
   "cell_type": "code",
   "execution_count": null,
   "metadata": {},
   "outputs": [],
   "source": [
    "# Create a list to collect epoch objects\n",
    "epochs = []\n",
    "for e, pc_file in enumerate(pc_list[1:]):\n",
    "    epoch_file = pc_dir / pc_file\n",
    "    epoch = py4dgeo.read_from_las(epoch_file)\n",
    "    epoch.timestamp = timestamps[e]\n",
    "    epochs.append(epoch)\n",
    "\n",
    "# Add epoch objects to the spatiotemporal analysis object\n",
    "analysis.add_epochs(*epochs)\n",
    "\n",
    "# Print the spatiotemporal analysis data for 3 corepoints and 5 epochs, respectively\n",
    "print(f\"Space-time distance array:\\n{analysis.distances[:3,:5]}\")\n",
    "print(\n",
    "    f\"Uncertainties of M3C2 distance calculation:\\n{analysis.uncertainties['lodetection'][:3, :5]}\"\n",
    ")\n",
    "print(f\"Timestamp deltas of analysis:\\n{analysis.timedeltas[:5]}\")"
   ]
  },
  {
   "cell_type": "markdown",
   "metadata": {},
   "source": [
    "We visualize the changes in the scene for a selected epoch, together with the time series of surface changes at a selected location. The location here was selected separately in CloudCompare (as the corepoint id)."
   ]
  },
  {
   "cell_type": "code",
   "execution_count": null,
   "metadata": {},
   "outputs": [],
   "source": [
    "cp_idx_sel = 15162  # selected core point index\n",
    "epoch_idx_sel = 28  # selected epoch index\n",
    "\n",
    "# Import plotting module\n",
    "import matplotlib.pyplot as plt\n",
    "\n",
    "# Allow interactive rotation in notebook\n",
    "%matplotlib inline\n",
    "\n",
    "# Create the figure\n",
    "fig = plt.figure(figsize=(15, 5))\n",
    "ax1 = fig.add_subplot(1, 2, 1)\n",
    "ax2 = fig.add_subplot(1, 2, 2)\n",
    "\n",
    "# Get the corepoints\n",
    "corepoints = analysis.corepoints.cloud\n",
    "\n",
    "# get change values of last epoch for all corepoints\n",
    "distances = analysis.distances\n",
    "distances_epoch = [d[epoch_idx_sel] for d in distances]\n",
    "\n",
    "# Get the time series of changes at a specific core point locations\n",
    "coord_sel = analysis.corepoints.cloud[cp_idx_sel]\n",
    "timeseries_sel = distances[cp_idx_sel]\n",
    "\n",
    "# Get the list of timestamps from the reference epoch timestamp and timedeltas\n",
    "timestamps = [t + analysis.reference_epoch.timestamp for t in analysis.timedeltas]\n",
    "\n",
    "# Plot the scene\n",
    "d = ax1.scatter(\n",
    "    corepoints[:, 0],\n",
    "    corepoints[:, 1],\n",
    "    c=distances_epoch[:],\n",
    "    cmap=\"seismic_r\",\n",
    "    vmin=-1.5,\n",
    "    vmax=1.5,\n",
    "    s=1,\n",
    "    zorder=1,\n",
    ")\n",
    "plt.colorbar(d, format=(\"%.2f\"), label=\"Distance [m]\", ax=ax1, pad=0.15)\n",
    "\n",
    "# Add the location of the selected coordinate\n",
    "ax1.scatter(\n",
    "    coord_sel[0],\n",
    "    coord_sel[1],\n",
    "    facecolor=\"yellow\",\n",
    "    edgecolor=\"black\",\n",
    "    s=100,\n",
    "    zorder=2,\n",
    "    label=\"Selected location\",\n",
    "    marker=\"*\",\n",
    ")\n",
    "ax1.legend()\n",
    "\n",
    "# Configure the plot layout\n",
    "ax1.set_xlabel(\"X [m]\")\n",
    "ax1.set_ylabel(\"Y [m]\")\n",
    "ax1.set_aspect(\"equal\")\n",
    "ax1.set_title(\n",
    "    \"Changes at %s\"\n",
    "    % (analysis.reference_epoch.timestamp + analysis.timedeltas[epoch_idx_sel])\n",
    ")\n",
    "\n",
    "# Plot the time series\n",
    "ax2.scatter(timestamps, timeseries_sel, s=5, color=\"black\", label=\"Raw\")\n",
    "ax2.plot(timestamps, timeseries_sel, color=\"blue\", label=\"Smoothed\")\n",
    "ax2.set_xlabel(\"Date\")\n",
    "\n",
    "# Add the epoch of the plotted scene\n",
    "ax2.scatter(\n",
    "    timestamps[epoch_idx_sel],\n",
    "    timeseries_sel[epoch_idx_sel],\n",
    "    facecolor=\"yellow\",\n",
    "    marker=\"*\",\n",
    "    edgecolor=\"black\",\n",
    "    s=100,\n",
    "    color=\"red\",\n",
    "    label=\"Selected epoch\",\n",
    ")\n",
    "ax2.legend()\n",
    "\n",
    "# Format the date labels\n",
    "import matplotlib.dates as mdates\n",
    "\n",
    "dtFmt = mdates.DateFormatter(\"%b-%d\")\n",
    "plt.gca().xaxis.set_major_formatter(dtFmt)\n",
    "\n",
    "# Configure the plot layout\n",
    "ax2.set_ylabel(\"Distance [m]\")\n",
    "ax2.grid()\n",
    "ax2.set_ylim(-0.3, 1.6)\n",
    "ax2.set_title(\"Time series at selected location\")\n",
    "\n",
    "plt.tight_layout()\n",
    "plt.show()"
   ]
  },
  {
   "cell_type": "markdown",
   "metadata": {},
   "source": [
    "The map of changes in the scene shows us linear structures of sand deposition near the coast which can be interpreted as sand bars (with knowledge about coastal processes). This is confirmed by the surface behavior over time, expressed in the time series plot. However, the time series is quite noisy especially in this part of the beach, which is regularly covered by water during high tides (leading to missing data) and also varies strongly in surface moisture (influencing the LiDAR range measurement and causing noise). We therefore continue with temporal smoothing of the time series."
   ]
  },
  {
   "cell_type": "markdown",
   "metadata": {},
   "source": [
    "## Temporal smoothing\n",
    "\n",
    "You are dealing with a temporal subset of the original hourly time series. The effect of temporal measurement variability may therefore be less pronounced (compared to the assessment in, e.g., [Anders et al., 2019](#references)). Nonetheless, you may apply temporal smoothing to reduce the influence of noise on your change analysis using a rolling median averaging of one week. This will also fill possible gaps in your data, e.g., lower ranges during poor atmospheric conditions or no data due to water coverage during tides on the lower beach part. \n",
    "\n",
    "Visualize the raw and smoothed change values in the time series of your selected location."
   ]
  },
  {
   "cell_type": "markdown",
   "metadata": {},
   "source": [
    "We apply a rolling median with a defined temporal window of 14 epochs (corresponding to one week of 12-hourly point clouds) using the `temporal_averaging()` function in py4dgeo."
   ]
  },
  {
   "cell_type": "code",
   "execution_count": null,
   "metadata": {},
   "outputs": [],
   "source": [
    "analysis.smoothed_distances = py4dgeo.temporal_averaging(\n",
    "    analysis.distances, smoothing_window=14\n",
    ")"
   ]
  },
  {
   "cell_type": "markdown",
   "metadata": {},
   "source": [
    "Now we can compare the raw and smoothed time series at our selected location:"
   ]
  },
  {
   "cell_type": "code",
   "execution_count": null,
   "metadata": {},
   "outputs": [],
   "source": [
    "# Create the figure\n",
    "fig, ax = plt.subplots(1, 1, figsize=(7, 5))\n",
    "\n",
    "# Plot the raw time series\n",
    "ax.scatter(timestamps, timeseries_sel, color=\"blue\", label=\"raw\", s=5)\n",
    "\n",
    "# Plot the smoothed time series\n",
    "timeseries_sel_smooth = analysis.smoothed_distances[cp_idx_sel]\n",
    "ax.plot(timestamps, timeseries_sel_smooth, color=\"red\", label=\"smooth\")\n",
    "\n",
    "# Format the date labels\n",
    "import matplotlib.dates as mdates\n",
    "\n",
    "dtFmt = mdates.DateFormatter(\"%b-%d\")\n",
    "plt.gca().xaxis.set_major_formatter(dtFmt)\n",
    "\n",
    "# Add plot elements\n",
    "ax.set_xlabel(\"Date\")\n",
    "ax.set_ylabel(\"Distance [m]\")\n",
    "ax.grid()\n",
    "ax.set_ylim(-0.25, 1.25)\n",
    "\n",
    "plt.tight_layout()\n",
    "plt.show()"
   ]
  },
  {
   "cell_type": "markdown",
   "metadata": {},
   "source": [
    "From the smoothed time series at the selected location, we can now much better interpret the surface behavior. In fact, we can distinctly observe that there were two consecutive occurrences of temporary deposition of several weeks. These represent two phases where sand bars are present. They can be extracted as individual objects by the 4D objects-by-change method. Before, we continue with time series clustering and the assessment of overall change patterns in the following."
   ]
  },
  {
   "cell_type": "markdown",
   "metadata": {},
   "source": [
    "## Time series clustering\n",
    "To derive characteristic change patterns on the sandy beach, we now perform k-means clustering of the time series following <a href=\"#references\">Kuschnerus et al. (2021)</a>. We will assess the clustering for different selections of `k` numbers of clusters.\n",
    "\n",
    "* Can you interpret the characteristics of different parts on the beach? Visualize example time series for different clusters.\n",
    "* From which number of clusters do you see a clear separation in overall units of the beach area?\n",
    "* What are some detail change patterns that become visible for a higher number of clusters?\n"
   ]
  },
  {
   "cell_type": "markdown",
   "metadata": {},
   "source": [
    "We perform k-means clustering for a set of `k`s at once and collect the resulting labels for subsequent assessment:"
   ]
  },
  {
   "cell_type": "code",
   "execution_count": null,
   "metadata": {},
   "outputs": [],
   "source": [
    "# Import kmeans clustering module from scikit-learn\n",
    "from sklearn.cluster import KMeans\n",
    "\n",
    "# Use the smoothed distances for clustering\n",
    "distances = analysis.smoothed_distances\n",
    "\n",
    "# Define the number of clusters\n",
    "ks = [5, 10, 20, 50]\n",
    "\n",
    "# Create an array to store the labels\n",
    "labels = np.full((distances.shape[0], len(ks)), np.nan)\n",
    "\n",
    "# Perform clustering for each number of clusters\n",
    "for kidx, k in enumerate(ks):\n",
    "    print(f\"Performing clustering with k={k}...\")\n",
    "    nan_indicator = np.logical_not(np.isnan(np.sum(distances, axis=1)))\n",
    "    kmeans = KMeans(n_clusters=k, random_state=0).fit(distances[nan_indicator, :])\n",
    "    labels[nan_indicator, kidx] = kmeans.labels_"
   ]
  },
  {
   "cell_type": "markdown",
   "metadata": {},
   "source": [
    "Now we can visualize the resulting change patterns for different numbers of clusters:"
   ]
  },
  {
   "cell_type": "code",
   "execution_count": null,
   "metadata": {},
   "outputs": [],
   "source": [
    "fig, axs = plt.subplots(1, 4, figsize=(12, 7))\n",
    "(ax1, ax2, ax3, ax4) = axs\n",
    "\n",
    "cmap_clustering = \"tab20\"\n",
    "sc1 = ax1.scatter(\n",
    "    corepoints[:, 0],\n",
    "    corepoints[:, 1],\n",
    "    c=labels[:, 0],\n",
    "    cmap=cmap_clustering,\n",
    "    s=1,\n",
    "    label=ks[0],\n",
    ")\n",
    "\n",
    "sc2 = ax2.scatter(\n",
    "    corepoints[:, 0],\n",
    "    corepoints[:, 1],\n",
    "    c=labels[:, 1],\n",
    "    cmap=cmap_clustering,\n",
    "    s=1,\n",
    "    label=ks[1],\n",
    ")\n",
    "\n",
    "sc3 = ax3.scatter(\n",
    "    corepoints[:, 0],\n",
    "    corepoints[:, 1],\n",
    "    c=labels[:, 2],\n",
    "    cmap=cmap_clustering,\n",
    "    s=1,\n",
    "    label=ks[2],\n",
    ")\n",
    "\n",
    "sc4 = ax4.scatter(\n",
    "    corepoints[:, 0],\n",
    "    corepoints[:, 1],\n",
    "    c=labels[:, 3],\n",
    "    cmap=cmap_clustering,\n",
    "    s=1,\n",
    "    label=ks[3],\n",
    ")\n",
    "\n",
    "ax_c = 0\n",
    "for ax in axs:\n",
    "    ax.set_aspect(\"equal\")\n",
    "    ax.set_title(f\"# clusters = {ks[ax_c]}\")\n",
    "    ax_c += 1\n",
    "\n",
    "plt.tight_layout()\n",
    "plt.show()"
   ]
  },
  {
   "cell_type": "markdown",
   "metadata": {},
   "source": [
    "When using a small number of clusters (k=5), a large part of the beach is assigned to one cluster of assumingly little activity (gray area). From our exploration of changes in the scene at a selected epoch above, we further obtain two clusters with mainly deposition (blue clusters) and one cluster in the erosion areas around the pathway through the dunes. With a higher number of clusters (k=10 to k=50), the coarser clusters are further split up into (assumingly) finer patterns."
   ]
  },
  {
   "cell_type": "markdown",
   "metadata": {},
   "source": [
    "We can look into the time series properties within selected clusters, to interpret the change pattern they are representing. Here, we will check the clusters derived with k=10 by plotting the median values of all time series per cluster:"
   ]
  },
  {
   "cell_type": "code",
   "execution_count": null,
   "metadata": {},
   "outputs": [],
   "source": [
    "# Create the figure\n",
    "fig, axs = plt.subplots(1, 2, figsize=(12, 7))\n",
    "ax1, ax2 = axs\n",
    "\n",
    "# Get the labels for the selected number of clusters\n",
    "labels_k = labels[:, 1]\n",
    "\n",
    "# plot the map of clusters\n",
    "sc = ax1.scatter(\n",
    "    corepoints[:, 0], corepoints[:, 1], c=labels_k, cmap=cmap_clustering, s=1\n",
    ")\n",
    "\n",
    "# Plot the time series representing the clusters (median of each cluster)\n",
    "for l in np.unique(labels_k):\n",
    "    ax2.plot(\n",
    "        timestamps,\n",
    "        np.nanmedian(distances[labels_k == l, :], axis=0),\n",
    "        label=f\"cluster {l}\",\n",
    "    )\n",
    "\n",
    "# Format the date labels\n",
    "import matplotlib.dates as mdates\n",
    "\n",
    "dtFmt = mdates.DateFormatter(\"%b-%d\")\n",
    "plt.gca().xaxis.set_major_formatter(dtFmt)\n",
    "\n",
    "# Add plot elements\n",
    "ax1.set_aspect(\"equal\")\n",
    "ax1.set_title(f\"# clusters = {ks[1]}\")\n",
    "ax2.set_xlabel(\"Date\")\n",
    "ax2.set_ylabel(\"Distance [m]\")\n",
    "ax2.grid()\n",
    "\n",
    "plt.tight_layout()\n",
    "plt.show()"
   ]
  },
  {
   "cell_type": "markdown",
   "metadata": {},
   "source": [
    "Now we can relate the temporal behavior to the spatial clusters. For example, we see strong and sudden surface increases for the orange and red clusters (with different timing and magnitude). The gray cluster (occuring in two spatial extents) represents sand bars, which we know from our time series example above. The large coverage of the brown cluster shows a time series with little activity - except for fluctuations, especially towards the end of the observation period, which is contained in all clusters. We can assume that this represents some measurement effects in the data that could not be corrected by the preprocessing and alignment procedure ([Vos et al., 2022])."
   ]
  },
  {
   "cell_type": "markdown",
   "metadata": {},
   "source": [
    "<a id='references'></a>\n",
    "# References\n",
    "\n",
    "* Anders, K., Lindenbergh, R. C., Vos, S. E., Mara, H., de Vries, S., & Höfle, B. (2019). High-Frequency 3D Geomorphic Observation Using Hourly Terrestrial Laser Scanning Data Of A Sandy Beach. ISPRS Ann. Photogramm. Remote Sens. Spatial Inf. Sci., IV-2/W5, pp. 317-324. doi: [10.5194/isprs-annals-IV-2-W5-317-2019](https://doi.org/10.5194/isprs-annals-IV-2-W5-317-2019).\n",
    "* Anders, K., Winiwarter, L., Mara, H., Lindenbergh, R., Vos, S. E., & Höfle, B. (2021). Fully automatic spatiotemporal segmentation of 3D LiDAR time series for the extraction of natural surface changes. ISPRS Journal of Photogrammetry and Remote Sensing, 173, pp. 297-308. doi: [10.1016/j.isprsjprs.2021.01.015](https://doi.org/10.1016/j.isprsjprs.2021.01.015).\n",
    "* Kuschnerus, M., Lindenbergh, R., & Vos, S. (2021). Coastal change patterns from time series clustering of permanent laser scan data. Earth Surface Dynamics, 9 (1), pp. 89-103. doi: [10.5194/esurf-9-89-2021](https://doi.org/10.5194/esurf-9-89-2021).\n",
    "* Vos, S., Anders, K., Kuschnerus, M., Lindenberg, R., Höfle, B., Aarnikhof, S. & Vries, S. (2022). A high-resolution 4D terrestrial laser scan dataset of the Kijkduin beach-dune system, The Netherlands.  Scientific Data, 9:191. doi: [10.1038/s41597-022-01291-9](https://doi.org/10.1038/s41597-022-01291-9)."
   ]
  }
 ],
 "metadata": {
  "kernelspec": {
   "display_name": "Python 3 (ipykernel)",
   "language": "python",
   "name": "python3"
  },
  "language_info": {
   "codemirror_mode": {
    "name": "ipython",
    "version": 3
   },
   "file_extension": ".py",
   "mimetype": "text/x-python",
   "name": "python",
   "nbconvert_exporter": "python",
   "pygments_lexer": "ipython3",
   "version": "3.9.16"
  }
 },
 "nbformat": 4,
 "nbformat_minor": 4
}
