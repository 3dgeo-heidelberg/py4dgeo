{
 "cells": [
  {
   "cell_type": "markdown",
   "id": "08723bb8-973b-49ec-bb87-c3fd9d5d82e6",
   "metadata": {},
   "source": [
    "# Scalability Analysis"
   ]
  },
  {
   "cell_type": "markdown",
   "id": "685de557-b828-45bd-9fc8-5dac9df65cfc",
   "metadata": {},
   "source": [
    "Parameters to this notebook that you might want to tweak:"
   ]
  },
  {
   "cell_type": "code",
   "execution_count": null,
   "id": "04b7725e-8d4c-4559-8eb4-4016bc61c127",
   "metadata": {},
   "outputs": [],
   "source": [
    "benchmark_name = \"scalability_benchmark\"  # The name of the benchmark as defined with Google Benchmark\n",
    "output_filename = \"scaling.png\"  # The image name to save the result to\n",
    "benchmark_program = \"./bench\"  # The path to the compiled benchmark program\n",
    "hyperthreading = True  # Whether hyperthreading is enabled on the machine (will halve the number of threads)"
   ]
  },
  {
   "cell_type": "code",
   "execution_count": null,
   "id": "5dfa08ea-ac84-4efd-a9d6-5beb87d09798",
   "metadata": {},
   "outputs": [],
   "source": [
    "import json\n",
    "import matplotlib.pyplot as plt\n",
    "import os\n",
    "import pandas\n",
    "import subprocess"
   ]
  },
  {
   "cell_type": "markdown",
   "id": "45c5fc3f",
   "metadata": {},
   "source": [
    "Create the environment for our benchmark run:"
   ]
  },
  {
   "cell_type": "code",
   "execution_count": null,
   "id": "8381a2b7",
   "metadata": {},
   "outputs": [],
   "source": [
    "env = os.environ.copy()\n",
    "count = os.cpu_count()\n",
    "if hyperthreading:\n",
    "    count = count // 2\n",
    "env[\"OMP_NUM_THREADS\"] = str(count)\n",
    "env.setdefault(\"OMP_PROC_BIND\", \"spread\")"
   ]
  },
  {
   "cell_type": "markdown",
   "id": "16016710-9369-4632-aa2e-f552eb972946",
   "metadata": {},
   "source": [
    "Run the actual benchmark and load the generated data into a JSON data structure:"
   ]
  },
  {
   "cell_type": "code",
   "execution_count": null,
   "id": "697d8969-8f43-4864-af89-9e8dc79798e3",
   "metadata": {},
   "outputs": [],
   "source": [
    "process = subprocess.run(\n",
    "    f\"{benchmark_program} --benchmark_filter={benchmark_name}/* --benchmark_format=json\".split(),\n",
    "    env=env,\n",
    "    stdout=subprocess.PIPE,\n",
    ")"
   ]
  },
  {
   "cell_type": "code",
   "execution_count": null,
   "id": "d0eab3cc-09b7-4a8d-b684-864be6c91c01",
   "metadata": {},
   "outputs": [],
   "source": [
    "data = json.loads(process.stdout.decode())"
   ]
  },
  {
   "cell_type": "markdown",
   "id": "98ad2e3f-d181-4560-a276-03429bab6ca7",
   "metadata": {},
   "source": [
    "Parse the scalability data into a pandas dataframe:"
   ]
  },
  {
   "cell_type": "code",
   "execution_count": null,
   "id": "eab3ca0c-c923-4bae-97a2-ed37393454de",
   "metadata": {},
   "outputs": [],
   "source": [
    "df = pandas.read_json(json.dumps(data[\"benchmarks\"]))"
   ]
  },
  {
   "cell_type": "markdown",
   "id": "b16e57d8-6a36-49e0-bb45-90b92f2064e7",
   "metadata": {},
   "source": [
    "Do some processing that adds the relevant columns:"
   ]
  },
  {
   "cell_type": "code",
   "execution_count": null,
   "id": "f6ab77fa-624a-4b39-a667-3e32ecc0c951",
   "metadata": {},
   "outputs": [],
   "source": [
    "df = df[df.run_type == \"iteration\"]\n",
    "df[\"num_threads\"] = df[\"per_family_instance_index\"] + 1\n",
    "tseq = df.loc[lambda df: df[\"num_threads\"] == 1][\"cpu_time\"][0]\n",
    "df[\"speedup\"] = tseq / df[\"cpu_time\"]"
   ]
  },
  {
   "cell_type": "markdown",
   "id": "6f94da65-5c56-48d4-807f-143a3049fef3",
   "metadata": {},
   "source": [
    "Plot in Jupyter notebook:"
   ]
  },
  {
   "cell_type": "code",
   "execution_count": null,
   "id": "5a0cc97a-db9c-494c-91a2-d2163fd086bf",
   "metadata": {},
   "outputs": [],
   "source": [
    "fig, ax = plt.subplots()\n",
    "ax.plot(df[\"num_threads\"], df[\"num_threads\"], linestyle=\"--\", label=\"Perfect Speedup\")\n",
    "df.plot(\"num_threads\", \"speedup\", ax=ax, label=\"Measured Speedup\")\n",
    "ax = ax.legend()"
   ]
  },
  {
   "cell_type": "markdown",
   "id": "6b244d90-2717-4d5c-ba0a-97cd627c316c",
   "metadata": {},
   "source": [
    "Additionally, save to an image file:"
   ]
  },
  {
   "cell_type": "code",
   "execution_count": null,
   "id": "2758698f-7f2b-43f8-aa66-77266249cc13",
   "metadata": {},
   "outputs": [],
   "source": [
    "fig.savefig(output_filename)"
   ]
  }
 ],
 "metadata": {
  "kernelspec": {
   "display_name": "Python 3 (ipykernel)",
   "language": "python",
   "name": "python3"
  },
  "language_info": {
   "codemirror_mode": {
    "name": "ipython",
    "version": 3
   },
   "file_extension": ".py",
   "mimetype": "text/x-python",
   "name": "python",
   "nbconvert_exporter": "python",
   "pygments_lexer": "ipython3",
   "version": "3.9.7"
  }
 },
 "nbformat": 4,
 "nbformat_minor": 5
}
