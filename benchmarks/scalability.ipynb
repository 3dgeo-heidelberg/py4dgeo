{
 "cells": [
  {
   "cell_type": "markdown",
   "id": "0",
   "metadata": {},
   "source": [
    "# Scalability Analysis"
   ]
  },
  {
   "cell_type": "markdown",
   "id": "1",
   "metadata": {},
   "source": [
    "Parameters to this notebook that you might want to tweak:"
   ]
  },
  {
   "cell_type": "code",
   "execution_count": null,
   "id": "2",
   "metadata": {},
   "outputs": [],
   "source": [
    "benchmark_name = \"scalability_benchmark\"  # The name of the benchmark as defined with Google Benchmark\n",
    "output_filename = \"scaling.png\"  # The image name to save the result to\n",
    "benchmark_program = \"./bench\"  # The path to the compiled benchmark program\n",
    "hyperthreading = True  # Whether hyperthreading is enabled on the machine (will halve the number of threads)"
   ]
  },
  {
   "cell_type": "code",
   "execution_count": null,
   "id": "3",
   "metadata": {},
   "outputs": [],
   "source": [
    "import json\n",
    "import matplotlib.pyplot as plt\n",
    "import os\n",
    "import pandas\n",
    "import subprocess"
   ]
  },
  {
   "cell_type": "markdown",
   "id": "4",
   "metadata": {},
   "source": [
    "Create the environment for our benchmark run:"
   ]
  },
  {
   "cell_type": "code",
   "execution_count": null,
   "id": "5",
   "metadata": {},
   "outputs": [],
   "source": [
    "env = os.environ.copy()\n",
    "count = os.cpu_count()\n",
    "if hyperthreading:\n",
    "    count = count // 2\n",
    "env[\"OMP_NUM_THREADS\"] = str(count)\n",
    "env.setdefault(\"OMP_PROC_BIND\", \"spread\")"
   ]
  },
  {
   "cell_type": "markdown",
   "id": "6",
   "metadata": {},
   "source": [
    "Run the actual benchmark and load the generated data into a JSON data structure:"
   ]
  },
  {
   "cell_type": "code",
   "execution_count": null,
   "id": "7",
   "metadata": {},
   "outputs": [],
   "source": [
    "process = subprocess.run(\n",
    "    f\"{benchmark_program} --benchmark_filter={benchmark_name}/* --benchmark_format=json\".split(),\n",
    "    env=env,\n",
    "    stdout=subprocess.PIPE,\n",
    ")"
   ]
  },
  {
   "cell_type": "code",
   "execution_count": null,
   "id": "8",
   "metadata": {},
   "outputs": [],
   "source": [
    "data = json.loads(process.stdout.decode())"
   ]
  },
  {
   "cell_type": "markdown",
   "id": "9",
   "metadata": {},
   "source": [
    "Parse the scalability data into a pandas dataframe:"
   ]
  },
  {
   "cell_type": "code",
   "execution_count": null,
   "id": "10",
   "metadata": {},
   "outputs": [],
   "source": [
    "df = pandas.read_json(json.dumps(data[\"benchmarks\"]))"
   ]
  },
  {
   "cell_type": "markdown",
   "id": "11",
   "metadata": {},
   "source": [
    "Do some processing that adds the relevant columns:"
   ]
  },
  {
   "cell_type": "code",
   "execution_count": null,
   "id": "12",
   "metadata": {},
   "outputs": [],
   "source": [
    "df = df[df.run_type == \"iteration\"]\n",
    "df[\"num_threads\"] = df[\"per_family_instance_index\"] + 1\n",
    "tseq = df.loc[lambda df: df[\"num_threads\"] == 1][\"cpu_time\"][0]\n",
    "df[\"speedup\"] = tseq / df[\"cpu_time\"]"
   ]
  },
  {
   "cell_type": "markdown",
   "id": "13",
   "metadata": {},
   "source": [
    "Plot in Jupyter notebook:"
   ]
  },
  {
   "cell_type": "code",
   "execution_count": null,
   "id": "14",
   "metadata": {},
   "outputs": [],
   "source": [
    "fig, ax = plt.subplots()\n",
    "ax.plot(df[\"num_threads\"], df[\"num_threads\"], linestyle=\"--\", label=\"Perfect Speedup\")\n",
    "df.plot(\"num_threads\", \"speedup\", ax=ax, label=\"Measured Speedup\")\n",
    "ax = ax.legend()"
   ]
  },
  {
   "cell_type": "markdown",
   "id": "15",
   "metadata": {},
   "source": [
    "Additionally, save to an image file:"
   ]
  },
  {
   "cell_type": "code",
   "execution_count": null,
   "id": "16",
   "metadata": {},
   "outputs": [],
   "source": [
    "fig.savefig(output_filename)"
   ]
  }
 ],
 "metadata": {
  "kernelspec": {
   "display_name": "Python 3 (ipykernel)",
   "language": "python",
   "name": "python3"
  },
  "language_info": {
   "codemirror_mode": {
    "name": "ipython",
    "version": 3
   },
   "file_extension": ".py",
   "mimetype": "text/x-python",
   "name": "python",
   "nbconvert_exporter": "python",
   "pygments_lexer": "ipython3",
   "version": "3.9.7"
  }
 },
 "nbformat": 4,
 "nbformat_minor": 5
}
