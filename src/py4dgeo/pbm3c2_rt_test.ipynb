{
 "cells": [
  {
   "cell_type": "markdown",
   "id": "0",
   "metadata": {},
   "source": [
    "## test"
   ]
  },
  {
   "cell_type": "code",
   "execution_count": null,
   "id": "1",
   "metadata": {},
   "outputs": [],
   "source": [
    "import py4dgeo\n",
    "\n",
    "\n",
    "infile1 = r\"20_patches_with_seg_id.las\"\n",
    "infile2 = r\"21_patches_with_seg_id.las\"\n",
    "epoch0 = py4dgeo.epoch.read_from_las(\n",
    "    infile1,\n",
    "    additional_dimensions={\"segment_id\": \"segment_id\"},\n",
    ")\n",
    "\n",
    "epoch1 = py4dgeo.epoch.read_from_las(\n",
    "    infile2,\n",
    "    additional_dimensions={\"segment_id\": \"segment_id\"},\n",
    ")\n",
    "\n",
    "alg = py4dgeo.PBM3C2(reg_error=0.01)\n"
   ]
  },
  {
   "cell_type": "code",
   "execution_count": null,
   "id": "2",
   "metadata": {},
   "outputs": [],
   "source": [
    "import numpy as np\n",
    "import pandas as pd\n",
    "\n",
    "segments_dict1 = alg._get_segments(epoch0)\n",
    "metrics_list_df1 = alg._create_segment_metrics(segments_dict1)\n",
    "\n",
    "segments_dict2 = alg._get_segments(epoch1)\n",
    "metrics_list_df2 = alg._create_segment_metrics(segments_dict2)\n",
    "\n",
    "# use 70% of segments for training, 30% for testing\n",
    "n_total_1 = len(metrics_list_df1)\n",
    "n_total_2 = len(metrics_list_df2)\n",
    "n_train_1 = int(0.7 * n_total_1)\n",
    "n_train_2 = int(0.7 * n_total_2)\n",
    "\n",
    "train_metrics_df1 = metrics_list_df1.iloc[:n_train_1].copy()\n",
    "train_metrics_df2 = metrics_list_df2.iloc[:n_train_2].copy()\n",
    "\n",
    "train_metrics_df1 = train_metrics_df1.sample(frac=1)\n",
    "train_metrics_df2 = train_metrics_df2.sample(frac=1)\n",
    "\n",
    "train_metrics_df1 = train_metrics_df1.reset_index()\n",
    "train_metrics_df2 = train_metrics_df2.reset_index()\n",
    "\n",
    "n_pairs = min(len(train_metrics_df1), len(train_metrics_df2))\n",
    "train_metrics_df1 = train_metrics_df1.iloc[:n_pairs]\n",
    "train_metrics_df2 = train_metrics_df2.iloc[:n_pairs]\n",
    "\n",
    "print(\"train_metrics_df1 columns:\", train_metrics_df1.columns.tolist())\n",
    "print(\"train_metrics_df2 columns:\", train_metrics_df2.columns.tolist())\n",
    "\n",
    "joined_df = pd.DataFrame({\n",
    "    'segment_id_epoch0': train_metrics_df1['segment_id'].values,\n",
    "    'segment_id_epoch1': train_metrics_df2['segment_id'].values,\n",
    "})\n",
    "\n",
    "joined_df['is_matching'] = np.random.choice([0, 1], size=len(joined_df))\n",
    "\n",
    "joined_df = joined_df.dropna()\n",
    "joined_df.to_csv(r\"joined_segments.csv\", index=False, header=False)\n",
    "\n",
    "print(f\"Total segments in epoch0: {n_total_1}\")\n",
    "print(f\"Total segments in epoch1: {n_total_2}\")\n",
    "print(f\"Training set size (70%): {len(joined_df)}\")\n",
    "print(f\"Test set size (30% of epoch0): {n_total_1 - n_train_1}\")\n",
    "\n",
    "test_metrics_df1 = metrics_list_df1.iloc[n_train_1:].copy()\n",
    "apply_ids = test_metrics_df1.index.values  \n",
    "\n",
    "print(f\"Apply IDs (first 10): {apply_ids[:10]}\")"
   ]
  },
  {
   "cell_type": "code",
   "execution_count": null,
   "id": "3",
   "metadata": {},
   "outputs": [],
   "source": [
    "epoch0_seg_ids = np.unique(epoch0.additional_dimensions[\"segment_id\"])\n",
    "epoch0_seg_id_range = (epoch0_seg_ids.min(), epoch0_seg_ids.max())\n",
    "\n",
    "print(f\"Epoch0 actual segment_id range: {epoch0_seg_id_range}\")\n",
    "print(f\"Epoch0 unique segment count: {len(epoch0_seg_ids)}\")\n",
    "\n",
    "epoch1_seg_ids = np.unique(epoch1.additional_dimensions[\"segment_id\"])\n",
    "epoch1_seg_id_range = (epoch1_seg_ids.min(), epoch1_seg_ids.max())\n",
    "\n",
    "print(f\"Epoch1 actual segment_id range: {epoch1_seg_id_range}\")\n",
    "print(f\"Epoch1 unique segment count: {len(epoch1_seg_ids)}\")"
   ]
  },
  {
   "cell_type": "code",
   "execution_count": null,
   "id": "4",
   "metadata": {},
   "outputs": [],
   "source": [
    "correspondences_df = alg.compute(\n",
    "    epoch0=epoch0,\n",
    "    epoch1=epoch1,\n",
    "    correspondences_file=\"joined_segments.csv\",\n",
    "    apply_ids=apply_ids,\n",
    "    search_radius=5.0,\n",
    ")"
   ]
  },
  {
   "cell_type": "code",
   "execution_count": null,
   "id": "5",
   "metadata": {},
   "outputs": [],
   "source": [
    "print(correspondences_df)\n",
    "\n",
    "distances = correspondences_df[\"distance\"]\n",
    "uncertainties = correspondences_df[\"uncertainty\"]"
   ]
  }
 ],
 "metadata": {
  "kernelspec": {
   "display_name": "p4dgeo-doc",
   "language": "python",
   "name": "python3"
  },
  "language_info": {
   "codemirror_mode": {
    "name": "ipython",
    "version": 3
   },
   "file_extension": ".py",
   "mimetype": "text/x-python",
   "name": "python",
   "nbconvert_exporter": "python",
   "pygments_lexer": "ipython3",
   "version": "3.11.13"
  }
 },
 "nbformat": 4,
 "nbformat_minor": 5
}
